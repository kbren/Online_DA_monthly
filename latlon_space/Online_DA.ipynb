{
 "cells": [
  {
   "cell_type": "markdown",
   "metadata": {},
   "source": [
    "# Online DA: \n",
    "## CESM LME prior/LIM, HadCRUT5 observations"
   ]
  },
  {
   "cell_type": "code",
   "execution_count": 180,
   "metadata": {},
   "outputs": [],
   "source": [
    "import sys\n",
    "import numpy as np\n",
    "import xarray as xr\n",
    "\n",
    "import matplotlib.pyplot as plt\n",
    "import cartopy.crs as ccrs\n",
    "\n",
    "import pickle "
   ]
  },
  {
   "cell_type": "code",
   "execution_count": 181,
   "metadata": {},
   "outputs": [],
   "source": [
    "import Online_DA_utils as oda"
   ]
  },
  {
   "cell_type": "code",
   "execution_count": 207,
   "metadata": {},
   "outputs": [
    {
     "data": {
      "text/plain": [
       "<module 'Online_DA_utils' from '/home/disk/p/mkb22/Documents/si_analysis_kb/Online_DA_monthly/recon_scripts/Online_DA_utils.py'>"
      ]
     },
     "execution_count": 207,
     "metadata": {},
     "output_type": "execute_result"
    }
   ],
   "source": [
    "import importlib\n",
    "importlib.reload(oda)"
   ]
  },
  {
   "cell_type": "code",
   "execution_count": 4,
   "metadata": {},
   "outputs": [],
   "source": [
    "t=0"
   ]
  },
  {
   "cell_type": "markdown",
   "metadata": {},
   "source": [
    "### Load L: "
   ]
  },
  {
   "cell_type": "code",
   "execution_count": 5,
   "metadata": {},
   "outputs": [
    {
     "name": "stdout",
     "output_type": "stream",
     "text": [
      "Loading: /home/disk/kalman2/mkb22/SI_LIMs/sensitivity_testing/master/LIMcast_cesm_lme_Amon_ntrain_850_1650_cesm_lme_Amon_validy_1651_1850_tas50L0.1_psl50L0.1_zg50L0.1_tos50L0.1_sit50L40_sic50L40_20211202_sqrtWt.pkl\n"
     ]
    },
    {
     "data": {
      "text/plain": [
       "dict_keys(['vec', 'veci', 'val', 'lam_L', 'C_0', 'C_1', 'Gt', 'lam_L_adj', 'npos_eigenvalues', 'E3', 'W_all', 'standard_factor', 'E3_all', 'E_sic', 'var_dict', 'P_train', 'exp_setup', 'frac_neg_eigenvals'])"
      ]
     },
     "execution_count": 5,
     "metadata": {},
     "output_type": "execute_result"
    }
   ],
   "source": [
    "LIM = oda.load_L('cesm_lme_Amon')\n",
    "LIMd = LIM['LIMd']\n",
    "LIMd.keys()"
   ]
  },
  {
   "cell_type": "code",
   "execution_count": 6,
   "metadata": {},
   "outputs": [],
   "source": [
    "# Xb_initial = LIM['forecast']['P_train_valid'][:,2399]\n",
    "# Xb_initial.shape\n",
    "\n",
    "# Pb_initial = oda.covariance(Xb_initial[:,np.newaxis],Xb_initial[:,np.newaxis].T)\n",
    "# Pb_initial.shape"
   ]
  },
  {
   "cell_type": "code",
   "execution_count": 7,
   "metadata": {},
   "outputs": [],
   "source": [
    "Projector_tas = LIMd['E3']['tas']"
   ]
  },
  {
   "cell_type": "markdown",
   "metadata": {},
   "source": [
    "### Load HadCRUT5 observations: "
   ]
  },
  {
   "cell_type": "code",
   "execution_count": 13,
   "metadata": {},
   "outputs": [],
   "source": [
    "HadCRUT_tas, HadCRUT_lat, HadCRUT_lon, HadCRUT_time = oda.load_HadCRUT5()\n",
    "HadCRUT_lon[:36] = HadCRUT_lon[:36] +360"
   ]
  },
  {
   "cell_type": "code",
   "execution_count": 14,
   "metadata": {},
   "outputs": [],
   "source": [
    "HadCRUT_tas_nh = HadCRUT_tas[:,18:,:]\n",
    "HadCRUT_lat_nh = HadCRUT_lat[18:]"
   ]
  },
  {
   "cell_type": "code",
   "execution_count": 15,
   "metadata": {},
   "outputs": [
    {
     "data": {
      "text/plain": [
       "271"
      ]
     },
     "execution_count": 15,
     "metadata": {},
     "output_type": "execute_result"
    }
   ],
   "source": [
    "nobs_had = np.isfinite(HadCRUT_tas_nh[0,:,:]).sum()\n",
    "nobs_had"
   ]
  },
  {
   "cell_type": "code",
   "execution_count": 16,
   "metadata": {},
   "outputs": [],
   "source": [
    "HadCRUT_lat_2d = HadCRUT_lat_nh[:,np.newaxis]*np.ones((HadCRUT_lat_nh.shape[0],HadCRUT_lon.shape[0]))\n",
    "HadCRUT_lon_2d = np.ones((HadCRUT_lat_nh.shape[0],HadCRUT_lon.shape[0]))*HadCRUT_lon[np.newaxis,:]"
   ]
  },
  {
   "cell_type": "code",
   "execution_count": 17,
   "metadata": {},
   "outputs": [],
   "source": [
    "HadCRUT_obs_1d = HadCRUT_tas_nh[t,np.isfinite(HadCRUT_tas_nh[t,:,:])]\n",
    "HadCRUT_obs_lat = HadCRUT_lat_2d[np.isfinite(HadCRUT_tas_nh[t,:,:])]\n",
    "HadCRUT_obs_lon = HadCRUT_lon_2d[np.isfinite(HadCRUT_tas_nh[t,:,:])]"
   ]
  },
  {
   "cell_type": "code",
   "execution_count": 171,
   "metadata": {},
   "outputs": [
    {
     "data": {
      "text/plain": [
       "[<matplotlib.lines.Line2D at 0x7f3d3c26c128>]"
      ]
     },
     "execution_count": 171,
     "metadata": {},
     "output_type": "execute_result"
    },
    {
     "data": {
      "image/png": "[encoded data removed]",
      "text/plain": [
       "<Figure size 432x288 with 1 Axes>"
      ]
     },
     "metadata": {
      "needs_background": "light"
     },
     "output_type": "display_data"
    }
   ],
   "source": [
    "plt.plot(HadCRUT_obs_1d)"
   ]
  },
  {
   "cell_type": "markdown",
   "metadata": {},
   "source": [
    "### Build R: "
   ]
  },
  {
   "cell_type": "code",
   "execution_count": 18,
   "metadata": {},
   "outputs": [],
   "source": [
    "HadCRUT_unc_tas, HadCRUT_unc_lat, HadCRUT_unc_lon, HadCRUT_unc_time = oda.load_HadCRUT5_uncertainty()\n",
    "HadCRUT_unc_tas_nh = HadCRUT_unc_tas[:,18:,:]\n",
    "HadCRUT_unc_lat_nh = HadCRUT_unc_lat[18:]\n",
    "\n",
    "HadCRUT_obs_unc_1d = HadCRUT_unc_tas_nh[t,np.isfinite(HadCRUT_unc_tas_nh[t,:,:])]"
   ]
  },
  {
   "cell_type": "code",
   "execution_count": 19,
   "metadata": {},
   "outputs": [],
   "source": [
    "R_had = oda.covariance_nans(HadCRUT_obs_unc_1d[:,np.newaxis],HadCRUT_obs_unc_1d[:,np.newaxis].T,anomalize=False)"
   ]
  },
  {
   "cell_type": "code",
   "execution_count": 20,
   "metadata": {},
   "outputs": [
    {
     "data": {
      "text/plain": [
       "(6.598562306910381e-05, 0.018895988442822746)"
      ]
     },
     "execution_count": 20,
     "metadata": {},
     "output_type": "execute_result"
    }
   ],
   "source": [
    "R_had.min(), R_had.max()"
   ]
  },
  {
   "cell_type": "markdown",
   "metadata": {},
   "source": [
    "## Load initial conditions in lat/lon space: "
   ]
  },
  {
   "cell_type": "code",
   "execution_count": 68,
   "metadata": {},
   "outputs": [],
   "source": [
    "priorpath = '/home/disk/chaos/mkb22/Documents/SeaIceData/LME/LIMs/'\n",
    "#priorname = 'Prior_state_tas_tos_psl_zg500_sit_sic_latcut0_1_CESM_LME_Amon_time_1650.pkl.npz'\n",
    "priorname = 'Prior_state_tas_tos_psl_zg500_latcut0_1_sit_sic_latcut40_CESM_LME_Amon_time_1650.pkl.npz'\n",
    "\n",
    "#priorcov_name = 'Prior_covariance_tas_tos_psl_zg500_sit_sic_latcut0_1_CESM_LME_Amon_time_1650_1850.pkl.npz'\n",
    "priorcov_name = 'Prior_covariance_tas_tos_psl_zg500_latcut0_1_sit_sic_latcut40_CESM_LME_Amon_time_1650_1850.pkl.npz'\n",
    "\n",
    "Xb_allvars = np.load(priorpath+priorname)\n",
    "Xb_allvars_initial = Xb_allvars['Xb_allvars'][:,-12]\n",
    "Xb_initial = Xb_allvars_initial\n",
    "\n",
    "Pb_data = np.load(priorpath+priorcov_name)\n",
    "Pb_initial = Pb_data['Pb_initial']/10"
   ]
  },
  {
   "cell_type": "code",
   "execution_count": 158,
   "metadata": {},
   "outputs": [],
   "source": [
    "#Pb_initial_stand = np.matmul(Xb_initial_stand[:,np.newaxis],Xb_initial_stand[:,np.newaxis].T)/(Xb_initial_stand.shape[0]-1)"
   ]
  },
  {
   "cell_type": "code",
   "execution_count": 183,
   "metadata": {},
   "outputs": [
    {
     "data": {
      "text/plain": [
       "[<matplotlib.lines.Line2D at 0x7f3d3d2b2400>]"
      ]
     },
     "execution_count": 183,
     "metadata": {},
     "output_type": "execute_result"
    },
    {
     "data": {
      "image/png": "[encoded data removed]",
      "text/plain": [
       "<Figure size 432x288 with 1 Axes>"
      ]
     },
     "metadata": {
      "needs_background": "light"
     },
     "output_type": "display_data"
    }
   ],
   "source": [
    "plt.plot(Pb_initial[0,:])"
   ]
  },
  {
   "cell_type": "code",
   "execution_count": null,
   "metadata": {},
   "outputs": [],
   "source": [
    "# Pb_allvars = oda.covariance_nans(Xb_allvars_initial[:,np.newaxis],\n",
    "#                                  Xb_allvars_initial[:,np.newaxis].T, anomalize=False)\n",
    "\n",
    "# cesm_dir = '/home/disk/chaos/mkb22/Documents/SeaIceData/LME/LIMs/'\n",
    "# save_filename = 'Prior_covariance_tas_tos_psl_zg500_latcut0_1_sit_sic_latcut40_CESM_LME_Amon_time_1850_01.pkl.npz'\n",
    "\n",
    "# np.savez(cesm_dir+save_filename,Pb_initial=Pb_allvars)"
   ]
  },
  {
   "cell_type": "markdown",
   "metadata": {},
   "source": [
    "### Build H: \n",
    "H should be a matrix of size (nobs, nlalo) filled with zeros and ones. One one per column at the ob location. "
   ]
  },
  {
   "cell_type": "code",
   "execution_count": 161,
   "metadata": {},
   "outputs": [],
   "source": [
    "obsmask_filename = 'Hadcrut_data_mask_CESMLME_grid.pkl'\n",
    "obsmask_loc_filename = 'Hadcrut_data_mask_with_locations_CESMLME_grid.pkl'\n",
    "obsmask_loc_filename_nh = 'Hadcrut_data_mask_with_locations_CESMLME_grid_NH.pkl'\n",
    "obscesm_filename_nh = 'Hadcrut_data_on_CESMLME_grid_NH.pkl'\n",
    "\n",
    "had_ds = pickle.load(open(obsmask_loc_filename_nh,\"rb\"))\n",
    "had_mask_nh = had_ds['hadcrut_closest_CESM_gridpoint']\n",
    "locations = had_ds['lat_lon_locations']"
   ]
  },
  {
   "cell_type": "code",
   "execution_count": 162,
   "metadata": {},
   "outputs": [],
   "source": [
    "# had_cesm_ds = pickle.load(open(obscesm_filename_nh,\"rb\"))\n",
    "# had_on_refgrid = had_mask['had_on_refgrid']\n",
    "# had_on_refgrid_2d = np.reshape(had_on_refgrid,(had_on_refgrid.shape[0],ndof))"
   ]
  },
  {
   "cell_type": "code",
   "execution_count": 163,
   "metadata": {},
   "outputs": [],
   "source": [
    "H_cap, nobs, ndof = oda.build_H_time(had_mask_nh[0,:,:])"
   ]
  },
  {
   "cell_type": "code",
   "execution_count": 164,
   "metadata": {},
   "outputs": [],
   "source": [
    "H = np.zeros((nobs,Xb_initial.shape[0]))\n",
    "H[:,0:6912] = H_cap"
   ]
  },
  {
   "cell_type": "code",
   "execution_count": null,
   "metadata": {},
   "outputs": [],
   "source": [
    "#H_tas = np.matmul(H_cap, Projector_tas)\n",
    "\n",
    "# H = np.zeros((nobs,Xb_initial.shape[0]))\n",
    "# H[:,0:50] = H_tas"
   ]
  },
  {
   "cell_type": "markdown",
   "metadata": {},
   "source": [
    "## Initial timestep - Kalman Filtering: "
   ]
  },
  {
   "cell_type": "code",
   "execution_count": 188,
   "metadata": {},
   "outputs": [],
   "source": [
    "Xb_initial = np.nan_to_num(Xb_initial)\n",
    "Y = HadCRUT_obs_1d\n",
    "\n",
    "Xa, K, K_den, diff = oda.solver_KF_update(Xb_initial, Pb_initial, Y, R_had, H)"
   ]
  },
  {
   "cell_type": "code",
   "execution_count": 189,
   "metadata": {},
   "outputs": [
    {
     "name": "stdout",
     "output_type": "stream",
     "text": [
      "Prior MSE     = 12.351073919279907\n",
      "Posterior MSE = 0.08156688174871572\n"
     ]
    }
   ],
   "source": [
    "mse_xb = np.nanmean(diff**2)\n",
    "mse_xa = np.nanmean((Y - np.matmul(H,Xa))**2)\n",
    "print('Prior MSE     = '+str(mse_xb))\n",
    "print('Posterior MSE = '+str(mse_xa))"
   ]
  },
  {
   "cell_type": "code",
   "execution_count": 190,
   "metadata": {},
   "outputs": [
    {
     "name": "stdout",
     "output_type": "stream",
     "text": [
      "Median Ratio = 0.9532205423630303\n"
     ]
    }
   ],
   "source": [
    "diffcov = np.dot(diff[:,np.newaxis],diff[:,np.newaxis].T)/diff.shape[0]\n",
    "ratio2 = np.diagonal(diffcov)/np.diagonal(K_den)\n",
    "ratio = np.median(diffcov/K_den)\n",
    "print('Median Ratio = '+str(np.median(ratio2)))"
   ]
  },
  {
   "cell_type": "code",
   "execution_count": 191,
   "metadata": {},
   "outputs": [
    {
     "data": {
      "text/plain": [
       "[<matplotlib.lines.Line2D at 0x7f3aa7acdeb8>]"
      ]
     },
     "execution_count": 191,
     "metadata": {},
     "output_type": "execute_result"
    },
    {
     "data": {
      "image/png": "[encoded data removed]",
      "text/plain": [
       "<Figure size 432x288 with 1 Axes>"
      ]
     },
     "metadata": {
      "needs_background": "light"
     },
     "output_type": "display_data"
    }
   ],
   "source": [
    "plt.plot(np.diagonal(diffcov)/np.diagonal(K_den))"
   ]
  },
  {
   "cell_type": "code",
   "execution_count": 192,
   "metadata": {},
   "outputs": [],
   "source": [
    "ndof = Pb_initial.shape[0]\n",
    "\n",
    "part = np.identity(ndof) - np.matmul(K,H)\n",
    "Pa = np.matmul(part,Pb_initial)\n",
    "\n",
    "#Pa = oda.solver_KF_cov(K,H,Pb_initial)"
   ]
  },
  {
   "cell_type": "code",
   "execution_count": 195,
   "metadata": {},
   "outputs": [
    {
     "data": {
      "text/plain": [
       "<matplotlib.legend.Legend at 0x7f3aa77fb198>"
      ]
     },
     "execution_count": 195,
     "metadata": {},
     "output_type": "execute_result"
    },
    {
     "data": {
      "image/png": "[encoded data removed]",
      "text/plain": [
       "<Figure size 432x288 with 1 Axes>"
      ]
     },
     "metadata": {
      "needs_background": "light"
     },
     "output_type": "display_data"
    }
   ],
   "source": [
    "plt.plot(Pb_initial[0,:], label='Pb_initial')\n",
    "plt.plot(Pa[0,:], label = 'Pa')\n",
    "plt.legend()"
   ]
  },
  {
   "cell_type": "code",
   "execution_count": 198,
   "metadata": {},
   "outputs": [
    {
     "data": {
      "text/plain": [
       "(0.29528862076607504, 4.108058033496582)"
      ]
     },
     "execution_count": 198,
     "metadata": {},
     "output_type": "execute_result"
    }
   ],
   "source": [
    "np.var(Xb_initial[0:50]), np.var(Xa[0:50])"
   ]
  },
  {
   "cell_type": "code",
   "execution_count": 197,
   "metadata": {},
   "outputs": [
    {
     "data": {
      "text/plain": [
       "<matplotlib.legend.Legend at 0x7f3aa77a0fd0>"
      ]
     },
     "execution_count": 197,
     "metadata": {},
     "output_type": "execute_result"
    },
    {
     "data": {
      "image/png": "[encoded data removed]",
      "text/plain": [
       "<Figure size 432x288 with 1 Axes>"
      ]
     },
     "metadata": {
      "needs_background": "light"
     },
     "output_type": "display_data"
    }
   ],
   "source": [
    "plt.plot(Xb_initial[0:50], label='Xb_initial',zorder=1)\n",
    "plt.plot(Xa[0:50], label = 'Xa',zorder=0)\n",
    "plt.legend()"
   ]
  },
  {
   "cell_type": "code",
   "execution_count": 209,
   "metadata": {},
   "outputs": [],
   "source": [
    "limvars = ['tas','psl','zg','tos','sit','sic']\n",
    "\n",
    "Ptrunc_initial = {}\n",
    "standard_factor = {}\n",
    "    \n",
    "for var in limvars: \n",
    "#     [Ptrunc_initial[var], \n",
    "#     standard_factor[var]] = oda.project_validation_var(Xa[LIMd['var_dict'][var]['var_inds']][:,np.newaxis], \n",
    "#                                                        LIMd['E3'][var],LIMd['standard_factor'][var],\n",
    "#                                                        LIMd['W_all'][var], Weights=LIMd['exp_setup']['Weight'])\n",
    "    \n",
    "    Ptrunc_initial[var] = oda.project_validation_var_og(Xa[LIMd['var_dict'][var]['var_inds']][:,np.newaxis], \n",
    "                                                        LIMd['E3'][var],LIMd['standard_factor'][var],\n",
    "                                                        LIMd['W_all'][var], Weights=LIMd['exp_setup']['Weight'])\n",
    "\n",
    "[ndof_all_initial, neof_all_initial] = oda.count_ndof_all(limvars, LIMd['E3'], sic_separate=False)\n",
    "\n",
    "# [Ptrunc_all_initial, E3_all_initial] = oda.stack_variable_eofs_og(limvars, ndof_all_initial, \n",
    "#                                                                   LIMd['exp_setup']['ntrunc'],\n",
    "#                                                                   Ptrunc_initial,LIMd['E3'],LIMd['var_dict'],\n",
    "#                                                                   verbose=False)\n",
    "\n",
    "# [Ptrunc_all_initial, E3_all_initial] = oda.stack_variable_eofs(limvars, ndof_all_initial, \n",
    "#                                                                LIMd['exp_setup']['ntrunc'],\n",
    "#                                                                Ptrunc_initial,LIMd['E3'],LIMd['var_dict'],\n",
    "#                                                                verbose=False)\n",
    "\n",
    "[Ptrunc_all_initial, E3_all_initial,\n",
    " E3_all_stand_to,E3_all_stand_from] = oda.stack_variable_eofs_standardized2(limvars, ndof_all_initial, \n",
    "                                                                           LIMd['exp_setup']['ntrunc'],\n",
    "                                                                           Ptrunc_initial,LIMd['E3'],\n",
    "                                                                           LIMd['standard_factor'],\n",
    "                                                                           LIMd['var_dict'],\n",
    "                                                                           verbose=False)\n",
    "# [Ptrunc_all_initial, E3_all_initial,\n",
    "#  E3_all_stand_to,E3_all_stand_from] = oda.stack_variable_eofs_standardized(limvars, ndof_all_initial, \n",
    "#                                                                            LIMd['exp_setup']['ntrunc'],\n",
    "#                                                                            Ptrunc_initial,LIMd['E3'],\n",
    "#                                                                            standard_factor,LIMd['var_dict'],\n",
    "#                                                                            verbose=False)\n",
    "\n",
    "#     X_intial = np.concatenate((Ptrunc_all_initial, Ptrunc_sic_intial),axis=0)\n",
    "X_initial = Ptrunc_all_initial"
   ]
  },
  {
   "cell_type": "code",
   "execution_count": 210,
   "metadata": {},
   "outputs": [
    {
     "data": {
      "text/plain": [
       "[<matplotlib.lines.Line2D at 0x7f3aad9c1828>]"
      ]
     },
     "execution_count": 210,
     "metadata": {},
     "output_type": "execute_result"
    },
    {
     "data": {
      "image/png": "[encoded data removed]",
      "text/plain": [
       "<Figure size 432x288 with 1 Axes>"
      ]
     },
     "metadata": {
      "needs_background": "light"
     },
     "output_type": "display_data"
    }
   ],
   "source": [
    "plt.plot(X_initial)"
   ]
  },
  {
   "cell_type": "code",
   "execution_count": 211,
   "metadata": {},
   "outputs": [],
   "source": [
    "# P_left = np.matmul(E3_all_stand_to.T,Pa)\n",
    "# Pa_projected = np.matmul(P_left,E3_all_stand_to)\n",
    "\n",
    "P_left = np.matmul(E3_all_stand_to.T,Pa)\n",
    "Pa_projected = np.matmul(P_left,E3_all_stand_to)"
   ]
  },
  {
   "cell_type": "code",
   "execution_count": 212,
   "metadata": {},
   "outputs": [
    {
     "data": {
      "text/plain": [
       "[<matplotlib.lines.Line2D at 0x7f3aad99e7b8>]"
      ]
     },
     "execution_count": 212,
     "metadata": {},
     "output_type": "execute_result"
    },
    {
     "data": {
      "image/png": "[encoded data removed]",
      "text/plain": [
       "<Figure size 432x288 with 1 Axes>"
      ]
     },
     "metadata": {
      "needs_background": "light"
     },
     "output_type": "display_data"
    }
   ],
   "source": [
    "plt.plot(Pa_projected[0,:])"
   ]
  },
  {
   "cell_type": "code",
   "execution_count": 213,
   "metadata": {},
   "outputs": [
    {
     "data": {
      "text/plain": [
       "(35424, 300)"
      ]
     },
     "execution_count": 213,
     "metadata": {},
     "output_type": "execute_result"
    }
   ],
   "source": [
    "Pa_undo_right = np.matmul(E3_all_stand_from,Pa_projected) \n",
    "Pa_undo_right.shape"
   ]
  },
  {
   "cell_type": "code",
   "execution_count": 225,
   "metadata": {},
   "outputs": [],
   "source": [
    "Pa_undo = np.matmul(Pa_undo_right, E3_all_stand_from.T) "
   ]
  },
  {
   "cell_type": "code",
   "execution_count": 115,
   "metadata": {},
   "outputs": [],
   "source": [
    "standard_matrix = np.ones((300))\n",
    "\n",
    "standard_matrix[0:50] = standard_matrix[0:50]*standard_factor['tas']\n",
    "standard_matrix[50:100] = standard_matrix[50:100]*standard_factor['psl']\n",
    "standard_matrix[100:150] = standard_matrix[100:150]*standard_factor['zg']\n",
    "standard_matrix[150:200] = standard_matrix[150:200]*standard_factor['tos']\n",
    "standard_matrix[200:250] = standard_matrix[200:250]*standard_factor['sit']\n",
    "standard_matrix[250:300] = standard_matrix[250:300]*standard_factor['sic']"
   ]
  },
  {
   "cell_type": "code",
   "execution_count": null,
   "metadata": {},
   "outputs": [],
   "source": []
  },
  {
   "cell_type": "code",
   "execution_count": null,
   "metadata": {},
   "outputs": [],
   "source": []
  },
  {
   "cell_type": "code",
   "execution_count": null,
   "metadata": {},
   "outputs": [],
   "source": []
  },
  {
   "cell_type": "code",
   "execution_count": null,
   "metadata": {},
   "outputs": [],
   "source": []
  },
  {
   "cell_type": "code",
   "execution_count": null,
   "metadata": {},
   "outputs": [],
   "source": []
  },
  {
   "cell_type": "code",
   "execution_count": null,
   "metadata": {},
   "outputs": [],
   "source": []
  },
  {
   "cell_type": "code",
   "execution_count": null,
   "metadata": {},
   "outputs": [],
   "source": []
  },
  {
   "cell_type": "code",
   "execution_count": 116,
   "metadata": {},
   "outputs": [
    {
     "data": {
      "text/plain": [
       "((35424, 300), (35424, 300))"
      ]
     },
     "execution_count": 116,
     "metadata": {},
     "output_type": "execute_result"
    }
   ],
   "source": [
    "E3_all_initial.shape, E3_stand.shape"
   ]
  },
  {
   "cell_type": "code",
   "execution_count": 132,
   "metadata": {},
   "outputs": [
    {
     "data": {
      "text/plain": [
       "[<matplotlib.lines.Line2D at 0x7efe95857f28>]"
      ]
     },
     "execution_count": 132,
     "metadata": {},
     "output_type": "execute_result"
    },
    {
     "data": {
      "image/png": "[encoded data removed]",
      "text/plain": [
       "<Figure size 432x288 with 1 Axes>"
      ]
     },
     "metadata": {
      "needs_background": "light"
     },
     "output_type": "display_data"
    }
   ],
   "source": [
    "plt.plot(Pa[0,:])"
   ]
  },
  {
   "cell_type": "code",
   "execution_count": 120,
   "metadata": {},
   "outputs": [
    {
     "data": {
      "text/plain": [
       "(300, 35424)"
      ]
     },
     "execution_count": 120,
     "metadata": {},
     "output_type": "execute_result"
    }
   ],
   "source": [
    "E3_stand = E3_all_initial/standard_matrix[np.newaxis,:]\n",
    "\n",
    "P_left = np.matmul(E3_stand.T,Pa)\n"
   ]
  },
  {
   "cell_type": "code",
   "execution_count": 121,
   "metadata": {},
   "outputs": [],
   "source": [
    "Pa_projected = np.matmul(P_left,E3_stand)"
   ]
  },
  {
   "cell_type": "code",
   "execution_count": 122,
   "metadata": {},
   "outputs": [
    {
     "data": {
      "text/plain": [
       "[<matplotlib.lines.Line2D at 0x7efec86c84e0>]"
      ]
     },
     "execution_count": 122,
     "metadata": {},
     "output_type": "execute_result"
    },
    {
     "data": {
      "image/png": "[encoded data removed]",
      "text/plain": [
       "<Figure size 432x288 with 1 Axes>"
      ]
     },
     "metadata": {
      "needs_background": "light"
     },
     "output_type": "display_data"
    }
   ],
   "source": [
    "plt.plot(Pa_projected[0,:])"
   ]
  },
  {
   "cell_type": "code",
   "execution_count": 126,
   "metadata": {},
   "outputs": [
    {
     "data": {
      "text/plain": [
       "((300, 35424), (300, 300), (35424, 300))"
      ]
     },
     "execution_count": 126,
     "metadata": {},
     "output_type": "execute_result"
    }
   ],
   "source": [
    "E3_stand.T.shape, Pa_projected.shape, P_left.shape"
   ]
  },
  {
   "cell_type": "code",
   "execution_count": 125,
   "metadata": {},
   "outputs": [],
   "source": [
    "E3_stand = E3_all_initial*standard_matrix[np.newaxis,:]\n",
    "\n",
    "P_left = np.matmul(E3_stand,Pa_projected)"
   ]
  },
  {
   "cell_type": "code",
   "execution_count": 127,
   "metadata": {},
   "outputs": [],
   "source": [
    "Pa_undo = np.matmul(Pa_projected,E3_stand.T)"
   ]
  },
  {
   "cell_type": "code",
   "execution_count": 131,
   "metadata": {},
   "outputs": [
    {
     "data": {
      "text/plain": [
       "[<matplotlib.lines.Line2D at 0x7efe959062e8>]"
      ]
     },
     "execution_count": 131,
     "metadata": {},
     "output_type": "execute_result"
    },
    {
     "data": {
      "image/png": "[encoded data removed]",
      "text/plain": [
       "<Figure size 432x288 with 1 Axes>"
      ]
     },
     "metadata": {
      "needs_background": "light"
     },
     "output_type": "display_data"
    }
   ],
   "source": [
    "plt.plot(Pa_undo[0,0:50])"
   ]
  },
  {
   "cell_type": "code",
   "execution_count": 130,
   "metadata": {},
   "outputs": [
    {
     "data": {
      "text/plain": [
       "[<matplotlib.lines.Line2D at 0x7efe9592b5f8>]"
      ]
     },
     "execution_count": 130,
     "metadata": {},
     "output_type": "execute_result"
    },
    {
     "data": {
      "image/png": "[encoded data removed]",
      "text/plain": [
       "<Figure size 432x288 with 1 Axes>"
      ]
     },
     "metadata": {
      "needs_background": "light"
     },
     "output_type": "display_data"
    }
   ],
   "source": [
    "plt.plot(Pa[0,0:50])"
   ]
  },
  {
   "cell_type": "code",
   "execution_count": null,
   "metadata": {},
   "outputs": [],
   "source": [
    "x = X_initial\n",
    "lag = 1\n",
    "adjust = True"
   ]
  },
  {
   "cell_type": "code",
   "execution_count": null,
   "metadata": {},
   "outputs": [],
   "source": [
    "ndof = x.shape[0]\n",
    "ntims = x.shape[1]\n",
    "LIMfd = {}\n",
    "\n",
    "max_eigenval = np.real(LIMd['lam_L']).max()\n",
    "\n",
    "if adjust: \n",
    "    print('Adjust is True...')\n",
    "    if max_eigenval >0: \n",
    "        print('YES negative eigenvalue found...adjusting')\n",
    "        LIMd['frac_neg_eigenvals'] = ((LIMd['lam_L']>0).sum())/(LIMd['lam_L'].shape[0])\n",
    "        LIMd['lam_L_adj'] = LIMd['lam_L'] - (max_eigenval+0.01)\n",
    "    else: \n",
    "        print('NO negative eigenvalue found...')\n",
    "        LIMd['frac_neg_eigenvals'] = 0\n",
    "        LIMd['lam_L_adj'] = LIMd['lam_L']\n",
    "else: \n",
    "    print('Adjust is False...')\n",
    "    LIMd['frac_neg_eigenvals'] = np.nan\n",
    "    LIMd['lam_L_adj'] = LIMd['lam_L']\n",
    "\n",
    "print('lag=',lag)\n",
    "# make the propagator for this lead time\n",
    "Gt = np.real(np.matmul(np.matmul(LIMd['vec'],np.diag(np.exp(LIMd['lam_L_adj']*lag))),LIMd['veci']))\n",
    "\n",
    "# forecast mean state X:\n",
    "if lag == 0:\n",
    "    # need to handle this time separately, or the matrix dimension is off\n",
    "    x_predict = np.matmul(Gt,x)\n",
    "#           x_predict_save[k,:,:] = x_predict\n",
    "else:\n",
    "    x_predict = np.matmul(Gt,x)\n",
    "#            x_predict_save[k,:,t:] = x_predict\n",
    "\n",
    "# forecast covariance P:\n",
    "product = np.matmul(np.matmul(Gt,LIMd['C_0']),Gt.T)\n",
    "N = LIMd['C_0'] - product\n",
    "\n",
    "x_cov = oda.covariance_nans(x,x.T,anomalize=False)\n",
    "cov_product = np.matmul(np.matmul(Gt,x_cov),Gt.T)\n",
    "Cov_predict = cov_product + N"
   ]
  },
  {
   "cell_type": "code",
   "execution_count": null,
   "metadata": {},
   "outputs": [],
   "source": []
  },
  {
   "cell_type": "code",
   "execution_count": null,
   "metadata": {},
   "outputs": [],
   "source": []
  },
  {
   "cell_type": "code",
   "execution_count": null,
   "metadata": {},
   "outputs": [],
   "source": []
  },
  {
   "cell_type": "code",
   "execution_count": null,
   "metadata": {},
   "outputs": [],
   "source": []
  },
  {
   "cell_type": "code",
   "execution_count": null,
   "metadata": {},
   "outputs": [],
   "source": []
  },
  {
   "cell_type": "code",
   "execution_count": null,
   "metadata": {},
   "outputs": [],
   "source": []
  },
  {
   "cell_type": "code",
   "execution_count": null,
   "metadata": {},
   "outputs": [],
   "source": []
  },
  {
   "cell_type": "code",
   "execution_count": null,
   "metadata": {},
   "outputs": [],
   "source": [
    "Weights = LIMd['exp_setup']['Weight']\n",
    "W = LIMd['W_all'][var]\n",
    "\n",
    "if Weights is True: \n",
    "    if len(W.shape)<2:\n",
    "        W_new = W[:,np.newaxis]\n",
    "    else: \n",
    "        W_new = W\n",
    "    eofs_out = E3\n",
    "    # projection\n",
    "    P_var = np.matmul(eofs_out.T,W_new*np.nan_to_num(X))"
   ]
  },
  {
   "cell_type": "code",
   "execution_count": 55,
   "metadata": {},
   "outputs": [
    {
     "data": {
      "text/plain": [
       "(35424, 300)"
      ]
     },
     "execution_count": 55,
     "metadata": {},
     "output_type": "execute_result"
    }
   ],
   "source": [
    "E3_all_initial.shape"
   ]
  },
  {
   "cell_type": "code",
   "execution_count": null,
   "metadata": {},
   "outputs": [],
   "source": []
  },
  {
   "cell_type": "code",
   "execution_count": null,
   "metadata": {},
   "outputs": [],
   "source": []
  },
  {
   "cell_type": "code",
   "execution_count": null,
   "metadata": {},
   "outputs": [],
   "source": []
  },
  {
   "cell_type": "code",
   "execution_count": 57,
   "metadata": {},
   "outputs": [
    {
     "data": {
      "text/plain": [
       "(300, 35424)"
      ]
     },
     "execution_count": 57,
     "metadata": {},
     "output_type": "execute_result"
    }
   ],
   "source": [
    "Xb_initial_stand = np.zeros_like((Xb_initial))\n",
    "Xvar_mn = {}\n",
    "Xvar_std = {}\n",
    "\n",
    "for var in limvars: \n",
    "    X_var = Xb_initial[LIMd['var_dict'][var]['var_inds']]\n",
    "\n",
    "    Xvar_mn[var] = np.nanmean(X_var)\n",
    "    Xvar_std[var] = np.std(X_var)\n",
    "\n",
    "    Xvar_stand = (X_var - Xvar_mn[var])/Xvar_std[var]\n",
    "    \n",
    "    Xb_initial_stand[LIMd['var_dict'][var]['var_inds']] = Xvar_stand"
   ]
  },
  {
   "cell_type": "code",
   "execution_count": null,
   "metadata": {},
   "outputs": [],
   "source": []
  },
  {
   "cell_type": "code",
   "execution_count": null,
   "metadata": {},
   "outputs": [],
   "source": []
  },
  {
   "cell_type": "code",
   "execution_count": null,
   "metadata": {},
   "outputs": [],
   "source": [
    "Xa[0:6912].min(), Xa[0:6912].max()"
   ]
  },
  {
   "cell_type": "code",
   "execution_count": null,
   "metadata": {},
   "outputs": [],
   "source": [
    "Xb_initial[0:6912].min(), Xb_initial[0:6912].max()"
   ]
  },
  {
   "cell_type": "code",
   "execution_count": null,
   "metadata": {},
   "outputs": [],
   "source": [
    "def project_validation_var(X, E3, standard_factor, W, Weights=False): \n",
    "    \"\"\"\n",
    "    \"\"\"\n",
    "    if Weights is True: \n",
    "        if len(W.shape)<2:\n",
    "            W_new = W[:,np.newaxis]\n",
    "        else: \n",
    "            W_new = W\n",
    "        eofs_out = E3\n",
    "        # projection\n",
    "        P_var = np.matmul(eofs_out.T,W_new*np.nan_to_num(X))\n",
    "    else: \n",
    "        eofs_out = E3\n",
    "        # projection\n",
    "        P_var = np.matmul(eofs_out.T,np.nan_to_num(X))\n",
    "\n",
    "    standard_factor = np.sqrt(np.var(P_var))\n",
    "    Ptrunc = P_var/standard_factor\n",
    "        \n",
    "    return Ptrunc, standard_factor"
   ]
  },
  {
   "cell_type": "code",
   "execution_count": null,
   "metadata": {},
   "outputs": [],
   "source": [
    "limvars = ['tas','psl','zg','tos','sit','sic']"
   ]
  },
  {
   "cell_type": "code",
   "execution_count": null,
   "metadata": {},
   "outputs": [],
   "source": [
    "Ptrunc_initial = {}\n",
    "standard_factor = {}\n",
    "    \n",
    "for var in limvars: \n",
    "    [Ptrunc_initial[var], \n",
    "    standard_factor[var]] = oda.project_validation_var(Xa[LIMd['var_dict'][var]['var_inds']][:,np.newaxis], \n",
    "                                                       LIMd['E3'][var],LIMd['standard_factor'][var],\n",
    "                                                       LIMd['W_all'][var], Weights=LIMd['exp_setup']['Weight'])\n",
    "\n",
    "[ndof_all_initial, neof_all_initial] = oda.count_ndof_all(limvars, LIMd['E3'], sic_separate=False)\n",
    "\n",
    "[Ptrunc_all_initial, E3_all_initial] = oda.stack_variable_eofs(limvars, ndof_all_initial, \n",
    "                                                               LIMd['exp_setup']['ntrunc'],\n",
    "                                                               Ptrunc_initial,LIMd['E3'],LIMd['var_dict'],\n",
    "                                                               verbose=False)\n",
    "\n",
    "#     X_intial = np.concatenate((Ptrunc_all_initial, Ptrunc_sic_intial),axis=0)\n",
    "X_initial = Ptrunc_all_initial"
   ]
  },
  {
   "cell_type": "code",
   "execution_count": null,
   "metadata": {},
   "outputs": [],
   "source": [
    "plt.plot(X_initial)\n",
    "plt.ylim(-5,5)"
   ]
  },
  {
   "cell_type": "code",
   "execution_count": null,
   "metadata": {},
   "outputs": [],
   "source": []
  },
  {
   "cell_type": "code",
   "execution_count": null,
   "metadata": {},
   "outputs": [],
   "source": []
  },
  {
   "cell_type": "code",
   "execution_count": null,
   "metadata": {},
   "outputs": [],
   "source": []
  },
  {
   "cell_type": "code",
   "execution_count": null,
   "metadata": {},
   "outputs": [],
   "source": []
  },
  {
   "cell_type": "code",
   "execution_count": null,
   "metadata": {},
   "outputs": [],
   "source": [
    "limvars"
   ]
  },
  {
   "cell_type": "code",
   "execution_count": null,
   "metadata": {},
   "outputs": [],
   "source": [
    "plt.plot(Pa[0,:])"
   ]
  },
  {
   "cell_type": "code",
   "execution_count": null,
   "metadata": {},
   "outputs": [],
   "source": [
    "plt.plot(Pb_initial[:,0])\n",
    "plt.plot(Pa[:,0])"
   ]
  },
  {
   "cell_type": "code",
   "execution_count": null,
   "metadata": {},
   "outputs": [],
   "source": [
    "standard_matrix = np.ones((300))\n",
    "\n",
    "standard_matrix[0:50] = standard_matrix[0:50]*standard_factor['tas']\n",
    "standard_matrix[50:100] = standard_matrix[0:50]*standard_factor['psl']\n",
    "standard_matrix[100:150] = standard_matrix[0:50]*standard_factor['zg']\n",
    "standard_matrix[150:200] = standard_matrix[0:50]*standard_factor['tos']\n",
    "standard_matrix[200:250] = standard_matrix[0:50]*standard_factor['sit']\n",
    "standard_matrix[250:300] = standard_matrix[0:50]*standard_factor['sic']"
   ]
  },
  {
   "cell_type": "code",
   "execution_count": null,
   "metadata": {},
   "outputs": [],
   "source": [
    "var = 'tas'\n",
    "Pa_proj = project_validation_var(Pa[LIMd['var_dict'][var]['var_inds']], \n",
    "                                 LIMd['E3'][var],LIMd['standard_factor'][var],\n",
    "                                 LIMd['W_all'][var], Weights=LIMd['exp_setup']['Weight'])"
   ]
  },
  {
   "cell_type": "code",
   "execution_count": null,
   "metadata": {},
   "outputs": [],
   "source": [
    "(E3_all_initial.T/standard_matrix[:,np.newaxis]).shape"
   ]
  },
  {
   "cell_type": "code",
   "execution_count": null,
   "metadata": {},
   "outputs": [],
   "source": [
    "Pa_left2 = np.matmul((E3_all_initial.T),Pb_allvars)"
   ]
  },
  {
   "cell_type": "code",
   "execution_count": null,
   "metadata": {},
   "outputs": [],
   "source": [
    "np.var(Pa_left2[0,6912:(6912*2)])"
   ]
  },
  {
   "cell_type": "code",
   "execution_count": null,
   "metadata": {},
   "outputs": [],
   "source": [
    "Pa_proj = np.matmul(Pa_left2, E3_all_initial)"
   ]
  },
  {
   "cell_type": "code",
   "execution_count": null,
   "metadata": {},
   "outputs": [],
   "source": [
    "plt.plot(Pa_proj[:,0])"
   ]
  },
  {
   "cell_type": "code",
   "execution_count": null,
   "metadata": {},
   "outputs": [],
   "source": [
    "plt.plot(Pa_left2[:,0])"
   ]
  },
  {
   "cell_type": "code",
   "execution_count": null,
   "metadata": {},
   "outputs": [],
   "source": [
    "plt.plot(Pa_left[:,0])"
   ]
  },
  {
   "cell_type": "code",
   "execution_count": null,
   "metadata": {},
   "outputs": [],
   "source": [
    "Pb_test = Pb_initial[0,:]/(stand_fact)"
   ]
  },
  {
   "cell_type": "code",
   "execution_count": null,
   "metadata": {},
   "outputs": [],
   "source": [
    "np.var(Pb_test[0:6912])"
   ]
  },
  {
   "cell_type": "code",
   "execution_count": null,
   "metadata": {},
   "outputs": [],
   "source": [
    "plt.plot(Pb_initial[0,:]/(stand_fact))"
   ]
  },
  {
   "cell_type": "code",
   "execution_count": null,
   "metadata": {},
   "outputs": [],
   "source": [
    "Pb_initial[0,:].shape"
   ]
  },
  {
   "cell_type": "code",
   "execution_count": null,
   "metadata": {},
   "outputs": [],
   "source": [
    "plt.plot(Xb_initial[])"
   ]
  },
  {
   "cell_type": "code",
   "execution_count": null,
   "metadata": {},
   "outputs": [],
   "source": [
    "stand = {}\n",
    "for var in limvars: \n",
    "    stand[var] = np.sqrt(np.var(Xb_initial[LIMd['var_dict'][var]['var_inds']]))"
   ]
  },
  {
   "cell_type": "code",
   "execution_count": null,
   "metadata": {},
   "outputs": [],
   "source": [
    "stand"
   ]
  },
  {
   "cell_type": "code",
   "execution_count": null,
   "metadata": {},
   "outputs": [],
   "source": [
    "stand_fact = np.ones_like(Xb_initial)\n",
    "for var in limvars: \n",
    "    stand_fact[LIMd['var_dict'][var]['var_inds']] = stand_fact[LIMd['var_dict'][var]['var_inds']]*stand[var]"
   ]
  },
  {
   "cell_type": "code",
   "execution_count": null,
   "metadata": {},
   "outputs": [],
   "source": [
    "Pb_allvars = oda.covariance_nans((Xb_initial/stand_fact)[:,np.newaxis],\n",
    "                                 (Xb_initial/stand_fact)[:,np.newaxis].T, anomalize=False)"
   ]
  },
  {
   "cell_type": "code",
   "execution_count": null,
   "metadata": {},
   "outputs": [],
   "source": [
    "np.var(Pb_allvars[0,0:6912])"
   ]
  },
  {
   "cell_type": "code",
   "execution_count": null,
   "metadata": {},
   "outputs": [],
   "source": [
    " plt.plot(Pb_allvars[0,:])"
   ]
  },
  {
   "cell_type": "code",
   "execution_count": null,
   "metadata": {},
   "outputs": [],
   "source": [
    " plt.plot(Pb_allvars[:,0])"
   ]
  },
  {
   "cell_type": "code",
   "execution_count": null,
   "metadata": {},
   "outputs": [],
   "source": [
    "np.var(Pb_allvars[0:6912,0])"
   ]
  },
  {
   "cell_type": "code",
   "execution_count": null,
   "metadata": {},
   "outputs": [],
   "source": [
    "plt.plot(Ptrunc_initial['tos'])\n",
    "plt.plot(Ptrunc_initial['zg'])\n",
    "plt.plot(Ptrunc_initial['tas'])\n",
    "\n",
    "plt.ylim(-1,1)"
   ]
  },
  {
   "cell_type": "code",
   "execution_count": null,
   "metadata": {},
   "outputs": [],
   "source": [
    "Pa_calc = oda.covariance_nans(X_initial, X_initial.T,anomalize=False)"
   ]
  },
  {
   "cell_type": "code",
   "execution_count": null,
   "metadata": {},
   "outputs": [],
   "source": [
    "Pa_trunc = np.matmul(np.matmul(E3_all_initial.T,Pa),E3_all_initial)"
   ]
  },
  {
   "cell_type": "code",
   "execution_count": null,
   "metadata": {},
   "outputs": [],
   "source": [
    "plt.plot(Pa_trunc[0,:])"
   ]
  },
  {
   "cell_type": "code",
   "execution_count": null,
   "metadata": {},
   "outputs": [],
   "source": []
  },
  {
   "cell_type": "code",
   "execution_count": null,
   "metadata": {},
   "outputs": [],
   "source": []
  },
  {
   "cell_type": "code",
   "execution_count": null,
   "metadata": {},
   "outputs": [],
   "source": []
  },
  {
   "cell_type": "code",
   "execution_count": null,
   "metadata": {},
   "outputs": [],
   "source": [
    "P_weighted = np.zeros_like(Pa)\n",
    "\n",
    "for var in limvars:\n",
    "    print('Working on '+var)\n",
    "    standard_factor = LIMd['standard_factor'][var]\n",
    "    E3 = LIMd['E3'][var]\n",
    "    W = LIMd['W_all'][var]\n",
    "    Weights = LIMd['exp_setup']['Weight']\n",
    "    var_inds = LIMd['var_dict'][var]['var_inds']\n",
    "    X = Pa[var_inds[0]:var_inds[-1]+1,var_inds[0]:var_inds[-1]+1]\n",
    "\n",
    "    if Weights is True: \n",
    "        if len(W.shape)<2:\n",
    "            W_new = W[:,np.newaxis]\n",
    "        else: \n",
    "            W_new = W\n",
    "        factor = (W_new/standard_factor)**2\n",
    "        \n",
    "        P_weighted[var_inds[0]:var_inds[-1]+1,var_inds[0]:var_inds[-1]+1] = (factor*np.nan_to_num(X))"
   ]
  },
  {
   "cell_type": "code",
   "execution_count": null,
   "metadata": {},
   "outputs": [],
   "source": [
    "Pa_trunc = np.matmul(np.matmul(E3_all_initial.T,P_weighted),E3_all_initial)"
   ]
  },
  {
   "cell_type": "code",
   "execution_count": null,
   "metadata": {},
   "outputs": [],
   "source": [
    "Pa_trunc.shape"
   ]
  },
  {
   "cell_type": "code",
   "execution_count": null,
   "metadata": {},
   "outputs": [],
   "source": [
    "plt.pcolormesh(Pa_trunc)"
   ]
  },
  {
   "cell_type": "code",
   "execution_count": null,
   "metadata": {},
   "outputs": [],
   "source": [
    "plt.pcolormesh(Pa_trunc)"
   ]
  },
  {
   "cell_type": "code",
   "execution_count": null,
   "metadata": {},
   "outputs": [],
   "source": [
    "plt.pcolormesh(Pa_calc)"
   ]
  },
  {
   "cell_type": "code",
   "execution_count": null,
   "metadata": {},
   "outputs": [],
   "source": [
    "LIM_Xfcast = oda.LIM_forecast(LIMd,X_initial,1,adjust=False)"
   ]
  },
  {
   "cell_type": "code",
   "execution_count": null,
   "metadata": {},
   "outputs": [],
   "source": [
    "LIM_Xfcast['x_forecast']"
   ]
  },
  {
   "cell_type": "code",
   "execution_count": null,
   "metadata": {},
   "outputs": [],
   "source": [
    "Xb_intitial, E3_all = oda.decompress_eof_separate_sic(LIM_Xfcast['x_forecast'],LIMd)"
   ]
  },
  {
   "cell_type": "code",
   "execution_count": null,
   "metadata": {},
   "outputs": [],
   "source": [
    "x = X_initial\n",
    "lag = 1\n",
    "adjust = True"
   ]
  },
  {
   "cell_type": "code",
   "execution_count": null,
   "metadata": {},
   "outputs": [],
   "source": [
    "ndof = x.shape[0]\n",
    "ntims = x.shape[1]\n",
    "LIMfd = {}\n",
    "\n",
    "max_eigenval = np.real(LIMd['lam_L']).max()\n",
    "\n",
    "if adjust: \n",
    "    print('Adjust is True...')\n",
    "    if max_eigenval >0: \n",
    "        print('YES negative eigenvalue found...adjusting')\n",
    "        LIMd['frac_neg_eigenvals'] = ((LIMd['lam_L']>0).sum())/(LIMd['lam_L'].shape[0])\n",
    "        LIMd['lam_L_adj'] = LIMd['lam_L'] - (max_eigenval+0.01)\n",
    "    else: \n",
    "        print('NO negative eigenvalue found...')\n",
    "        LIMd['frac_neg_eigenvals'] = 0\n",
    "        LIMd['lam_L_adj'] = LIMd['lam_L']\n",
    "else: \n",
    "    print('Adjust is False...')\n",
    "    LIMd['frac_neg_eigenvals'] = np.nan\n",
    "    LIMd['lam_L_adj'] = LIMd['lam_L']\n",
    "\n",
    "print('lag=',lag)\n",
    "# make the propagator for this lead time\n",
    "Gt = np.real(np.matmul(np.matmul(LIMd['vec'],np.diag(np.exp(LIMd['lam_L_adj']*lag))),LIMd['veci']))\n",
    "\n",
    "# forecast mean state X:\n",
    "if lag == 0:\n",
    "    # need to handle this time separately, or the matrix dimension is off\n",
    "    x_predict = np.matmul(Gt,x)\n",
    "#           x_predict_save[k,:,:] = x_predict\n",
    "else:\n",
    "    x_predict = np.matmul(Gt,x)\n",
    "#            x_predict_save[k,:,t:] = x_predict\n",
    "\n",
    "# forecast covariance P:\n",
    "product = np.matmul(np.matmul(Gt,LIMd['C_0']),Gt.T)\n",
    "N = LIMd['C_0'] - product\n",
    "\n",
    "x_cov = oda.covariance_nans(x,x.T,anomalize=False)\n",
    "cov_product = np.matmul(np.matmul(Gt,x_cov),Gt.T)\n",
    "Cov_predict = cov_product + N"
   ]
  },
  {
   "cell_type": "code",
   "execution_count": null,
   "metadata": {},
   "outputs": [],
   "source": [
    "Cov_predict.min(), Cov_predict.max()"
   ]
  },
  {
   "cell_type": "code",
   "execution_count": null,
   "metadata": {},
   "outputs": [],
   "source": [
    "x_predict.min(), x_predict.max(), x.min(),x.max()"
   ]
  },
  {
   "cell_type": "code",
   "execution_count": null,
   "metadata": {},
   "outputs": [],
   "source": [
    "nmodes = LIMd['E3_all'].shape[1]\n",
    "\n",
    "Xb_intitial, E3_all = oda.decompress_eof_separate_sic(x_predict,LIMd)\n",
    "\n",
    "Pb_initial = np.matmul(np.matmul(E3_all,Cov_predict),E3_all.T)"
   ]
  },
  {
   "cell_type": "code",
   "execution_count": null,
   "metadata": {},
   "outputs": [],
   "source": [
    "Pb_initial.min(), Pb_initial.max()"
   ]
  },
  {
   "cell_type": "code",
   "execution_count": null,
   "metadata": {},
   "outputs": [],
   "source": [
    "Xb_intitial.min(), Xb_intitial.max()"
   ]
  },
  {
   "cell_type": "code",
   "execution_count": null,
   "metadata": {},
   "outputs": [],
   "source": [
    "np.nanmin(Xb_allvars_initial), np.nanmax(Xb_allvars_initial)"
   ]
  },
  {
   "cell_type": "code",
   "execution_count": null,
   "metadata": {},
   "outputs": [],
   "source": [
    "(Pb_data['Pb_initial']/10).min(), (Pb_data['Pb_initial']/10).max()"
   ]
  },
  {
   "cell_type": "code",
   "execution_count": null,
   "metadata": {},
   "outputs": [],
   "source": [
    "np.concatenate((LIMd['E3_all'], LIMd['E_sic']), axis=0).shape"
   ]
  },
  {
   "cell_type": "code",
   "execution_count": null,
   "metadata": {},
   "outputs": [],
   "source": [
    "X_initial.min(), X_initial.max()"
   ]
  },
  {
   "cell_type": "code",
   "execution_count": null,
   "metadata": {},
   "outputs": [],
   "source": [
    "plt.plot(X_initial)\n",
    "plt.ylim(0,10)"
   ]
  },
  {
   "cell_type": "code",
   "execution_count": null,
   "metadata": {},
   "outputs": [],
   "source": [
    "limvars"
   ]
  },
  {
   "cell_type": "code",
   "execution_count": null,
   "metadata": {},
   "outputs": [],
   "source": [
    "plt.plot(Xb_allvars_initial)\n",
    "plt.ylim(0,10)"
   ]
  },
  {
   "cell_type": "code",
   "execution_count": null,
   "metadata": {},
   "outputs": [],
   "source": [
    "np.nanvar(Xb_allvars_initial[0:9612])"
   ]
  },
  {
   "cell_type": "code",
   "execution_count": null,
   "metadata": {},
   "outputs": [],
   "source": []
  },
  {
   "cell_type": "code",
   "execution_count": null,
   "metadata": {},
   "outputs": [],
   "source": [
    "Pa = oda.solver_KF_cov(K,H,Pb_initial)"
   ]
  },
  {
   "cell_type": "code",
   "execution_count": null,
   "metadata": {},
   "outputs": [],
   "source": [
    "mse_xb = np.nanmean(diff**2)\n",
    "mse_xa = np.nanmean((Y - np.matmul(H,Xa))**2)"
   ]
  },
  {
   "cell_type": "code",
   "execution_count": null,
   "metadata": {},
   "outputs": [],
   "source": [
    "print('Prior MSE     = '+str(mse_xb))\n",
    "print('Posterior MSE = '+str(mse_xa))"
   ]
  },
  {
   "cell_type": "code",
   "execution_count": null,
   "metadata": {},
   "outputs": [],
   "source": [
    "cesmdir = '/home/disk/chaos/mkb22/Documents/SeaIceData/LME/LIMs/'\n",
    "filename = 'tas_sfc_Amon_CESM_LMEallforc_001_085001-200512.nc'\n",
    "data_cesm_lme = xr.open_dataset(cesmdir+filename)\n",
    "cesm_lat = data_cesm_lme.lat.values\n",
    "cesm_lat_nh = cesm_lat[48:]\n",
    "cesm_lon = data_cesm_lme.lon.values"
   ]
  },
  {
   "cell_type": "code",
   "execution_count": null,
   "metadata": {},
   "outputs": [],
   "source": [
    "ref_arg_lon = [int(i) for i in locations[0]['reference_arg_lon']]\n",
    "ref_arg_lat = [int(i) for i in locations[0]['reference_arg_lat']]"
   ]
  },
  {
   "cell_type": "code",
   "execution_count": null,
   "metadata": {},
   "outputs": [],
   "source": [
    "fig = plt.figure(1, figsize=(16, 6))\n",
    "axs = plt.axes(projection=ccrs.Robinson())\n",
    "axs.coastlines()\n",
    "\n",
    "axs.pcolormesh(cesm_lon,cesm_lat_nh,np.reshape(Xb_initial[0:6912],(48,144)),\n",
    "               cmap='RdBu_r',transform=ccrs.PlateCarree(),vmin=-18, vmax=18)\n",
    "\n",
    "cb = axs.scatter(cesm_lon[ref_arg_lon],cesm_lat_nh[ref_arg_lat],\n",
    "                s=40,c=HadCRUT_obs_1d,cmap='RdBu_r',edgecolor='k',\n",
    "                 transform=ccrs.PlateCarree(),vmin=-18, vmax=18)\n",
    "\n",
    "plt.colorbar(cb, orientation='horizontal', shrink=0.7, label='K')\n",
    "plt.title('Prior vs. HadCRUT Observations', fontsize=18)"
   ]
  },
  {
   "cell_type": "code",
   "execution_count": null,
   "metadata": {},
   "outputs": [],
   "source": [
    "fig = plt.figure(1, figsize=(16, 6))\n",
    "axs = plt.axes(projection=ccrs.Robinson())\n",
    "axs.coastlines()\n",
    "\n",
    "axs.pcolormesh(cesm_lon,cesm_lat_nh,np.reshape(Xa[0:6912],(48,144)),\n",
    "               cmap='RdBu_r',transform=ccrs.PlateCarree(),vmin=-18, vmax=18)\n",
    "\n",
    "cb = axs.scatter(cesm_lon[ref_arg_lon],cesm_lat_nh[ref_arg_lat],\n",
    "                s=40,c=HadCRUT_obs_1d,cmap='RdBu_r',edgecolor='k',\n",
    "                 transform=ccrs.PlateCarree(),vmin=-18, vmax=18)\n",
    "\n",
    "plt.colorbar(cb, orientation='horizontal', shrink=0.7, label='K')\n",
    "plt.title('Analysis vs Observations', fontsize=18)"
   ]
  },
  {
   "cell_type": "markdown",
   "metadata": {},
   "source": [
    "## Initial timestep - Forecast: \n",
    "1. First project analysis (covariance and mean state) into EOF space:  \n",
    "2. Forecast (covariance and mean state) one timestep\n",
    "3. Project back into full field space for assimilation at time t = t + dt"
   ]
  },
  {
   "cell_type": "code",
   "execution_count": null,
   "metadata": {},
   "outputs": [],
   "source": [
    "def project_validation_var(X, E3, standard_factor, W, Weights=False): \n",
    "    \"\"\"\n",
    "    \"\"\"\n",
    "    if Weights is True: \n",
    "        if len(W.shape)<2:\n",
    "            W_new = W[:,np.newaxis]\n",
    "        else: \n",
    "            W_new = W\n",
    "        eofs_out = E3/standard_factor\n",
    "        # projection\n",
    "        P_var = np.matmul(eofs_out.T,W_new*np.nan_to_num(X))\n",
    "    else: \n",
    "        eofs_out = E3/standard_factor\n",
    "        # projection\n",
    "        P_var = np.matmul(eofs_out.T,np.nan_to_num(X))\n",
    "\n",
    "    Ptrunc = P_var/standard_factor\n",
    "        \n",
    "    return Ptrunc"
   ]
  },
  {
   "cell_type": "code",
   "execution_count": null,
   "metadata": {},
   "outputs": [],
   "source": [
    "def stack_variable_eofs(limvars, ndof_all, ntrunc, Ptrunc, E3, \n",
    "                        var_dict,nmonths=1,sic_separate=False, \n",
    "                        verbose=False): \n",
    "    start = 0\n",
    "    if sic_separate is True: \n",
    "        limvars_nosic = [l for l in limvars if l not in 'sic']\n",
    "        nvars = len(limvars_nosic)\n",
    "        E3_all = np.zeros([ndof_all,int(ntrunc*(nvars)),nmonths])\n",
    "        if nmonths == 1: \n",
    "            E3_all = np.squeeze(E3_all)\n",
    "\n",
    "        for v,var in enumerate(limvars_nosic):\n",
    "            print(str(v) + ', '+var)\n",
    "            if v == 0: \n",
    "                Ptrunc_all = Ptrunc[var]\n",
    "            else: \n",
    "                Ptrunc_all = np.concatenate((Ptrunc_all,Ptrunc[var]),axis=0)\n",
    "                \n",
    "            E3_all[var_dict[var]['var_inds'],int(v*ntrunc):int((v+1)*ntrunc)] = E3[var]\n",
    "            \n",
    "            if verbose is True: \n",
    "                print(E3_all[18430:18435,0])\n",
    "                print('start: '+str(start)+' end: '+str(start+var_dict[var]['var_ndof'])+' '+str(v*ntrunc))\n",
    "#            start = start+var_dict[var]['var_ndof']\n",
    "\n",
    "        Ptrunc_sic = Ptrunc['sic']\n",
    "        E_sic = E3['sic']\n",
    "    else: \n",
    "        nvars = len(limvars)\n",
    "        E3_all = np.zeros([ndof_all,int(ntrunc*(nvars))])\n",
    "        if nmonths == 1: \n",
    "            E3_all = np.squeeze(E3_all)\n",
    "\n",
    "        for v,var in enumerate(limvars):\n",
    "            if v == 0: \n",
    "                Ptrunc_all = Ptrunc[var]\n",
    "            else: \n",
    "                Ptrunc_all = np.concatenate((Ptrunc_all,Ptrunc[var]),axis=0)\n",
    "            E3_all[var_dict[var]['var_inds'],int(v*ntrunc):int((v+1)*ntrunc)] = E3[var]\n",
    "            \n",
    "            if verbose is True:\n",
    "                print(E3_all[18430:18435,0])\n",
    "                print('start: '+str(start)+' end: '+str(start+var_dict[var]['var_ndof'])+' '+str(v*ntrunc))\n",
    "#            start = start+var_dict[var]['var_ndof']\n",
    "            \n",
    "    if sic_separate == True: \n",
    "        return Ptrunc_all, E3_all, Ptrunc_sic, E_sic\n",
    "    else: \n",
    "        return Ptrunc_all, E3_all"
   ]
  },
  {
   "cell_type": "code",
   "execution_count": null,
   "metadata": {},
   "outputs": [],
   "source": [
    "def count_ndof_all(limvars, E3, sic_separate=False): \n",
    "    #Count total degrees of freedom: \n",
    "    if sic_separate is True: \n",
    "        if len(limvars) <2: \n",
    "            ndof_all = 0\n",
    "        else: \n",
    "            limvars_nosic = [l for l in limvars if l not in 'sic']\n",
    "            for v,var in enumerate(limvars_nosic):\n",
    "                if v == 0: \n",
    "                    ndof_all = E3[var].shape[0]\n",
    "                else: \n",
    "                    ndof_all = ndof_all+E3[var].shape[0]\n",
    "    else: \n",
    "        for v,var in enumerate(limvars):\n",
    "            if v == 0: \n",
    "                ndof_all = E3[var].shape[0]\n",
    "            else: \n",
    "                ndof_all = ndof_all+E3[var].shape[0]\n",
    "            print(ndof_all)\n",
    "            \n",
    "    return ndof_all\n"
   ]
  },
  {
   "cell_type": "code",
   "execution_count": null,
   "metadata": {},
   "outputs": [],
   "source": [
    "def get_var_indices(limvars, var_dict): \n",
    "    \"\"\"Get indices for each variable\n",
    "    \"\"\"\n",
    "    start = 0\n",
    "    for k, var in enumerate(limvars): \n",
    "        print('working on '+var)\n",
    "        inds = var_dict[var]['var_ndof']\n",
    "        var_inds = np.arange(start,start+inds,1)\n",
    "        start = inds+start\n",
    "\n",
    "        var_dict[var]['var_inds'] = var_inds\n",
    "        \n",
    "    return var_dict"
   ]
  },
  {
   "cell_type": "code",
   "execution_count": null,
   "metadata": {},
   "outputs": [],
   "source": [
    "def LIM_forecast(LIMd,x,lag,adjust=True):\n",
    "    \"\"\"\n",
    "    # There is a bug with this forecast function function: It uses the eigenvectors and \n",
    "    #        values to calculate Gt, but it's giving the same value for all lags in the forecast\n",
    "    \n",
    "    deterministic forecasting experiments for states in x and time lags in lags.\n",
    "\n",
    "    Inputs:\n",
    "    * LIMd: a dictionary with LIM attributes\n",
    "    * x: a state-time matrix for initial conditions and verification ~(ndof,ntims)\n",
    "    * lags: list of time lags for deterministic forecasts\n",
    "    * adj: True/False, if True removes negative eigenvalues \n",
    "    \n",
    "    Outputs (in a dictionary):\n",
    "    *'error' - error variance as a function of space and forecast lead time (ndof,ntims)\n",
    "    *'x_forecast' - the forecast states (nlags,ndof,ntims)\n",
    "    *'x_truth_phys_space' - true state in physical space (nlat*nlon,*ntims)\n",
    "    *'x_forecast_phys_space' - forecast state in physical space (nlat*nlon,*ntims)\n",
    "    \"\"\"\n",
    "    \n",
    "    ndof = x.shape[0]\n",
    "    ntims = x.shape[1]\n",
    "    nlags = len(lags)\n",
    "    LIMfd = {}\n",
    "    \n",
    "    max_eigenval = np.real(LIMd['lam_L']).max()\n",
    "    \n",
    "    if adjust: \n",
    "        print('Adjust is True...')\n",
    "        if max_eigenval >0: \n",
    "            print('YES negative eigenvalue found...adjusting')\n",
    "            LIMd['frac_neg_eigenvals'] = ((LIMd['lam_L']>0).sum())/(LIMd['lam_L'].shape[0])\n",
    "            LIMd['lam_L_adj'] = LIMd['lam_L'] - (max_eigenval+0.01)\n",
    "        else: \n",
    "            print('NO negative eigenvalue found...')\n",
    "            LIMd['frac_neg_eigenvals'] = 0\n",
    "            LIMd['lam_L_adj'] = LIMd['lam_L']\n",
    "    else: \n",
    "        print('Adjust is False...')\n",
    "        LIMd['frac_neg_eigenvals'] = np.nan\n",
    "        LIMd['lam_L_adj'] = LIMd['lam_L']\n",
    "    \n",
    "    print('lag=',lag)\n",
    "    # make the propagator for this lead time\n",
    "    Gt = np.matmul(np.matmul(LIMd['vec'],np.diag(np.exp(LIMd['lam_L_adj']*t))),LIMd['veci'])\n",
    "\n",
    "    # forecast mean state X:\n",
    "    if lag == 0:\n",
    "        # need to handle this time separately, or the matrix dimension is off\n",
    "        x_predict = np.matmul(Gt,x)\n",
    "#           x_predict_save[k,:,:] = x_predict\n",
    "    else:\n",
    "        x_predict = np.matmul(Gt,x[:,:-t])\n",
    "#            x_predict_save[k,:,t:] = x_predict\n",
    "    \n",
    "    # forecast covariance P:\n",
    "    product = np.matmul(np.matmul(Gt,LIMd['C_0']),Gt.T)\n",
    "    Cov_predict = LIMd['C_0'] - product\n",
    "\n",
    "    Ld = {}\n",
    "    Ld['Gt'] = Gt\n",
    "    LIMfd[lag] = Ld\n",
    "\n",
    "    LIMfd['x_forecast'] = np.squeeze(x_predict)  \n",
    "    LIMfd['Cov_forecast'] = Cov_predict\n",
    "        \n",
    "    return LIMfd"
   ]
  },
  {
   "cell_type": "code",
   "execution_count": null,
   "metadata": {},
   "outputs": [],
   "source": [
    "def unweight_decompressed_vars(x_train_dcomp, limvars, var_dict, W_all):\n",
    "    \"\"\"\n",
    "    INPUTS: \n",
    "    ========\n",
    "    x_train_dcomp\n",
    "    limvars\n",
    "    var_dict\n",
    "    W_all\n",
    "    \n",
    "    OUTPUTS: \n",
    "    ========\n",
    "    X_out \n",
    "    \"\"\"\n",
    "    X_out = np.zeros_like(x_train_dcomp)\n",
    "    \n",
    "    start=0\n",
    "    if len(x_train_dcomp.shape)<2:\n",
    "        for var in (limvars):\n",
    "            inds_end = var_dict[var]['var_ndof']\n",
    "            X_out[start:start+inds_end] = x_train_dcomp[start:start+inds_end]/W_all[var][:]\n",
    "            start = start+inds_end\n",
    "    else:\n",
    "        for var in (limvars):\n",
    "            inds_end = var_dict[var]['var_ndof']\n",
    "            X_out[start:start+inds_end,:] = x_train_dcomp[start:start+inds_end,:]/W_all[var][:,np.newaxis]\n",
    "            start = start+inds_end\n",
    "        \n",
    "    return X_out"
   ]
  },
  {
   "cell_type": "code",
   "execution_count": null,
   "metadata": {},
   "outputs": [],
   "source": [
    "def decompress_eof_separate_sic(X_proj, LIMd):\n",
    "    \"\"\"\n",
    "    INPUTS: \n",
    "    ========\n",
    "    P_train\n",
    "    nmodes\n",
    "    nmodes_sic\n",
    "    E\n",
    "    E_sic\n",
    "    limvars\n",
    "    var_dict\n",
    "    W_all\n",
    "    Weights=True\n",
    "    sic_separate=False\n",
    "    \n",
    "    OUTPUTS: \n",
    "    ========\n",
    "    X_train_dcomp\n",
    "    \"\"\"\n",
    "    E3_all = np.zeros((LIMd['E3_all'].shape[0]+LIMd['E_sic'].shape[0], \n",
    "                   LIMd['E3_all'].shape[1]+LIMd['E_sic'].shape[1]))\n",
    "\n",
    "    E3_all[0:LIMd['E3_all'].shape[0],0:LIMd['E3_all'].shape[1]] = LIMd['E3_all']\n",
    "    E3_all[LIMd['E3_all'].shape[0]:,LIMd['E3_all'].shape[1]:] = LIMd['E_sic']\n",
    "\n",
    "    X_dcomp = np.matmul(E3_all,X_proj)\n",
    "\n",
    "    if LIMd['exp_setup']['Weight'] is True: \n",
    "        X_train_dcomp = unweight_decompressed_vars(X_dcomp, LIMd['exp_setup']['limvars'], \n",
    "                                                   LIMd['var_dict'], LIMd['W_all'])\n",
    "    else: \n",
    "        X_train_dcomp = x_train_dcomp\n",
    "    \n",
    "    return X_train_dcomp"
   ]
  },
  {
   "cell_type": "code",
   "execution_count": null,
   "metadata": {},
   "outputs": [],
   "source": [
    "LIMd['W_all'].keys()"
   ]
  },
  {
   "cell_type": "markdown",
   "metadata": {},
   "source": [
    "### Project analysis into LIM space: "
   ]
  },
  {
   "cell_type": "code",
   "execution_count": null,
   "metadata": {},
   "outputs": [],
   "source": [
    "# for var in limvars: \n",
    "#     Ptrunc_initial[var] = project_validation_var(Xa[LIMd['var_dict'][var]['var_inds']], LIMd['E3'][var],\n",
    "#                                                  LIMd['standard_factor'][var],\n",
    "#                                                  LIMd['W_all'][var], Weights=LIMd['exp_setup']['Weight'])\n",
    "\n",
    "# ndof_all_intial = count_ndof_all(limvars, LIM['E3'], sic_separate=LIMd['exp_setup']['sic_separate'])\n",
    "\n",
    "# [Ptrunc_all_initial, E3_all_initial,\n",
    "#  Ptrunc_sic_initial, E_sic_initial] = limkb.stack_variable_eofs(LIMd['exp_setup']['limvars'], ndof_all_initial, \n",
    "#                                                                 LIMd['exp_setup']['ntrunc'],Ptrunc_intial, \n",
    "#                                                                 LIMd['E3'], LIMd['var_dict'])\n",
    "\n",
    "# X_intial = np.concatenate((Ptrunc_all_initial, Ptrunc_sic_intial),axis=0)"
   ]
  },
  {
   "cell_type": "code",
   "execution_count": null,
   "metadata": {},
   "outputs": [],
   "source": [
    "limvars = ['tas','psl','zg','tos','sit','sic']"
   ]
  },
  {
   "cell_type": "code",
   "execution_count": null,
   "metadata": {},
   "outputs": [],
   "source": [
    "Ptrunc_initial = {}\n",
    "\n",
    "for var in limvars: \n",
    "    Ptrunc_initial[var] = oda.project_validation_var(Xa[LIMd['var_dict'][var]['var_inds']][:,np.newaxis], \n",
    "                                                     LIMd['E3'][var],LIMd['standard_factor'][var],\n",
    "                                                     LIMd['W_all'][var], Weights=LIMd['exp_setup']['Weight'])\n",
    "\n",
    "[ndof_all_initial, neof_all_initial] = oda.count_ndof_all(limvars, LIMd['E3'], sic_separate=False)"
   ]
  },
  {
   "cell_type": "code",
   "execution_count": null,
   "metadata": {},
   "outputs": [],
   "source": [
    "Ptrunc_initial[var].shape"
   ]
  },
  {
   "cell_type": "code",
   "execution_count": null,
   "metadata": {},
   "outputs": [],
   "source": [
    "[Ptrunc_all_initial, _] = oda.stack_variable_eofs(limvars, ndof_all_initial, \n",
    "                                                  LIMd['exp_setup']['ntrunc'],Ptrunc_initial, \n",
    "                                                  LIMd['E3'], LIMd['var_dict'],verbose=False)\n",
    "\n",
    "#     X_intial = np.concatenate((Ptrunc_all_initial, Ptrunc_sic_intial),axis=0)\n",
    "X_initial = Ptrunc_all_initial"
   ]
  },
  {
   "cell_type": "code",
   "execution_count": null,
   "metadata": {},
   "outputs": [],
   "source": [
    "nvars = len(limvars)\n",
    "E3_all = np.zeros([ndof_all_initial,int(LIMd['exp_setup']['ntrunc']*(nvars))])"
   ]
  },
  {
   "cell_type": "code",
   "execution_count": null,
   "metadata": {},
   "outputs": [],
   "source": [
    "X_initial.shape"
   ]
  },
  {
   "cell_type": "markdown",
   "metadata": {},
   "source": [
    "### Forecast: "
   ]
  },
  {
   "cell_type": "code",
   "execution_count": null,
   "metadata": {},
   "outputs": [],
   "source": [
    "print('Performing forecast...')\n",
    "LIM_Xfcast = oda.LIM_forecast(LIMd,X_initial,1,adjust=LIMd['exp_setup']['adj'])"
   ]
  },
  {
   "cell_type": "markdown",
   "metadata": {},
   "source": [
    "### Project back into full field space: "
   ]
  },
  {
   "cell_type": "code",
   "execution_count": null,
   "metadata": {},
   "outputs": [],
   "source": [
    "nmodes = LIMd['E3_all'].shape[1]"
   ]
  },
  {
   "cell_type": "code",
   "execution_count": null,
   "metadata": {},
   "outputs": [],
   "source": [
    "Xb_intitial, E3_all = oda.decompress_eof_separate_sic(LIM_Xfcast['x_forecast'],LIMd)"
   ]
  },
  {
   "cell_type": "code",
   "execution_count": null,
   "metadata": {},
   "outputs": [],
   "source": [
    "Pb_initial = np.matmul(np.matmul(E3_all,LIM_Xfcast['cov_forecast']),E3_all.T)"
   ]
  },
  {
   "cell_type": "code",
   "execution_count": null,
   "metadata": {},
   "outputs": [],
   "source": [
    "E3_all.shape, LIM_Xfcast.keys()"
   ]
  },
  {
   "cell_type": "code",
   "execution_count": null,
   "metadata": {},
   "outputs": [],
   "source": [
    "import datetime\n",
    "\n",
    "t_total = 13\n",
    "years = int(1850+np.floor((t_total-1)/12))\n",
    "time = np.array([datetime.datetime(y, m, 15) for y in np.arange(1850,years,1) for m in np.arange(1,13,1)])"
   ]
  },
  {
   "cell_type": "code",
   "execution_count": null,
   "metadata": {},
   "outputs": [],
   "source": [
    "years"
   ]
  },
  {
   "cell_type": "code",
   "execution_count": null,
   "metadata": {},
   "outputs": [],
   "source": [
    "Xb_initial.shape[0]"
   ]
  },
  {
   "cell_type": "code",
   "execution_count": null,
   "metadata": {},
   "outputs": [],
   "source": []
  },
  {
   "cell_type": "code",
   "execution_count": null,
   "metadata": {},
   "outputs": [],
   "source": [
    "Pb_initial = np.matmul(np.matmul(E3_all,LIM_Xfcast['cov_forecast']),E3_all.T)"
   ]
  }
 ],
 "metadata": {
  "kernelspec": {
   "display_name": "Python 3",
   "language": "python",
   "name": "python3"
  },
  "language_info": {
   "codemirror_mode": {
    "name": "ipython",
    "version": 3
   },
   "file_extension": ".py",
   "mimetype": "text/x-python",
   "name": "python",
   "nbconvert_exporter": "python",
   "pygments_lexer": "ipython3",
   "version": "3.6.10"
  }
 },
 "nbformat": 4,
 "nbformat_minor": 2
}
