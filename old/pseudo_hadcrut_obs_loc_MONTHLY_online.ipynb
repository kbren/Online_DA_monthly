{
 "cells": [
  {
   "cell_type": "markdown",
   "metadata": {},
   "source": [
    "# Pseudo observations experiments: with hadcrut ob locations  - MONTHLY reconstructions\n",
    "\n",
    "Katie Brennan  \n",
    "started December 2021  \n",
    "\n",
    "#### Goals: \n",
    "Reconstruct Arctic sea ice with:\n",
    "* hadcrut observation locations"
   ]
  },
  {
   "cell_type": "code",
   "execution_count": 5,
   "metadata": {},
   "outputs": [],
   "source": [
    "import sys,os,copy\n",
    "import numpy as np\n",
    "import pickle\n",
    "import xarray as xr \n",
    "\n",
    "from time import time\n",
    "from spharm import Spharmt, getspecindx, regrid\n",
    "from netCDF4 import Dataset\n",
    "from scipy import stats"
   ]
  },
  {
   "cell_type": "code",
   "execution_count": 6,
   "metadata": {},
   "outputs": [],
   "source": [
    "# sys.path.insert(1,'/home/disk/p/mkb22/Documents/si_analysis_kb/instrumental_assimilation_experiments/')\n",
    "# import LMR_config_greg\n",
    "\n",
    "sys.path.insert(2,'/home/disk/kalman2/mkb22/LMR_lite/')\n",
    "#import reanalysis_recons_utils as rrutils\n",
    "import LMR_lite_utils as LMRlite\n",
    "import LMR_config\n",
    "import LMR_utils as lmr\n",
    "from load_gridded_data import read_gridded_data_CMIP5_model\n",
    "\n",
    "#sys.path.insert(3,'/home/disk/kalman2/mkb22/pyLMR/')\n",
    "#import LMR_utils as lmr\n",
    "\n",
    "sys.path.insert(1,'/home/disk/p/mkb22/Documents/si_utils_kb/')\n",
    "import Sice_utils as siutils\n",
    "\n",
    "sys.path.insert(1,'/home/disk/p/mkb22/Documents/si_analysis_kb/persistence_prior/recon_scripts/')\n",
    "import persistence_utils as pu\n",
    "\n",
    "import LIM_forecaster"
   ]
  },
  {
   "cell_type": "code",
   "execution_count": 7,
   "metadata": {},
   "outputs": [],
   "source": [
    "import warnings\n",
    "warnings.filterwarnings('ignore')"
   ]
  },
  {
   "cell_type": "code",
   "execution_count": 8,
   "metadata": {},
   "outputs": [
    {
     "data": {
      "text/plain": [
       "<module 'persistence_utils' from '/home/disk/p/mkb22/Documents/si_analysis_kb/persistence_prior/recon_scripts/persistence_utils.py'>"
      ]
     },
     "execution_count": 8,
     "metadata": {},
     "output_type": "execute_result"
    }
   ],
   "source": [
    "import importlib\n",
    "importlib.reload(pu)"
   ]
  },
  {
   "cell_type": "code",
   "execution_count": 9,
   "metadata": {},
   "outputs": [],
   "source": [
    "#USER PARAMETERS: -----------------------------------\n",
    "# reconstruct sea ice using these instrumental temperature datasets\n",
    "dset_chosen = ['CRU']\n",
    "ref_dset = 'CRU'\n",
    "\n",
    "annual_mean = False\n",
    "\n",
    "# define an even (lat,lon) grid for ob locations:\n",
    "#dlat = 20.\n",
    "dlat = 10.\n",
    "#dlat = 5.\n",
    "dlon = dlat\n",
    "\n",
    "# set the ob error variance (uniform for now)\n",
    "#r = 0.001\n",
    "r = 0.1\n",
    "rstr = '0_1'\n",
    "#r = 0.4\n",
    "#r= 10.\n",
    "\n",
    "lat_cutoff = 50\n",
    "\n",
    "iter = 1\n",
    "\n",
    "# inflate the sea ice variable here (can inflate whole state here too)\n",
    "inflate = 2.6\n",
    "inf_name = '2_6'\n",
    "prior_name = 'ccsm4'\n",
    "#inflate_list = [1.1,1.2,1.3,1.4,1.5]\n",
    "\n",
    "cfile = './configs/config_lite.yml.monthly'\n",
    "#cfile = './configs/config.yml'\n",
    "#cfile = './configs/config.yml.test_full.ccsm4'\n",
    "#cfile = './configs/config_ccsm4_pseudo.yml'\n",
    "\n",
    "#loc_list = [25000,20000,10000,7500,5000]\n",
    "loc = 15000\n",
    "\n",
    "# set variable that will be sampled for pseudoproxies\n",
    "truth_var = 'tas_sfc_Amon'\n",
    "\n",
    "recon_start = 1681\n",
    "recon_end = 1701"
   ]
  },
  {
   "cell_type": "markdown",
   "metadata": {},
   "source": [
    "#### Load config file: "
   ]
  },
  {
   "cell_type": "code",
   "execution_count": 10,
   "metadata": {},
   "outputs": [
    {
     "name": "stdout",
     "output_type": "stream",
     "text": [
      "Checking configuration ... \n",
      "OK!\n"
     ]
    }
   ],
   "source": [
    "# check for user-specified config file; otherwise, use the one in the SRC directory\n",
    "\n",
    "yaml_file = os.path.join(LMR_config.SRC_DIR,cfile)\n",
    "\n",
    "cfg,cfg_dict = LMRlite.load_config(yaml_file)\n",
    "\n",
    "# fetch information from datasets.yml and attach to the cfg\n",
    "dataset_info = LMR_config._DataInfo.data\n",
    "cfg.info = dataset_info"
   ]
  },
  {
   "cell_type": "code",
   "execution_count": 11,
   "metadata": {},
   "outputs": [
    {
     "data": {
      "text/plain": [
       "'/home/disk/kalman2/mkb22/LMR_lite/./configs/config_lite.yml.monthly'"
      ]
     },
     "execution_count": 11,
     "metadata": {},
     "output_type": "execute_result"
    }
   ],
   "source": [
    "yaml_file"
   ]
  },
  {
   "cell_type": "code",
   "execution_count": 12,
   "metadata": {},
   "outputs": [
    {
     "data": {
      "text/plain": [
       "(1979, 2000)"
      ]
     },
     "execution_count": 12,
     "metadata": {},
     "output_type": "execute_result"
    }
   ],
   "source": [
    "cfg.core.anom_reference_period"
   ]
  },
  {
   "cell_type": "code",
   "execution_count": 13,
   "metadata": {},
   "outputs": [],
   "source": [
    "# load proxies if you want to use proxy locations: \n",
    "#prox_manager = LMRlite.load_proxies(cfg)"
   ]
  },
  {
   "cell_type": "code",
   "execution_count": 14,
   "metadata": {},
   "outputs": [
    {
     "data": {
      "text/plain": [
       "'sic_tas_pseudo_hadobs_ccsm4_mo1_1681_1701_r0_1_inf2_6_loc15000_iter1.pkl'"
      ]
     },
     "execution_count": 14,
     "metadata": {},
     "output_type": "execute_result"
    }
   ],
   "source": [
    "month = cfg.core.recon_months[0]\n",
    "savedir = '/home/disk/kalman2/mkb22/Online_DA/pseudo_experiments/'\n",
    "savename = ('sic_tas_pseudo_hadobs_'+prior_name+'_mo'+str(month)+'_'+str(recon_start)+'_'+str(recon_end)+\n",
    "            '_r'+rstr+'_inf'+inf_name+'_loc'+str(loc)+'_iter'+str(iter)+'.pkl')\n",
    "savename"
   ]
  },
  {
   "cell_type": "code",
   "execution_count": 15,
   "metadata": {},
   "outputs": [
    {
     "ename": "NameError",
     "evalue": "name 'filenames' is not defined",
     "output_type": "error",
     "traceback": [
      "\u001b[0;31m---------------------------------------------------------------------------\u001b[0m",
      "\u001b[0;31mNameError\u001b[0m                                 Traceback (most recent call last)",
      "\u001b[0;32m<ipython-input-15-0502efd65a76>\u001b[0m in \u001b[0;36m<module>\u001b[0;34m()\u001b[0m\n\u001b[0;32m----> 1\u001b[0;31m \u001b[0mfilenames\u001b[0m\u001b[0;34m\u001b[0m\u001b[0m\n\u001b[0m",
      "\u001b[0;31mNameError\u001b[0m: name 'filenames' is not defined"
     ]
    }
   ],
   "source": [
    "filenames"
   ]
  },
  {
   "cell_type": "markdown",
   "metadata": {},
   "source": [
    "#### Load full monthly prior to draw observations from for multi-month persistence recons: "
   ]
  },
  {
   "cell_type": "code",
   "execution_count": 81,
   "metadata": {},
   "outputs": [
    {
     "name": "stdout",
     "output_type": "stream",
     "text": [
      "Loading: /home/disk/chaos/mkb22/Documents/SeaIceData/LME/LIMs/tas_sfc_Amon_CESM_LMEallforc_002_085001-200512.nc\n",
      "Loading: /home/disk/chaos/mkb22/Documents/SeaIceData/LME/LIMs/sic_SImon_CESM_LME_nh_002_085001-200512.nc\n"
     ]
    },
    {
     "ename": "ValueError",
     "evalue": "dimensions or multi-index levels ['lat'] do not exist",
     "output_type": "error",
     "traceback": [
      "\u001b[0;31m---------------------------------------------------------------------------\u001b[0m",
      "\u001b[0;31mValueError\u001b[0m                                Traceback (most recent call last)",
      "\u001b[0;32m<ipython-input-81-5cd7d8a891a2>\u001b[0m in \u001b[0;36m<module>\u001b[0;34m()\u001b[0m\n\u001b[1;32m     14\u001b[0m     \u001b[0mprint\u001b[0m\u001b[0;34m(\u001b[0m\u001b[0;34m'Loading: '\u001b[0m\u001b[0;34m+\u001b[0m\u001b[0mfilenames\u001b[0m\u001b[0;34m[\u001b[0m\u001b[0mi\u001b[0m\u001b[0;34m]\u001b[0m\u001b[0;34m)\u001b[0m\u001b[0;34m\u001b[0m\u001b[0m\n\u001b[1;32m     15\u001b[0m     \u001b[0mds\u001b[0m \u001b[0;34m=\u001b[0m \u001b[0mxr\u001b[0m\u001b[0;34m.\u001b[0m\u001b[0mopen_dataset\u001b[0m\u001b[0;34m(\u001b[0m\u001b[0mfilenames\u001b[0m\u001b[0;34m[\u001b[0m\u001b[0mi\u001b[0m\u001b[0;34m]\u001b[0m\u001b[0;34m)\u001b[0m\u001b[0;34m\u001b[0m\u001b[0m\n\u001b[0;32m---> 16\u001b[0;31m     \u001b[0mtruth_data\u001b[0m\u001b[0;34m[\u001b[0m\u001b[0mvar\u001b[0m\u001b[0;34m]\u001b[0m \u001b[0;34m=\u001b[0m \u001b[0mds\u001b[0m\u001b[0;34m.\u001b[0m\u001b[0msel\u001b[0m\u001b[0;34m(\u001b[0m\u001b[0mlat\u001b[0m\u001b[0;34m=\u001b[0m\u001b[0mslice\u001b[0m\u001b[0;34m(\u001b[0m\u001b[0mlat_cutoff\u001b[0m\u001b[0;34m,\u001b[0m \u001b[0;32mNone\u001b[0m\u001b[0;34m)\u001b[0m\u001b[0;34m)\u001b[0m\u001b[0;34m\u001b[0m\u001b[0m\n\u001b[0m",
      "\u001b[0;32m/home/disk/chaos/mkb22/anaconda2/envs/lmr_py3_xarray/lib/python3.6/site-packages/xarray/core/dataset.py\u001b[0m in \u001b[0;36msel\u001b[0;34m(self, indexers, method, tolerance, drop, **indexers_kwargs)\u001b[0m\n\u001b[1;32m   1589\u001b[0m         \u001b[0mindexers\u001b[0m \u001b[0;34m=\u001b[0m \u001b[0meither_dict_or_kwargs\u001b[0m\u001b[0;34m(\u001b[0m\u001b[0mindexers\u001b[0m\u001b[0;34m,\u001b[0m \u001b[0mindexers_kwargs\u001b[0m\u001b[0;34m,\u001b[0m \u001b[0;34m'sel'\u001b[0m\u001b[0;34m)\u001b[0m\u001b[0;34m\u001b[0m\u001b[0m\n\u001b[1;32m   1590\u001b[0m         pos_indexers, new_indexes = remap_label_indexers(\n\u001b[0;32m-> 1591\u001b[0;31m             self, indexers=indexers, method=method, tolerance=tolerance)\n\u001b[0m\u001b[1;32m   1592\u001b[0m         \u001b[0mresult\u001b[0m \u001b[0;34m=\u001b[0m \u001b[0mself\u001b[0m\u001b[0;34m.\u001b[0m\u001b[0misel\u001b[0m\u001b[0;34m(\u001b[0m\u001b[0mindexers\u001b[0m\u001b[0;34m=\u001b[0m\u001b[0mpos_indexers\u001b[0m\u001b[0;34m,\u001b[0m \u001b[0mdrop\u001b[0m\u001b[0;34m=\u001b[0m\u001b[0mdrop\u001b[0m\u001b[0;34m)\u001b[0m\u001b[0;34m\u001b[0m\u001b[0m\n\u001b[1;32m   1593\u001b[0m         \u001b[0;32mreturn\u001b[0m \u001b[0mresult\u001b[0m\u001b[0;34m.\u001b[0m\u001b[0m_replace_indexes\u001b[0m\u001b[0;34m(\u001b[0m\u001b[0mnew_indexes\u001b[0m\u001b[0;34m)\u001b[0m\u001b[0;34m\u001b[0m\u001b[0m\n",
      "\u001b[0;32m/home/disk/chaos/mkb22/anaconda2/envs/lmr_py3_xarray/lib/python3.6/site-packages/xarray/core/coordinates.py\u001b[0m in \u001b[0;36mremap_label_indexers\u001b[0;34m(obj, indexers, method, tolerance, **indexers_kwargs)\u001b[0m\n\u001b[1;32m    353\u001b[0m \u001b[0;34m\u001b[0m\u001b[0m\n\u001b[1;32m    354\u001b[0m     pos_indexers, new_indexes = indexing.remap_label_indexers(\n\u001b[0;32m--> 355\u001b[0;31m         \u001b[0mobj\u001b[0m\u001b[0;34m,\u001b[0m \u001b[0mv_indexers\u001b[0m\u001b[0;34m,\u001b[0m \u001b[0mmethod\u001b[0m\u001b[0;34m=\u001b[0m\u001b[0mmethod\u001b[0m\u001b[0;34m,\u001b[0m \u001b[0mtolerance\u001b[0m\u001b[0;34m=\u001b[0m\u001b[0mtolerance\u001b[0m\u001b[0;34m\u001b[0m\u001b[0m\n\u001b[0m\u001b[1;32m    356\u001b[0m     )\n\u001b[1;32m    357\u001b[0m     \u001b[0;31m# attach indexer's coordinate to pos_indexers\u001b[0m\u001b[0;34m\u001b[0m\u001b[0;34m\u001b[0m\u001b[0m\n",
      "\u001b[0;32m/home/disk/chaos/mkb22/anaconda2/envs/lmr_py3_xarray/lib/python3.6/site-packages/xarray/core/indexing.py\u001b[0m in \u001b[0;36mremap_label_indexers\u001b[0;34m(data_obj, indexers, method, tolerance)\u001b[0m\n\u001b[1;32m    235\u001b[0m     \u001b[0mnew_indexes\u001b[0m \u001b[0;34m=\u001b[0m \u001b[0;34m{\u001b[0m\u001b[0;34m}\u001b[0m\u001b[0;34m\u001b[0m\u001b[0m\n\u001b[1;32m    236\u001b[0m \u001b[0;34m\u001b[0m\u001b[0m\n\u001b[0;32m--> 237\u001b[0;31m     \u001b[0mdim_indexers\u001b[0m \u001b[0;34m=\u001b[0m \u001b[0mget_dim_indexers\u001b[0m\u001b[0;34m(\u001b[0m\u001b[0mdata_obj\u001b[0m\u001b[0;34m,\u001b[0m \u001b[0mindexers\u001b[0m\u001b[0;34m)\u001b[0m\u001b[0;34m\u001b[0m\u001b[0m\n\u001b[0m\u001b[1;32m    238\u001b[0m     \u001b[0;32mfor\u001b[0m \u001b[0mdim\u001b[0m\u001b[0;34m,\u001b[0m \u001b[0mlabel\u001b[0m \u001b[0;32min\u001b[0m \u001b[0miteritems\u001b[0m\u001b[0;34m(\u001b[0m\u001b[0mdim_indexers\u001b[0m\u001b[0;34m)\u001b[0m\u001b[0;34m:\u001b[0m\u001b[0;34m\u001b[0m\u001b[0m\n\u001b[1;32m    239\u001b[0m         \u001b[0;32mtry\u001b[0m\u001b[0;34m:\u001b[0m\u001b[0;34m\u001b[0m\u001b[0m\n",
      "\u001b[0;32m/home/disk/chaos/mkb22/anaconda2/envs/lmr_py3_xarray/lib/python3.6/site-packages/xarray/core/indexing.py\u001b[0m in \u001b[0;36mget_dim_indexers\u001b[0;34m(data_obj, indexers)\u001b[0m\n\u001b[1;32m    203\u001b[0m     \u001b[0;32mif\u001b[0m \u001b[0minvalid\u001b[0m\u001b[0;34m:\u001b[0m\u001b[0;34m\u001b[0m\u001b[0m\n\u001b[1;32m    204\u001b[0m         raise ValueError(\"dimensions or multi-index levels %r do not exist\"\n\u001b[0;32m--> 205\u001b[0;31m                          % invalid)\n\u001b[0m\u001b[1;32m    206\u001b[0m \u001b[0;34m\u001b[0m\u001b[0m\n\u001b[1;32m    207\u001b[0m     \u001b[0mlevel_indexers\u001b[0m \u001b[0;34m=\u001b[0m \u001b[0mdefaultdict\u001b[0m\u001b[0;34m(\u001b[0m\u001b[0mdict\u001b[0m\u001b[0;34m)\u001b[0m\u001b[0;34m\u001b[0m\u001b[0m\n",
      "\u001b[0;31mValueError\u001b[0m: dimensions or multi-index levels ['lat'] do not exist"
     ]
    }
   ],
   "source": [
    "truth_data = {}\n",
    "#prior_dir = '/home/disk/kalman3/rtardif/LMR/data/model/ccsm4_last_millenium/'\n",
    "#suffix = 'CCSM4_past1000_085001-185012.nc'\n",
    "# varnames = ['tas_sfc_Amon', 'sic_sfc_OImon']\n",
    "\n",
    "prior_dir = '/home/disk/chaos/mkb22/Documents/SeaIceData/LME/LIMs/'\n",
    "suffix = '002_085001-200512.nc'\n",
    "varnames_long = ['tas_sfc_Amon_CESM_LMEallforc','sic_SImon_CESM_LME_nh']\n",
    "varnames = ['tas_sfc_Amon','sic_SImon']\n",
    "\n",
    "filenames = [os.path.join(prior_dir, f'{var}_{suffix}') for var in varnames_long]\n",
    "\n",
    "for i,var in enumerate(varnames): \n",
    "    print('Loading: '+filenames[i])\n",
    "    ds = xr.open_dataset(filenames[i])\n",
    "    truth_data[var] = ds.sel(lat=slice(lat_cutoff, None))"
   ]
  },
  {
   "cell_type": "code",
   "execution_count": 85,
   "metadata": {},
   "outputs": [
    {
     "data": {
      "text/plain": [
       "[<matplotlib.lines.Line2D at 0x7f76883c1f98>]"
      ]
     },
     "execution_count": 85,
     "metadata": {},
     "output_type": "execute_result"
    },
    {
     "data": {
      "image/png": "[encoded data removed]",
      "text/plain": [
       "<Figure size 432x288 with 1 Axes>"
      ]
     },
     "metadata": {
      "needs_background": "light"
     },
     "output_type": "display_data"
    }
   ],
   "source": [
    "truth_data['tas_sfc_Amon'].lat.plot()"
   ]
  },
  {
   "cell_type": "code",
   "execution_count": null,
   "metadata": {},
   "outputs": [],
   "source": [
    "truth_tas = truth_data['tas_sfc_Amon']['tas'].values\n",
    "truth_sic = truth_data['sic_SImon']['sic'].values\n",
    "\n",
    "truth_tas_lat = truth_data['tas_sfc_Amon']['lat'].values\n",
    "truth_tas_lon = truth_data['tas_sfc_Amon']['lon'].values\n",
    "\n",
    "truth_sic_lat = truth_data['sic_SImon']['lat'].values\n",
    "truth_sic_lon = truth_data['sic_SImon']['lon'].values\n",
    "\n",
    "t = np.ones((truth_tas_lat.shape[0],truth_tas_lon.shape[0]))\n",
    "s = np.ones((truth_sic_lat.shape[0],truth_sic_lon.shape[0]))\n",
    "\n",
    "truth_tas_lat = truth_tas_lat[:,np.newaxis]*t\n",
    "truth_tas_lon = t*truth_tas_lon[np.newaxis,:]\n",
    "truth_sic_lat = truth_sic_lat[:,np.newaxis]*s\n",
    "truth_sic_lon = s*truth_sic_lon[np.newaxis,:]\n",
    "\n",
    "tas_mo = np.reshape(truth_tas,(1001,12,truth_tas.shape[1],truth_tas.shape[2]))\n",
    "truth_tas_anom = tas_mo - np.nanmean(tas_mo,axis=0)\n",
    "\n",
    "tas_shape = truth_tas_anom.shape\n",
    "sic_shape = truth_sic.shape\n",
    "truth_tas_anom_regrid_prep = truth_tas_anom.reshape(tas_shape[0]*tas_shape[1],\n",
    "                                                    tas_shape[2]*tas_shape[3]).T\n",
    "truth_sic_anom_regrid_prep = truth_sic.reshape(sic_shape[0],sic_shape[1]*sic_shape[2]).T"
   ]
  },
  {
   "cell_type": "code",
   "execution_count": null,
   "metadata": {},
   "outputs": [],
   "source": [
    "nyears = 1156"
   ]
  },
  {
   "cell_type": "code",
   "execution_count": null,
   "metadata": {},
   "outputs": [],
   "source": [
    "# # Regrid full tas prior for proxy selection and verification: \n",
    "# [truth_tas_regrid,lat_tas_new,lon_tas_new] = lmr.regrid_esmpy(cfg.prior.esmpy_grid_def['nlat'],\n",
    "#                                                         cfg.prior.esmpy_grid_def['nlon'],\n",
    "#                                                         nyears*12,\n",
    "#                                                         truth_tas_anom_regrid_prep,\n",
    "#                                                         truth_tas_lat,\n",
    "#                                                         truth_tas_lon,\n",
    "#                                                         truth_tas_lat.shape[0],\n",
    "#                                                         truth_tas_lat.shape[1],\n",
    "#                                                         method=cfg.prior.esmpy_interp_method)\n",
    "\n",
    "# truth_tas_regrid = np.reshape(truth_tas_regrid.T,\n",
    "#                               (nyears*12,cfg.prior.esmpy_grid_def['nlat'],\n",
    "#                                cfg.prior.esmpy_grid_def['nlon'],))"
   ]
  },
  {
   "cell_type": "code",
   "execution_count": null,
   "metadata": {},
   "outputs": [],
   "source": [
    "# # Regrid full tas prior for proxy selection and verification: \n",
    "# [truth_sic_regrid,lat_sic_new,lon_sic_new] = lmr.regrid_esmpy(cfg.prior.esmpy_grid_def['nlat'],\n",
    "#                                                         cfg.prior.esmpy_grid_def['nlon'],\n",
    "#                                                         nyears,\n",
    "#                                                         truth_sic_anom_regrid_prep,\n",
    "#                                                         truth_sic_lat,\n",
    "#                                                         truth_sic_lon,\n",
    "#                                                         truth_sic_lat.shape[0],\n",
    "#                                                         truth_sic_lat.shape[1],\n",
    "#                                                         method=cfg.prior.esmpy_interp_method)\n",
    "\n",
    "# truth_sic_regrid = np.reshape(truth_tas_regrid.T,\n",
    "#                               (nyears*12,cfg.prior.esmpy_grid_def['nlat'],\n",
    "#                                cfg.prior.esmpy_grid_def['nlon'],))"
   ]
  },
  {
   "cell_type": "code",
   "execution_count": null,
   "metadata": {},
   "outputs": [],
   "source": [
    "prior_time = []\n",
    "for i in range(850,2005):\n",
    "    b = np.tile(i,12)\n",
    "    prior_time.append(b)   \n",
    "prior_time = np.reshape(np.array(prior_time),(nyears*12))\n",
    "recon_ind_start = np.min(np.where(prior_time>=recon_start))\n",
    "recon_ind_end = np.max(np.where(prior_time<=recon_end))"
   ]
  },
  {
   "cell_type": "markdown",
   "metadata": {},
   "source": [
    "#### Load prior: "
   ]
  },
  {
   "cell_type": "code",
   "execution_count": null,
   "metadata": {},
   "outputs": [],
   "source": [
    "# load prior\n",
    "X, Xb_one = LMRlite.load_prior(cfg)\n",
    "Xbp = Xb_one - Xb_one.mean(axis=1,keepdims=True)"
   ]
  },
  {
   "cell_type": "markdown",
   "metadata": {},
   "source": [
    "Here we'll save the lat and lon information from the original prior before regridding because it will be over-written later and we need it to regrid the full prior. "
   ]
  },
  {
   "cell_type": "code",
   "execution_count": null,
   "metadata": {},
   "outputs": [],
   "source": [
    "prior_dict_monthly = pu.read_monthly_prior(cfg,1,12)"
   ]
  },
  {
   "cell_type": "code",
   "execution_count": null,
   "metadata": {},
   "outputs": [],
   "source": [
    "prior_dict_monthly['sic_sfc_OImon']['value'].shape"
   ]
  },
  {
   "cell_type": "code",
   "execution_count": null,
   "metadata": {},
   "outputs": [],
   "source": [
    "import matplotlib.pyplot as plt\n",
    "plt.plot(prior_dict_monthly['sic_sfc_OImon']['value'][:,175,0])\n",
    "np.mean(prior_dict_monthly['sic_sfc_OImon']['value'][:,175,0],axis=0)"
   ]
  },
  {
   "cell_type": "code",
   "execution_count": null,
   "metadata": {},
   "outputs": [],
   "source": [
    "import LMR_prior \n",
    "\n",
    "core = cfg.core\n",
    "prior = cfg.prior\n",
    "nexp = core.nexp\n",
    "workdir = core.datadir_output\n",
    "\n",
    "begin_time = time()\n",
    "\n",
    "# Define the number of assimilation times\n",
    "recon_times = np.arange(core.recon_period[0], core.recon_period[1]+1,core.recon_timescale)\n",
    "ntimes, = recon_times.shape\n",
    "\n",
    "# Assign prior object according to \"prior_source\" (from namelist)\n",
    "X = LMR_prior.prior_assignment(prior.prior_source)\n",
    "X.prior_datadir = prior.datadir_prior\n",
    "X.prior_datafile = prior.datafile_prior\n",
    "X.statevars = prior.state_variables\n",
    "X.statevars_info = prior.state_variables_info\n",
    "X.Nens = core.nens\n",
    "X.anom_reference = prior.anom_reference\n",
    "X.detrend = prior.detrend\n",
    "X.avgInterval = prior.avgInterval\n",
    "X.member_simuls = prior.member_simuls\n",
    "#X.prior_dict = prior_dict_monthly"
   ]
  },
  {
   "cell_type": "code",
   "execution_count": null,
   "metadata": {},
   "outputs": [],
   "source": [
    "X = pu.make_monthly_prior_object(cfg,prior_dict_monthly)"
   ]
  },
  {
   "cell_type": "code",
   "execution_count": null,
   "metadata": {},
   "outputs": [],
   "source": [
    "X = pu.populate_ensemble(X,cfg.prior.prior_source,cfg.prior)"
   ]
  },
  {
   "cell_type": "code",
   "execution_count": null,
   "metadata": {},
   "outputs": [],
   "source": [
    "X.ens.shape"
   ]
  },
  {
   "cell_type": "code",
   "execution_count": null,
   "metadata": {},
   "outputs": [],
   "source": [
    "192*288"
   ]
  },
  {
   "cell_type": "markdown",
   "metadata": {},
   "source": [
    "#### Load prior: monthly data to draw ensemble from: "
   ]
  },
  {
   "cell_type": "code",
   "execution_count": null,
   "metadata": {},
   "outputs": [],
   "source": [
    "cfg.prior.state_variables,cfg.prior.datadir_prior, cfg.prior.datafile_prior, cfg.prior.prior_source\n",
    "\n",
    "os.path.join(cfg.prior.datadir_prior, cfg.prior.datafile_prior)\n",
    "data_file_read = (cfg.prior.datafile_prior).replace('[vardef_template]', vardef)"
   ]
  },
  {
   "cell_type": "code",
   "execution_count": null,
   "metadata": {},
   "outputs": [],
   "source": [
    "data_monthly.shape"
   ]
  },
  {
   "cell_type": "code",
   "execution_count": null,
   "metadata": {},
   "outputs": [],
   "source": [
    "prior_lat_full = X.prior_dict['tas_sfc_Amon']['lat']\n",
    "prior_lon_full = X.prior_dict['tas_sfc_Amon']['lon']\n",
    "\n",
    "prior_sic_lat_full = X.prior_dict['sic_sfc_OImon']['lat']\n",
    "prior_sic_lon_full = X.prior_dict['sic_sfc_OImon']['lon']\n",
    "prior_sic_lat_full.shape"
   ]
  },
  {
   "cell_type": "markdown",
   "metadata": {},
   "source": [
    "#### Prior regridding: \n",
    "Unfortunately the regridding function over-writes the original prior. There doesn't seem to be an easy way to work around this so the full prior will be loaded again and regridded separately. This is really clunky and should be updated later. "
   ]
  },
  {
   "cell_type": "code",
   "execution_count": null,
   "metadata": {},
   "outputs": [],
   "source": [
    "# check if config is set to regrid the prior\n",
    "if cfg.prior.regrid_method:\n",
    "    print('regridding prior...')\n",
    "    # this function over-writes X, even if return is given a different name\n",
    "    [X_regrid,Xb_one_new] = LMRlite.prior_regrid(cfg,X,Xb_one,verbose=True)\n",
    "else:\n",
    "    X_regrid.trunc_state_info = X.full_state_info"
   ]
  },
  {
   "cell_type": "code",
   "execution_count": null,
   "metadata": {},
   "outputs": [],
   "source": [
    "# make a grid object for the prior\n",
    "grid = LMRlite.Grid(X_regrid)\n",
    "\n",
    "# locate position of variables in Xb_one_new: \n",
    "tas_pos = X_regrid.trunc_state_info['tas_sfc_Amon']['pos']\n",
    "sic_pos = X_regrid.trunc_state_info['sic_sfc_OImon']['pos']\n",
    "\n",
    "# tas = Xb_one_new[tas_pos[0]:tas_pos[1]+1,:]\n",
    "# sic = Xb_one_new[sic_pos[0]:sic_pos[1]+1,:]"
   ]
  },
  {
   "cell_type": "markdown",
   "metadata": {},
   "source": [
    "Reloading the prior for tas and sic again here and regridding them. This is necessary because we want the full 1000 year prior run to draw the pseudo proxies from. That way we can draw them from the year we are reconstructing. "
   ]
  },
  {
   "cell_type": "code",
   "execution_count": null,
   "metadata": {},
   "outputs": [],
   "source": [
    "nyears = 1001 "
   ]
  },
  {
   "cell_type": "code",
   "execution_count": null,
   "metadata": {},
   "outputs": [],
   "source": [
    "# Load full prior for tas and regrid\n",
    "prior_tas_orig = X.prior_dict['tas_sfc_Amon']['value']\n",
    "\n",
    "prior_regrid_tas_prep = (np.reshape(prior_tas_orig,(prior_tas_orig.shape[0],\n",
    "                                                    prior_tas_orig.shape[1]*prior_tas_orig.shape[2]))).T\n",
    "\n",
    "# Regrid full tas prior for proxy selection and verification: \n",
    "[prior_tas_regrid,\n",
    " lat_tas_new,lon_tas_new] = lmr.regrid_esmpy(cfg.prior.esmpy_grid_def['nlat'],\n",
    "                                             cfg.prior.esmpy_grid_def['nlon'],\n",
    "                                             nyears,\n",
    "                                             prior_regrid_tas_prep,\n",
    "                                             prior_lat_full,\n",
    "                                             prior_lon_full,\n",
    "                                             prior_lat_full.shape[0],\n",
    "                                             prior_lat_full.shape[1],\n",
    "                                             method=cfg.prior.esmpy_interp_method)\n",
    "\n",
    "prior_tas_regrid = np.reshape(prior_tas_regrid.T,\n",
    "                              (nyears,cfg.prior.esmpy_grid_def['nlat'],\n",
    "                               cfg.prior.esmpy_grid_def['nlon'],))"
   ]
  },
  {
   "cell_type": "code",
   "execution_count": null,
   "metadata": {},
   "outputs": [],
   "source": [
    "# Load full prior for sic and regrid: \n",
    "prior_sic_orig = X.prior_dict['sic_sfc_OImon']['value']\n",
    "\n",
    "prior_sic_regrid_prep = (np.reshape(prior_sic_orig,\n",
    "                                    (prior_sic_orig.shape[0],\n",
    "                                     prior_sic_orig.shape[1]*prior_sic_orig.shape[2]))).T\n",
    "\n",
    "# Regrid full sic prior for proxy selection: \n",
    "[prior_sic_regrid,lat_sic_new,lon_sic_new] = lmr.regrid_esmpy(cfg.prior.esmpy_grid_def['nlat'],\n",
    "                                                              cfg.prior.esmpy_grid_def['nlon'],\n",
    "                                                              nyears,\n",
    "                                                              prior_sic_regrid_prep,\n",
    "                                                              prior_sic_lat_full,\n",
    "                                                              prior_sic_lon_full,\n",
    "                                                              180,360,\n",
    "                                                              method=cfg.prior.esmpy_interp_method)\n",
    "\n",
    "sic_prior_regrid = np.reshape(prior_sic_regrid.T,\n",
    "                              (nyears,\n",
    "                               cfg.prior.esmpy_grid_def['nlat'],\n",
    "                               cfg.prior.esmpy_grid_def['nlon'],))"
   ]
  },
  {
   "cell_type": "markdown",
   "metadata": {},
   "source": [
    "### Reconstructing sea ice: "
   ]
  },
  {
   "cell_type": "code",
   "execution_count": null,
   "metadata": {},
   "outputs": [],
   "source": [
    "# NH surface area in M km^2 from concentration in percentage\n",
    "nharea = 2*np.pi*(6380**2)/1e8"
   ]
  },
  {
   "cell_type": "markdown",
   "metadata": {},
   "source": [
    "#### Set up reconstruction time: "
   ]
  },
  {
   "cell_type": "code",
   "execution_count": null,
   "metadata": {},
   "outputs": [],
   "source": [
    "# Loop over all years available in this reference dataset\n",
    "recon_years = range(recon_start,recon_end)\n",
    "nyears = len(recon_years)\n",
    "\n",
    "# Find recon time indices in prior \n",
    "prior_time = np.arange(850,1851,1)\n",
    "recon_ind_start = np.min(np.where(prior_time>=recon_start))\n",
    "recon_ind_end = np.max(np.where(prior_time<=recon_end))\n",
    "\n",
    "cfg.core.recon_period = (recon_start,recon_end)\n",
    "\n",
    "# Prior anomalies to draw pseudo proxies from: \n",
    "prior_tas_regrid_anom = (prior_tas_regrid - np.nanmean(prior_tas_regrid[recon_ind_start:recon_ind_end,:,:],axis=0))[recon_ind_start:recon_ind_end,:,:]\n",
    "sic_prior_regrid_truth = sic_prior_regrid[recon_ind_start:recon_ind_end,:,:]"
   ]
  },
  {
   "cell_type": "markdown",
   "metadata": {},
   "source": [
    "#### Draw pseudo observations: "
   ]
  },
  {
   "cell_type": "code",
   "execution_count": null,
   "metadata": {},
   "outputs": [],
   "source": [
    "# Break up prior by two variables \n",
    "Xb_one_tas = Xb_one_new[tas_pos[0]:tas_pos[1]+1,:]\n",
    "Xb_one_sic = Xb_one_new[tas_pos[1]+1:Xb_one.shape[0],:]\n",
    "\n",
    "# this is used for drawing prior ensemble estimates of pseudoproxy (Ye)\n",
    "Xb_sampler = np.reshape(Xb_one_tas,[grid.nlat,grid.nlon,grid.nens])\n",
    "print('pseduoproxy sampler shape:',Xb_sampler.shape)\n",
    "\n",
    "# draw a unique set of ensemble members\n",
    "#emems = np.random.choice(1000,size=cfg.core.nens+1,replace=False)\n",
    "\n",
    "#nproxies = len(prox_manager.ind_assim)"
   ]
  },
  {
   "cell_type": "code",
   "execution_count": null,
   "metadata": {},
   "outputs": [],
   "source": [
    "# make a grid object for the reference data\n",
    "grid_pseudo = LMRlite.Grid()\n",
    "pseudolon,pseudolat = np.meshgrid(grid.lon[0,:],grid.lat[:,0])\n",
    "grid_pseudo.lat = pseudolat\n",
    "grid_pseudo.lon = pseudolon\n",
    "grid_pseudo.nlat = grid_pseudo.lat.shape[0]\n",
    "grid_pseudo.nlon = grid_pseudo.lon.shape[1]"
   ]
  },
  {
   "cell_type": "code",
   "execution_count": null,
   "metadata": {},
   "outputs": [],
   "source": [
    "#Load finite HadCRUT lat/lon locations to draw pseudo obs from: \n",
    "\n",
    "if annual_mean: \n",
    "    hadcrut_finite = pickle.load( open( \"Had_obs_loc_files/hadcrut_annual_finite_latlon.pkl\", \"rb\" ) )\n",
    "\n",
    "    hadcrut_ob_lat = hadcrut_finite['hadcrut_ob_lat']\n",
    "    hadcrut_ob_lon = hadcrut_finite['hadcrut_ob_lon']\n",
    "else: \n",
    "    month = cfg.core.recon_months[0]\n",
    "    hadcrut_finite = pickle.load( open( \"Had_obs_loc_files/hadcrut_mo_\"+str(month)+\"_finite_latlon.pkl\", \"rb\" ) )\n",
    "\n",
    "    hadcrut_ob_lat = hadcrut_finite['hadcrut_ob_lat']\n",
    "    hadcrut_ob_lon = hadcrut_finite['hadcrut_ob_lon']\n",
    "    print('month loaded =',month)"
   ]
  },
  {
   "cell_type": "markdown",
   "metadata": {},
   "source": [
    "#### Inflate prior: "
   ]
  },
  {
   "cell_type": "code",
   "execution_count": null,
   "metadata": {},
   "outputs": [],
   "source": [
    "# inflate the entire state vector\n",
    "if 2 == 1:\n",
    "    print('inflating full state vector by '+str(inflate))\n",
    "    xbm = np.mean(Xb_one_new,1)\n",
    "    xbp = Xb_one_new - xbm[:,None]\n",
    "    Xb_one_inflate = np.copy(Xb_one_new)\n",
    "    Xb_one_inflate = np.add(inflate*xbp,xbm[:,None])\n",
    "else:\n",
    "    # inflate sea ice only\n",
    "    print('inflating only sea ice by '+str(inflate))\n",
    "    xb_sicm = np.mean(Xb_one_new[sic_pos[0]:sic_pos[1]+1,:],1)\n",
    "    xb_sicp = np.squeeze(Xb_one_new[sic_pos[0]:sic_pos[1]+1,:])-xb_sicm[:,None]\n",
    "    sic_new = np.add(inflate*xb_sicp,xb_sicm[:,None])\n",
    "    Xb_one_inflate = np.copy(Xb_one_new)\n",
    "    Xb_one_inflate[sic_pos[0]:sic_pos[1]+1,:] = sic_new"
   ]
  },
  {
   "cell_type": "markdown",
   "metadata": {},
   "source": [
    "#### Set localization: "
   ]
  },
  {
   "cell_type": "code",
   "execution_count": null,
   "metadata": {},
   "outputs": [],
   "source": [
    "# option to change the localization radius in the config file (used by DA code)\n",
    "print('Original localization radius = '+str(cfg.core.loc_rad))\n",
    "cfg_params = lmr.param_cfg_update('core.loc_rad',loc)\n",
    "cfg_new = LMR_config.Config(**cfg_params)\n",
    "print('New localization radius = '+str(cfg_new.core.loc_rad))"
   ]
  },
  {
   "cell_type": "markdown",
   "metadata": {},
   "source": [
    "#### Loop over each year to reconstruct: "
   ]
  },
  {
   "cell_type": "code",
   "execution_count": null,
   "metadata": {
    "scrolled": true
   },
   "outputs": [],
   "source": [
    "# These are the time indices for the reference dataset; useful later\n",
    "iyr_ref = np.zeros(nyears,dtype=np.int16)\n",
    "\n",
    "sic_save = []\n",
    "sic_save_lalo = np.zeros((nyears,grid.nlat,grid.nlon))\n",
    "tas_save_lalo = np.zeros((nyears,grid.nlat,grid.nlon))\n",
    "sic_save_2_5 = np.zeros((nyears,grid.nlat,grid.nlon))\n",
    "sic_save_97_5 = np.zeros((nyears,grid.nlat,grid.nlon))\n",
    "sic_lalo_full = []\n",
    "sic_full_Nens = []\n",
    "sie_full_Nens = []\n",
    "sic_full_Sens = []\n",
    "sie_full_Sens = []\n",
    "obs_size = np.zeros((nyears))\n",
    "obs_full = {}\n",
    "\n",
    "sic_ndim = sic_pos[1]-sic_pos[0]+1\n",
    "\n",
    "# Option to save the full ensemble\n",
    "#Xap_save = np.zeros([nyears,sic_ndim,cfg.core.nens])\n",
    "#Xap_var_save = np.zeros([nyears,sic_ndim])\n",
    "\n",
    "obs_shape = np.zeros((nyears))\n",
    "\n",
    "begin_time = time()\n",
    "yk = -1\n",
    "\n",
    "for yk, target_year in enumerate(recon_years):\n",
    "    print('Reconstructing year '+str(target_year))\n",
    "    #pseudo_dat = prior_tas_regrid[yk,:,:]\n",
    "    \n",
    "    nobs = hadcrut_ob_lat[yk].shape[0]\n",
    "    obs_size[yk] = nobs\n",
    "\n",
    "    vY = np.zeros((nobs))\n",
    "    vYe = np.zeros([nobs,grid.nens])\n",
    "    vYe_coords = []\n",
    "    vR = []\n",
    "    k = -1\n",
    "    \n",
    "    obs_loc = []\n",
    "    \n",
    "    print('Number of obs for this year is = '+str(nobs))\n",
    "\n",
    "    # Draw pseudo observations from instrumental Hadcrut lat/lon locations for this recon year\n",
    "    for iob in range(nobs):\n",
    "#        print('assimilating ob '+str(i))\n",
    "        [pseudoproxy, itlat, itlon] = pu.draw_pseudoproxy(grid_pseudo, hadcrut_ob_lat[yk][iob],\n",
    "                                                          hadcrut_ob_lon[yk][iob], \n",
    "                                                          prior_tas_regrid_anom[yk,:,:], r)\n",
    "\n",
    "        vY[iob] = pseudoproxy\n",
    "        vYe[iob,:] = Xb_sampler[itlat,itlon,:]\n",
    "        vR.append(r)\n",
    "        obs_loc = np.append(obs_loc,[grid_pseudo.lat[itlat,0],grid_pseudo.lon[0,itlon]])\n",
    "        \n",
    "        # make vector of Ye coordinates for localization\n",
    "        if iob is 0: \n",
    "            vYe_coords = np.array([grid_pseudo.lat[itlat,0],grid_pseudo.lon[0,itlon]])[np.newaxis,:]\n",
    "        else: \n",
    "            new = np.array([grid_pseudo.lat[itlat,0],grid_pseudo.lon[0,itlon]])[np.newaxis,:]\n",
    "            vYe_coords = np.append(vYe_coords,new, axis=0)\n",
    "        \n",
    "    obs_full[yk] = np.reshape(obs_loc,(nobs,2))\n",
    "\n",
    "    # Do data assimilation\n",
    "    #xam,Xap,_ = LMRlite.Kalman_optimal(obs_QC,R_QC,Ye_QC,Xb_one_inflate)\n",
    "    xam,Xap = LMRlite.Kalman_ESRF(cfg_new,vY,vR,vYe,\n",
    "                                  Xb_one_inflate,X=X_regrid,\n",
    "                                  vYe_coords=vYe_coords,verbose=False)\n",
    "    \n",
    "    # Save fields. \n",
    "    tas_lalo = np.reshape(xam[tas_pos[0]:tas_pos[1]+1],[grid.nlat,grid.nlon])\n",
    "    tas_save_lalo[yk,:,:] = tas_lalo\n",
    "    \n",
    "    # this saves sea-ice area for the entire ensemble\n",
    "    sic_Nens = []\n",
    "    sie_Nens = []\n",
    "    sic_Sens = []\n",
    "    sie_Sens = []\n",
    "    for k in range(grid.nens):\n",
    "        sic_lalo = np.reshape(xam[sic_pos[0]:sic_pos[1]+1]+Xap[sic_pos[0]:sic_pos[1]+1,k],\n",
    "                              [grid.nlat,grid.nlon])\n",
    "        if 'full' in cfg.prior.state_variables['sic_sfc_OImon']:\n",
    "            sic_lalo = np.where(sic_lalo<0.0,0.0,sic_lalo)\n",
    "            sic_lalo = np.where(sic_lalo>100.0,100.0,sic_lalo)\n",
    "            # Calculate extent: \n",
    "            sie_lalo = siutils.calc_sea_ice_extent(sic_lalo,15.0)\n",
    "        else: \n",
    "            sic_lalo = sic_lalo\n",
    "            sie_lalo = np.nan*np.ones(sic_lalo.shape)\n",
    "\n",
    "        _,nhmic,shmic = lmr.global_hemispheric_means(sic_lalo,grid.lat[:, 0])\n",
    "        _,sie_nhmic,sie_shmic = lmr.global_hemispheric_means(sie_lalo,grid.lat[:, 0])\n",
    "        sic_Nens.append(nhmic)\n",
    "        sie_Nens.append(sie_nhmic)\n",
    "        sic_Sens.append(shmic)\n",
    "        sie_Sens.append(sie_shmic)\n",
    "        sic_lalo_full.append(sic_lalo)\n",
    "\n",
    "    sic_save_lalo[yk,:,:] = np.nanmean(np.array(sic_lalo_full),axis=0)\n",
    "    sic_save_97_5[yk,:,:] = np.percentile(sic_lalo_full,97.5,axis=0)\n",
    "    sic_save_2_5[yk,:,:] = np.percentile(sic_lalo_full,2.5,axis=0)\n",
    "    sic_full_Nens.append(sic_Nens)\n",
    "    sie_full_Nens.append(sie_Nens)\n",
    "    sic_full_Sens.append(sic_Sens)\n",
    "    sie_full_Sens.append(sie_Sens)\n",
    "\n",
    "    print('done reconstructing: ',target_year,'\\n')"
   ]
  },
  {
   "cell_type": "code",
   "execution_count": null,
   "metadata": {},
   "outputs": [],
   "source": [
    "tas_dict = {}\n",
    "sice_dict = {}\n",
    "obs_dict = {}\n",
    "\n",
    "tas_dict['tas_ensmn_lalo'] = tas_save_lalo\n",
    "tas_dict['tas_prior_ens_inf'] = Xb_one_inflate[tas_pos[0]:tas_pos[1],:]\n",
    "tas_dict['tas_truth_anom'] = prior_tas_regrid_anom\n",
    "tas_dict['time'] = recon_years\n",
    "tas_dict['lat'] = grid.lat\n",
    "tas_dict['lon'] = grid.lon\n",
    "\n",
    "sice_dict['sic_ensmn_lalo'] = sic_save_lalo\n",
    "sice_dict['sic_97_5_lalo'] = sic_save_97_5\n",
    "sice_dict['sic_2_5_lalo'] = sic_save_2_5\n",
    "# sice_dict['sic_tot_nens'] = np.squeeze(np.array(sic_full_ens))\n",
    "# sice_dict['sie_tot_nens'] = np.squeeze(np.array(sie_full_ens))\n",
    "sice_dict['sic_Ntot_nens'] = np.squeeze(np.array(sic_full_Nens))\n",
    "sice_dict['sie_Ntot_nens'] = np.squeeze(np.array(sie_full_Nens))\n",
    "sice_dict['sic_Stot_nens'] = np.squeeze(np.array(sic_full_Sens))\n",
    "sice_dict['sie_Stot_nens'] = np.squeeze(np.array(sie_full_Sens))\n",
    "sice_dict['sic_prior_ens_inf'] = Xb_one_inflate[sic_pos[0]:sic_pos[1]+1,:]\n",
    "sice_dict['sic_truth_full'] = sic_prior_regrid_truth\n",
    "\n",
    "obs_dict['nobs'] = obs_size\n",
    "obs_dict['obs_loc'] = obs_full"
   ]
  },
  {
   "cell_type": "code",
   "execution_count": null,
   "metadata": {},
   "outputs": [],
   "source": [
    "recon_dict = {}\n",
    "\n",
    "recon_dict['tas'] = tas_dict\n",
    "recon_dict['sice'] = sice_dict\n",
    "recon_dict['obs'] = obs_dict"
   ]
  },
  {
   "cell_type": "code",
   "execution_count": null,
   "metadata": {},
   "outputs": [],
   "source": [
    "print('Saving to: ',savedir+savename)\n",
    "pickle.dump(recon_dict,open(savedir+savename, \"wb\"))"
   ]
  },
  {
   "cell_type": "code",
   "execution_count": null,
   "metadata": {},
   "outputs": [],
   "source": []
  },
  {
   "cell_type": "code",
   "execution_count": null,
   "metadata": {},
   "outputs": [],
   "source": []
  },
  {
   "cell_type": "code",
   "execution_count": null,
   "metadata": {},
   "outputs": [],
   "source": []
  },
  {
   "cell_type": "code",
   "execution_count": null,
   "metadata": {},
   "outputs": [],
   "source": []
  },
  {
   "cell_type": "code",
   "execution_count": null,
   "metadata": {},
   "outputs": [],
   "source": []
  },
  {
   "cell_type": "code",
   "execution_count": null,
   "metadata": {},
   "outputs": [],
   "source": []
  },
  {
   "cell_type": "code",
   "execution_count": null,
   "metadata": {},
   "outputs": [],
   "source": []
  },
  {
   "cell_type": "code",
   "execution_count": null,
   "metadata": {},
   "outputs": [],
   "source": []
  }
 ],
 "metadata": {
  "anaconda-cloud": {},
  "kernelspec": {
   "display_name": "Python 3",
   "language": "python",
   "name": "python3"
  },
  "language_info": {
   "codemirror_mode": {
    "name": "ipython",
    "version": 3
   },
   "file_extension": ".py",
   "mimetype": "text/x-python",
   "name": "python",
   "nbconvert_exporter": "python",
   "pygments_lexer": "ipython3",
   "version": "3.6.6"
  }
 },
 "nbformat": 4,
 "nbformat_minor": 2
}
