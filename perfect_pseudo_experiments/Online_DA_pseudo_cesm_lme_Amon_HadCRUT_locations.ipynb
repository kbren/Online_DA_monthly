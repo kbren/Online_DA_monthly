{
 "cells": [
  {
   "cell_type": "code",
   "execution_count": null,
   "metadata": {},
   "outputs": [],
   "source": []
  },
  {
   "cell_type": "code",
   "execution_count": 1,
   "metadata": {},
   "outputs": [],
   "source": [
    "import sys\n",
    "import numpy as np\n",
    "import xarray as xr\n",
    "import datetime\n",
    "import scipy.stats as spy\n",
    "import random\n",
    "\n",
    "import matplotlib.pyplot as plt\n",
    "import cartopy.crs as ccrs\n",
    "\n",
    "import pickle "
   ]
  },
  {
   "cell_type": "code",
   "execution_count": 2,
   "metadata": {},
   "outputs": [],
   "source": [
    "sys.path.append(\"../../\")\n",
    "import Online_DA_utils as oda"
   ]
  },
  {
   "cell_type": "code",
   "execution_count": 3,
   "metadata": {},
   "outputs": [
    {
     "data": {
      "text/plain": [
       "<module 'Online_DA_utils' from '../../Online_DA_utils.py'>"
      ]
     },
     "execution_count": 3,
     "metadata": {},
     "output_type": "execute_result"
    }
   ],
   "source": [
    "import importlib\n",
    "importlib.reload(oda)"
   ]
  },
  {
   "cell_type": "code",
   "execution_count": 4,
   "metadata": {},
   "outputs": [],
   "source": [
    "t =0\n",
    "# Select number of years to reconstruct: \n",
    "nyears = 155\n",
    "\n",
    "# Generate times: \n",
    "t_total = nyears*12\n",
    "years = int(1851+np.floor((t_total-1)/12))\n",
    "time = np.array([datetime.datetime(y, m, 15) for y in np.arange(1851,1851+nyears,1) for m in np.arange(1,13,1)])\n",
    "\n",
    "limvars = ['tas','psl','zg','tos','sit','sic']\n",
    "neofs = 300\n",
    "Nobs = 100"
   ]
  },
  {
   "cell_type": "code",
   "execution_count": 5,
   "metadata": {},
   "outputs": [],
   "source": [
    "tname = 'cesm_lme_Amon'\n",
    "limname = 'cesm_lme_Amon'\n",
    "modname = 'cesm_lme_Amon'\n",
    "tname = 'cesm_lme_Amon'\n",
    "obsname = 'cesm_lme_Amon'\n",
    "# obsname = 'cesm_lme_Amon'"
   ]
  },
  {
   "cell_type": "code",
   "execution_count": 6,
   "metadata": {},
   "outputs": [
    {
     "name": "stdout",
     "output_type": "stream",
     "text": [
      "Loading L....\n",
      "Loading: /home/disk/kalman2/mkb22/SI_LIMs/sensitivity_testing/master/LIMcast_cesm_lme_Amon_ntrain_850_1650_cesm_lme_Amon_validy_1651_1850_tas50L0.1_psl50L0.1_zg50L0.1_tos50L0.1_sit50L40_sic50L40_20211202_sqrtWt.pkl\n"
     ]
    }
   ],
   "source": [
    "## ---------------------------------------------------------\n",
    "## LOAD L: \n",
    "## ---------------------------------------------------------\n",
    "print('Loading L....')\n",
    "LIM = oda.load_L(limname)\n",
    "LIMd = LIM['LIMd']\n",
    "#LIMd.keys()\n",
    "\n",
    "Projector_tas = LIMd['E3']['tas']"
   ]
  },
  {
   "cell_type": "code",
   "execution_count": 7,
   "metadata": {},
   "outputs": [],
   "source": [
    "## ---------------------------------------------------------\n",
    "## LOAD Pseudo Obs: \n",
    "## ---------------------------------------------------------\n",
    "obsdir = '/home/disk/p/mkb22/Documents/si_analysis_kb/Online_DA_monthly/observations/'\n",
    "#obsfilename = 'TAS_pseudo_obs_'+obsname+'_1851_2005.pkl'\n",
    "#obsfilename = 'Hadcrut_data_on_CESMLME_grid_NH.pkl'\n",
    "obsfilename = 'TAS_pseudo_obs_'+obsname+'_hadCRUT_locations_1851_2005.pkl'\n",
    "\n",
    "had_obs_data = pickle.load(open(obsdir+obsfilename,\"rb\"))\n",
    "\n",
    "#had_obs_data_full = had_obs_data['had_on_refgrid'][12:1872,:,:]\n",
    "had_obs_data_full = had_obs_data['observations']\n",
    "\n",
    "#Select obs mask from given timestep in Hadcrut to use throughout:\n",
    "# had_155_mask = np.where(np.isfinite(had_obs_data_og[:,:,150]),1,0)\n",
    "# had_obs_data_full = had_155_mask[:,:,np.newaxis]*np.nan_to_num(had_obs_data_og[:,:,:])\n",
    "# had_obs_data_full[np.logical_not(np.abs(had_obs_data_full)>0)]=np.nan\n",
    "\n",
    "had_obs_full_2d = np.reshape(had_obs_data_full, (had_obs_data_full.shape[0]*had_obs_data_full.shape[1],\n",
    "                                                had_obs_data_full.shape[2]))\n",
    "# had_obs_full_2d = np.reshape(had_obs_data_full, (had_obs_data_full.shape[0],\n",
    "#                                                  had_obs_data_full.shape[1]*had_obs_data_full.shape[2])).T\n",
    "\n",
    "# Project HadCRUT to eof space:\n",
    "eofs_out = LIMd['E3']['tas']/LIMd['standard_factor']['tas']\n",
    "P_var = np.matmul(eofs_out.T, (LIMd['W_all']['tas'][:,np.newaxis]*np.nan_to_num(had_obs_full_2d)))\n",
    "Ptrunc = P_var/LIMd['standard_factor']['tas']"
   ]
  },
  {
   "cell_type": "code",
   "execution_count": 8,
   "metadata": {},
   "outputs": [],
   "source": [
    "## ---------------------------------------------------------\n",
    "## LOAD INITIAL CONDITIONS IN EOF SPACE: \n",
    "## ---------------------------------------------------------\n",
    "priordir = '/home/disk/p/mkb22/Documents/si_analysis_kb/Online_DA_monthly/priors/'\n",
    "priorname = 'Xb_initial_'+modname+'_300ndof_1651_1850.pkl'\n",
    "trainname = 'Xb_initial_'+modname+'_300ndof_850_1650.pkl'\n",
    "#trainname = 'Xb_initial_'+tname+'_300ndof_1850_2473.pkl'\n",
    "\n",
    "Xb_initial_data = pickle.load(open(priordir+priorname,\"rb\"))\n",
    "Xb_initial_allt = Xb_initial_data['Xb_initial']\n",
    "\n",
    "Xb_train_data = pickle.load(open(priordir+trainname,\"rb\"))\n",
    "Xb_train_allt = Xb_train_data['Xb_initial']\n",
    "\n",
    "ndof_total = 0\n",
    "limvars = ['tas','psl','zg','tos','sit','sic']\n",
    "for var in limvars: \n",
    "    ndof_total = ndof_total+LIMd['var_dict'][var]['var_ndof']\n",
    "    \n",
    "Pb_initial = LIMd['C_0']"
   ]
  },
  {
   "cell_type": "code",
   "execution_count": 9,
   "metadata": {},
   "outputs": [],
   "source": [
    "## ---------------------------------------------------------\n",
    "## BUILD H: \n",
    "## ---------------------------------------------------------\n",
    "#had_mask = np.zeros_like(had_obs_data_full)\n",
    "#had_mask[np.isfinite(had_obs_data_full)] = had_mask[np.isfinite(had_obs_data_full)]+1\n",
    "\n",
    "## Randomly sample X number of obs at each timestep: \n",
    "had_mask_rand = np.zeros_like((had_obs_full_2d.T))\n",
    "\n",
    "for t in range(1860):\n",
    "    true_inds = np.where(np.isfinite(np.reshape(had_obs_data_full[:,:,t],\n",
    "                                                (had_obs_data_full.shape[1]*had_obs_data_full.shape[0]))))\n",
    "    \n",
    "    if true_inds[0].shape[0]>=Nobs:\n",
    "        true_rand = random.sample(list(true_inds[0]),Nobs)\n",
    "    else: \n",
    "        true_rand = true_inds[0]\n",
    "\n",
    "    had_mask_rand[t,true_rand] = had_mask_rand[t,true_rand]+1\n",
    "    \n",
    "had_mask = np.reshape(had_mask_rand,(had_mask_rand.shape[0],had_obs_data_full.shape[0],\n",
    "                                       had_obs_data_full.shape[1]))"
   ]
  },
  {
   "cell_type": "code",
   "execution_count": 10,
   "metadata": {},
   "outputs": [],
   "source": [
    "\n",
    "E3_all = np.zeros((ndof_total,neofs))\n",
    "ntrunc = 50\n",
    "\n",
    "for v,var in enumerate(limvars): \n",
    "    E3_all[LIMd['var_dict'][var]['var_inds'],\n",
    "           int(v*ntrunc):int((v+1)*ntrunc)] = LIMd['E3'][var]/np.sqrt(LIMd['standard_factor'][var])\n"
   ]
  },
  {
   "cell_type": "code",
   "execution_count": 11,
   "metadata": {},
   "outputs": [],
   "source": [
    "## ---------------------------------------------------------\n",
    "## Initialize loop over time: \n",
    "## ---------------------------------------------------------\n",
    "obs_assimilated = {}\n",
    "Xa_alltime = np.zeros((t_total,neofs))\n",
    "diff_alltime = {}\n",
    "K_den_alltime = {}\n",
    "mse_xb = np.zeros((t_total))\n",
    "mse_xa = np.zeros((t_total))\n",
    "Pb_trace = np.zeros((t_total))\n",
    "ratios = {}\n",
    "\n",
    "Xb = np.nan_to_num(Xb_initial_allt[:,-1])\n",
    "Pb = Pb_initial"
   ]
  },
  {
   "cell_type": "code",
   "execution_count": 12,
   "metadata": {},
   "outputs": [
    {
     "name": "stdout",
     "output_type": "stream",
     "text": [
      "yes\n"
     ]
    }
   ],
   "source": [
    "t = 100 \n",
    "\n",
    "if (t%100==0)&(t!=0):\n",
    "    print('yes')"
   ]
  },
  {
   "cell_type": "code",
   "execution_count": 13,
   "metadata": {},
   "outputs": [],
   "source": [
    "t=0"
   ]
  },
  {
   "cell_type": "code",
   "execution_count": 14,
   "metadata": {},
   "outputs": [],
   "source": [
    "## ---------------------------------------------------------\n",
    "## BUILD H: \n",
    "## ---------------------------------------------------------\n",
    "#    H_cap, nobs, ndof = oda.build_H_time(had_mask[:,:,t])\n",
    "H_cap, nobs, ndof = oda.build_H_time(had_mask[t,:,:])\n",
    "\n",
    "H = np.zeros((nobs,ndof_total))\n",
    "H[:,0:6912] = H_cap\n",
    "\n",
    "U = E3_all\n",
    "H_eof = np.matmul(H,U)"
   ]
  },
  {
   "cell_type": "code",
   "execution_count": 15,
   "metadata": {},
   "outputs": [],
   "source": [
    "## ---------------------------------------------------------\n",
    "## BUILD R: \n",
    "## ---------------------------------------------------------\n",
    "Hx = np.matmul(H_eof,Xb_train_allt[:,-had_obs_full_2d.shape[1]:])\n",
    "Hx_cap = np.matmul(H_cap,np.nan_to_num(had_obs_full_2d))\n",
    "\n",
    "epsilon = Hx_cap - Hx\n",
    "\n",
    "slope = np.zeros(Hx.shape[0])\n",
    "for i in range(Hx.shape[0]):\n",
    "    slope[i],_,_,_,_ = spy.linregress(Hx[i,:],epsilon[i,:])\n",
    "e = epsilon - slope[:,np.newaxis]*Hx\n",
    "\n",
    "R = np.matmul(epsilon,epsilon.T)/(epsilon.shape[1]-1)\n",
    "R_e = np.matmul(e,e.T)/(e.shape[1]-1)"
   ]
  },
  {
   "cell_type": "code",
   "execution_count": 16,
   "metadata": {},
   "outputs": [
    {
     "data": {
      "text/plain": [
       "Text(0, 0.5, 'epsilon')"
      ]
     },
     "execution_count": 16,
     "metadata": {},
     "output_type": "execute_result"
    },
    {
     "data": {
      "image/png": "[encoded data removed]",
      "text/plain": [
       "<Figure size 432x288 with 1 Axes>"
      ]
     },
     "metadata": {
      "needs_background": "light"
     },
     "output_type": "display_data"
    }
   ],
   "source": [
    "t = 1500\n",
    "plt.scatter(Hx[:,t],epsilon[:,t],label='control-R')\n",
    "plt.scatter(Hx[:,t],e[:,t],label='regression-R')\n",
    "plt.legend()\n",
    "plt.xlabel('Hx',fontsize=12)\n",
    "plt.ylabel('epsilon',fontsize=12)"
   ]
  },
  {
   "cell_type": "code",
   "execution_count": 17,
   "metadata": {},
   "outputs": [
    {
     "ename": "NameError",
     "evalue": "name 'r' is not defined",
     "output_type": "error",
     "traceback": [
      "\u001b[0;31m---------------------------------------------------------------------------\u001b[0m",
      "\u001b[0;31mNameError\u001b[0m                                 Traceback (most recent call last)",
      "\u001b[0;32m<ipython-input-17-656dd22b6e51>\u001b[0m in \u001b[0;36m<module>\u001b[0;34m()\u001b[0m\n\u001b[1;32m      3\u001b[0m \u001b[0;34m\u001b[0m\u001b[0m\n\u001b[1;32m      4\u001b[0m \u001b[0;31m#Y = np.matmul(H_cap,np.nan_to_num(had_obs_full_2d[:,t]))\u001b[0m\u001b[0;34m\u001b[0m\u001b[0;34m\u001b[0m\u001b[0;34m\u001b[0m\u001b[0m\n\u001b[0;32m----> 5\u001b[0;31m \u001b[0mY\u001b[0m \u001b[0;34m=\u001b[0m \u001b[0mnp\u001b[0m\u001b[0;34m.\u001b[0m\u001b[0mmatmul\u001b[0m\u001b[0;34m(\u001b[0m\u001b[0mH_cap\u001b[0m\u001b[0;34m,\u001b[0m\u001b[0mnp\u001b[0m\u001b[0;34m.\u001b[0m\u001b[0mnan_to_num\u001b[0m\u001b[0;34m(\u001b[0m\u001b[0mhad_obs_full_2d\u001b[0m\u001b[0;34m[\u001b[0m\u001b[0;34m:\u001b[0m\u001b[0;34m,\u001b[0m\u001b[0mt\u001b[0m\u001b[0;34m]\u001b[0m\u001b[0;34m)\u001b[0m\u001b[0;34m)\u001b[0m\u001b[0;34m+\u001b[0m\u001b[0;34m(\u001b[0m\u001b[0mnp\u001b[0m\u001b[0;34m.\u001b[0m\u001b[0msqrt\u001b[0m\u001b[0;34m(\u001b[0m\u001b[0mr\u001b[0m\u001b[0;34m)\u001b[0m\u001b[0;34m*\u001b[0m\u001b[0mnp\u001b[0m\u001b[0;34m.\u001b[0m\u001b[0mrandom\u001b[0m\u001b[0;34m.\u001b[0m\u001b[0mrandn\u001b[0m\u001b[0;34m(\u001b[0m\u001b[0mNobs\u001b[0m\u001b[0;34m)\u001b[0m\u001b[0;34m)\u001b[0m\u001b[0;34m\u001b[0m\u001b[0;34m\u001b[0m\u001b[0m\n\u001b[0m\u001b[1;32m      6\u001b[0m \u001b[0;34m\u001b[0m\u001b[0m\n\u001b[1;32m      7\u001b[0m \u001b[0mobs\u001b[0m \u001b[0;34m=\u001b[0m \u001b[0;34m{\u001b[0m\u001b[0;34m}\u001b[0m\u001b[0;34m\u001b[0m\u001b[0;34m\u001b[0m\u001b[0m\n",
      "\u001b[0;31mNameError\u001b[0m: name 'r' is not defined"
     ]
    }
   ],
   "source": [
    "R_hack = R_e\n",
    "H_final = H_eof\n",
    "\n",
    "#Y = np.matmul(H_cap,np.nan_to_num(had_obs_full_2d[:,t]))\n",
    "Y = np.matmul(H_cap,np.nan_to_num(had_obs_full_2d[:,t]))+(np.sqrt(r)*np.random.randn(Nobs))\n",
    "\n",
    "obs = {}\n",
    "obs['obs'] = Y\n",
    "#     obs['obs_lat'] = obs_lat\n",
    "#     obs['obs_lon'] = obs_lon\n",
    "obs_assimilated[t] = obs"
   ]
  },
  {
   "cell_type": "code",
   "execution_count": null,
   "metadata": {},
   "outputs": [],
   "source": [
    "(np.sqrt(r)*np.random.randn(Nobs)).shape, np.matmul(H_cap,np.nan_to_num(had_obs_full_2d[:,t])).shape"
   ]
  },
  {
   "cell_type": "code",
   "execution_count": 57,
   "metadata": {},
   "outputs": [
    {
     "name": "stdout",
     "output_type": "stream",
     "text": [
      "Solving update equation....\n",
      "Updating mean state.\n",
      "Nobs assimilated = 55\n",
      "Prior MSE     = 11.4051333578553\n",
      "Posterior MSE = 1.9243608902414904\n",
      "median(ratio) = 0.19291934233891814\n",
      "mean(ratio) = 0.8959521046331372\n"
     ]
    }
   ],
   "source": [
    "print('Solving update equation....')\n",
    "print('Updating mean state.')\n",
    "print('Nobs assimilated = '+str(Y.shape[0])) \n",
    "\n",
    "Xa, K, K_den, diff = oda.solver_KF_update(Xb, Pb, Y, R_hack, H_final)\n",
    "    \n",
    "Xa_alltime[t,:] = Xa\n",
    "mse_xb[t] = np.nanmean(diff**2)\n",
    "mse_xa[t] = np.nanmean((Y - np.matmul(H_final,Xa))**2)\n",
    "diff_alltime[t] = diff \n",
    "K_den_alltime[t] = K_den\n",
    "cov_d = np.matmul(diff[:,np.newaxis],diff[np.newaxis,:])\n",
    "ratio = np.diagonal(cov_d)/np.diagonal(K_den)\n",
    "\n",
    "print('Prior MSE     = '+str(mse_xb[t]))\n",
    "print('Posterior MSE = '+str(mse_xa[t]))\n",
    "print('median(ratio) = '+str(np.median(ratio)))\n",
    "print('mean(ratio) = '+str(np.mean(ratio)))"
   ]
  },
  {
   "cell_type": "code",
   "execution_count": 58,
   "metadata": {},
   "outputs": [
    {
     "data": {
      "text/plain": [
       "(55,)"
      ]
     },
     "execution_count": 58,
     "metadata": {},
     "output_type": "execute_result"
    }
   ],
   "source": [
    "diff.shape"
   ]
  },
  {
   "cell_type": "code",
   "execution_count": 71,
   "metadata": {},
   "outputs": [
    {
     "name": "stdout",
     "output_type": "stream",
     "text": [
      "Updating covariance.\n"
     ]
    }
   ],
   "source": [
    "ndof = Pb.shape[0]\n",
    "\n",
    "print('Updating covariance.')\n",
    "\n",
    "Pa = oda.solver_KF_cov(K,H_final,Pb)\n",
    "#    Pa_inf = Pa*1.5"
   ]
  },
  {
   "cell_type": "code",
   "execution_count": 72,
   "metadata": {},
   "outputs": [
    {
     "data": {
      "text/plain": [
       "(300, 300)"
      ]
     },
     "execution_count": 72,
     "metadata": {},
     "output_type": "execute_result"
    }
   ],
   "source": [
    "Pa.shape"
   ]
  },
  {
   "cell_type": "code",
   "execution_count": 83,
   "metadata": {},
   "outputs": [
    {
     "name": "stdout",
     "output_type": "stream",
     "text": [
      "Performing forecast...\n",
      "Adjust is False...\n",
      "lag= 1\n",
      "R = 12.302818894226164\n",
      "HPbHT = 13.82178224821778\n"
     ]
    }
   ],
   "source": [
    "print('Performing forecast...')\n",
    "LIM_Xfcast = oda.LIM_forecast(LIMd,Xa,Pa,1,adjust=False)\n",
    "\n",
    "Xb = LIM_Xfcast['x_forecast']\n",
    "Pb = LIM_Xfcast['cov_forecast']\n",
    "\n",
    "Pb_trace[t] = np.trace(LIM_Xfcast['cov_forecast'])\n",
    "\n",
    "print('R = '+str(R_hack.max()))\n",
    "print('HPbHT = '+str(np.max(np.matmul(np.matmul(H_final,Pb),H_final.T))))"
   ]
  },
  {
   "cell_type": "code",
   "execution_count": 88,
   "metadata": {},
   "outputs": [
    {
     "data": {
      "text/plain": [
       "<matplotlib.collections.QuadMesh at 0x7f010ebe4550>"
      ]
     },
     "execution_count": 88,
     "metadata": {},
     "output_type": "execute_result"
    },
    {
     "data": {
      "image/png": "[encoded data removed]",
      "text/plain": [
       "<Figure size 432x288 with 1 Axes>"
      ]
     },
     "metadata": {
      "needs_background": "light"
     },
     "output_type": "display_data"
    }
   ],
   "source": [
    "plt.pcolormesh(np.real(N))"
   ]
  },
  {
   "cell_type": "code",
   "execution_count": 85,
   "metadata": {},
   "outputs": [],
   "source": [
    "eig,vals = np.linalg.eig(N)"
   ]
  },
  {
   "cell_type": "code",
   "execution_count": 86,
   "metadata": {},
   "outputs": [
    {
     "data": {
      "text/plain": [
       "array([ -1.06509812-1.05244987e-14j,  -1.45507611+8.60802343e-16j,\n",
       "        -1.58056824-4.52067598e-15j,  -1.72027912-3.07804678e-15j,\n",
       "        -2.05238452+1.60032383e-15j,  -2.12812062-1.00373720e-14j,\n",
       "        -2.16242855+1.42826851e-16j,  -2.33327086-3.79498397e-15j,\n",
       "        -2.53475076-9.33433156e-15j,  -2.54455614+2.11657678e-16j,\n",
       "        -2.7997739 -5.73675946e-15j,  -3.02425636-1.29899907e-15j,\n",
       "        -3.19538056+7.85562388e-16j,  -3.25863266+3.03138226e-15j,\n",
       "        -3.31750054-1.69264665e-14j,  -3.31260372-2.68068171e-15j,\n",
       "        -3.49286198-9.07844069e-16j,  -3.56210698+3.75555086e-16j,\n",
       "        -3.58993926-4.16916012e-15j,  -3.66348601-3.44724269e-15j,\n",
       "        -3.70865116-5.50092103e-15j,  -3.80103478-2.30422368e-14j,\n",
       "        -3.82101894+3.20719701e-15j,  -3.90158142+1.55298494e-15j,\n",
       "        -3.9400652 +3.28626087e-16j,  -3.93781717-2.57421324e-14j,\n",
       "        -3.97546288+3.41566402e-15j,  -4.03196711-2.95871115e-15j,\n",
       "        -4.06109356+1.02997452e-14j,  -4.12633604-1.27359872e-14j,\n",
       "        -4.13346952-5.87077257e-15j,  -4.16200291-1.53624624e-14j,\n",
       "        -4.19369477-2.69492490e-14j,  -4.21958096+1.12618461e-14j,\n",
       "        -4.24670741+2.55645207e-14j,  -4.25980949+7.47805579e-15j,\n",
       "        -4.30228363-1.41624566e-14j,  -4.31057477+4.14127843e-14j,\n",
       "        -4.35514999-4.77012509e-15j,  -4.3683877 -1.26499987e-14j,\n",
       "        -4.37851607+2.35391998e-14j,  -4.42187443+1.63931938e-14j,\n",
       "        -4.43046444+5.61190260e-15j,  -4.45712028-4.32277374e-15j,\n",
       "        -4.47592598+2.69397224e-15j,  -4.49309453+4.82658361e-15j,\n",
       "        -4.53636469-1.05582047e-14j,  -4.55024388-2.93528221e-15j,\n",
       "        -4.57094485+1.36591712e-15j,  -4.60707725+3.80597562e-14j,\n",
       "        -4.6421693 +1.47903563e-14j,  -4.6609193 -7.53822662e-15j,\n",
       "        -4.68438078+9.38876943e-15j,  -4.67159828-3.79165578e-14j,\n",
       "        -4.72466646-3.46504220e-15j,  -4.74707238-1.18755541e-14j,\n",
       "        -4.75949471+6.35761173e-15j,  -4.79544478-1.50199107e-15j,\n",
       "        -4.81429859+1.28199646e-14j,  -4.84775866-3.37361104e-15j,\n",
       "        -4.86028491+1.89855140e-15j,  -4.86541811-2.77987262e-14j,\n",
       "        -4.89030989-2.17500135e-16j,  -4.91917479+3.47926224e-16j,\n",
       "        -4.93718996-7.26720025e-15j,  -4.96341911+1.34680474e-14j,\n",
       "        -4.97071447+3.32396857e-15j,  -4.99881277+6.99958747e-15j,\n",
       "        -5.01277831-2.33366738e-14j,  -5.02450159-2.84021220e-15j,\n",
       "        -5.03374904-2.90235688e-15j,  -5.07173819+8.81866963e-16j,\n",
       "        -5.07611444-7.79250563e-15j,  -5.09313433-3.33645673e-14j,\n",
       "        -5.10998262-3.76426775e-15j,  -5.13433163-3.74056801e-14j,\n",
       "        -5.13986602-2.31663079e-14j,  -5.15493433+9.34370761e-16j,\n",
       "        -5.18968516+3.13196495e-14j,  -5.20206224-7.71166429e-14j,\n",
       "        -5.21015558+5.08339925e-15j,  -5.23158239-5.17275258e-14j,\n",
       "        -5.25108395+1.31147833e-15j,  -5.27123881-2.27655524e-14j,\n",
       "        -5.28690312+5.76406444e-15j,  -5.29422926+4.27368248e-14j,\n",
       "        -5.34419759-4.82655514e-14j,  -5.35293684-3.46209715e-15j,\n",
       "        -5.32314693+5.06986819e-15j,  -5.3676332 -1.51003226e-14j,\n",
       "        -5.37609441-4.09195092e-14j,  -5.38450002+1.20082160e-14j,\n",
       "        -5.41104814+9.30346857e-15j,  -5.42038931-1.30537582e-14j,\n",
       "        -5.43247956+1.23681813e-13j,  -5.45672133+2.00923954e-15j,\n",
       "        -5.46011691-1.35484534e-14j,  -5.47973935+2.01499243e-15j,\n",
       "        -5.49296657-2.69648221e-14j,  -5.50891542-9.24032134e-15j,\n",
       "        -5.51973221+7.88951273e-15j,  -5.55224888+6.06224660e-14j,\n",
       "        -5.53866106-3.15346623e-16j,  -5.56427282+4.87733835e-14j,\n",
       "        -5.58393687+2.36985630e-14j,  -5.57305256-6.46004877e-14j,\n",
       "        -5.60959675+6.25271335e-14j,  -5.61766104-2.90211327e-14j,\n",
       "        -5.65423381-5.40813776e-15j,  -5.67052702+1.26468954e-14j,\n",
       "        -5.68548938-1.20311784e-14j,  -5.69393087-2.99903886e-15j,\n",
       "        -5.68939815+5.21598722e-15j,  -5.73528343+1.22344977e-14j,\n",
       "        -5.71384674+9.26152159e-15j,  -5.71817171-1.99056494e-14j,\n",
       "        -5.75710969-1.08533398e-14j,  -5.78243288+9.16348150e-15j,\n",
       "        -5.78779095+2.43318137e-16j,  -5.8012266 +4.63263219e-15j,\n",
       "        -5.82322254+2.07224636e-14j,  -6.04327285-5.24631352e-14j,\n",
       "        -6.02959639+1.23153029e-14j,  -5.84239733-9.20167533e-15j,\n",
       "        -5.85380065+2.92389142e-14j,  -5.86801417+3.69740681e-14j,\n",
       "        -5.87354278-1.64268746e-15j,  -6.02082626-1.96792798e-14j,\n",
       "        -5.90548029+2.53676661e-14j,  -5.91698154+7.20933633e-14j,\n",
       "        -5.93669588-3.48853702e-14j,  -5.94751266-2.40428631e-16j,\n",
       "        -5.96026113-1.36631220e-14j,  -5.97396325+4.61774044e-14j,\n",
       "        -5.9912422 +3.20071115e-14j,  -5.98756313+5.03239913e-14j,\n",
       "        -6.11775768-2.62521576e-14j,  -6.09885428+1.50879647e-14j,\n",
       "        -6.07746827-1.99344995e-14j,  -6.05532557-7.50520425e-14j,\n",
       "        -6.12928921-2.43179922e-14j,  -6.14607924-1.42459065e-14j,\n",
       "        -6.21654768-2.39246450e-14j,  -6.20881592+7.75747005e-15j,\n",
       "        -6.17662327-6.11815764e-14j,  -6.1805421 -3.19542343e-15j,\n",
       "        -6.2777219 +8.50006685e-15j,  -6.24779897+1.78775882e-15j,\n",
       "        -6.25464356+3.53860363e-14j,  -6.26089977-4.67544322e-16j,\n",
       "        -6.30400527-3.45397603e-15j,  -6.34691306+3.16083055e-15j,\n",
       "        -6.31917453-1.20405567e-13j,  -6.32941873-9.89784058e-15j,\n",
       "        -6.36154562-1.13916375e-14j,  -6.3703835 -7.11497498e-14j,\n",
       "        -6.38956125+1.71177513e-15j,  -6.39494288-4.62593055e-14j,\n",
       "        -6.42451393-5.15443444e-14j,  -6.43337136-2.75116783e-14j,\n",
       "        -6.50307684+1.74686558e-15j,  -6.48910254-1.92757672e-14j,\n",
       "        -6.45538372-1.01703321e-14j,  -6.4670147 +2.02823644e-14j,\n",
       "       -10.01440516+4.03714026e-13j,  -9.47060576+1.95131037e-14j,\n",
       "        -9.28263367-4.80458929e-14j,  -6.52029133-1.93682019e-14j,\n",
       "        -6.5390903 +2.93344120e-14j,  -6.5520775 +4.66499872e-14j,\n",
       "        -6.56954941-5.03279670e-15j,  -6.5865836 -2.62538497e-15j,\n",
       "        -6.59899108+6.74495819e-15j,  -6.61290099-8.90092987e-15j,\n",
       "        -6.62441395+6.47425658e-15j,  -6.64143127+7.39813502e-15j,\n",
       "        -6.65970669-5.71126128e-14j,  -6.67824057+9.52753981e-14j,\n",
       "        -9.11362189-1.33598703e-12j,  -9.07905187+1.73548419e-14j,\n",
       "        -8.8975447 +1.50353731e-14j,  -8.8896075 +1.57076162e-13j,\n",
       "        -8.79449017+3.75780794e-14j,  -8.7391065 +5.19459277e-13j,\n",
       "        -8.71390548+8.73203256e-16j,  -8.6554541 -1.53708174e-14j,\n",
       "        -6.68710795-4.62438624e-15j,  -6.69264757-8.65663758e-14j,\n",
       "        -6.72007969+1.66319920e-14j,  -6.73434135-5.21668163e-14j,\n",
       "        -6.74229573+6.14572350e-14j,  -6.75188605-2.13542785e-14j,\n",
       "        -6.76626945+2.76428763e-14j,  -6.7729347 -2.64133877e-14j,\n",
       "        -8.62653666+7.45522057e-14j,  -8.63387374-6.18995460e-15j,\n",
       "        -6.78365773-3.94011281e-14j,  -6.79930047+7.26865087e-14j,\n",
       "        -6.81418875-1.66419175e-15j,  -6.82473672-5.05567298e-14j,\n",
       "        -8.50877597+1.54160790e-14j,  -6.85719623+6.16482818e-14j,\n",
       "        -6.86797678-2.29596534e-14j,  -6.87893281+5.91297103e-14j,\n",
       "        -6.89106825+4.78592379e-14j,  -8.46014699+7.22863184e-14j,\n",
       "        -8.43828921+1.44733672e-14j,  -8.41519132+2.11904195e-14j,\n",
       "        -6.90336502-1.03043163e-14j,  -6.91592625+3.30735655e-14j,\n",
       "        -6.94511148-2.53353932e-13j,  -6.95511827-4.58130859e-14j,\n",
       "        -6.97427031+4.79326469e-14j,  -6.98292548+3.75352112e-14j,\n",
       "        -7.03406086+3.59026795e-14j,  -6.99797847+2.96583186e-14j,\n",
       "        -7.00821892+2.46286638e-14j,  -7.01334906+2.00155318e-14j,\n",
       "        -7.02446825-4.01928403e-14j,  -8.38055951+5.95299267e-16j,\n",
       "        -8.34895163+4.34363471e-15j,  -8.30896988+7.35154580e-15j,\n",
       "        -8.2815131 +1.88042856e-14j,  -8.25755177-1.55765418e-14j,\n",
       "        -8.16056683+3.20825129e-15j,  -8.17475131-6.40986445e-14j,\n",
       "        -8.22730883-1.47621067e-14j,  -8.1866135 +6.99709079e-15j,\n",
       "        -8.21564294+5.47349121e-14j,  -7.05713117-1.14868495e-13j,\n",
       "        -7.06365048+2.30875260e-14j,  -8.09407593-4.63598836e-15j,\n",
       "        -8.11585619+2.76130897e-14j,  -7.1012332 +2.36555022e-14j,\n",
       "        -7.08724951-7.70318802e-15j,  -7.08573045-8.67713426e-14j,\n",
       "        -7.12498108+3.60877936e-14j,  -7.12915724+6.16808811e-14j,\n",
       "        -8.05917449+3.70211001e-14j,  -8.05419754+6.75232067e-14j,\n",
       "        -8.03797496+5.29665988e-15j,  -7.1803314 -5.37888249e-14j,\n",
       "        -7.14823257-1.27316160e-13j,  -7.14912064-5.42993276e-14j,\n",
       "        -7.1997038 -5.98089223e-14j,  -7.21037556+1.27285726e-14j,\n",
       "        -7.23891438-1.39766328e-14j,  -7.25070601-5.13709902e-14j,\n",
       "        -8.00501344-5.72016620e-14j,  -7.98789302-2.41804592e-14j,\n",
       "        -7.95505926+6.64252130e-15j,  -7.88059816-1.52940463e-14j,\n",
       "        -7.91285042-1.52449085e-13j,  -7.93660391-1.69793697e-14j,\n",
       "        -7.92698573+3.86876016e-14j,  -7.1631862 +1.51840557e-14j,\n",
       "        -7.20798456-2.99707408e-14j,  -7.26989385+8.61753066e-15j,\n",
       "        -7.28977189-5.12403225e-14j,  -7.32448115-5.35228677e-14j,\n",
       "        -7.97663179-3.10172303e-14j,  -8.02229925-1.33146238e-14j,\n",
       "        -7.84601971-3.46749961e-15j,  -7.81432759+1.48630639e-15j,\n",
       "        -7.79872901+5.84269027e-14j,  -7.71632953+6.90097048e-14j,\n",
       "        -7.27516047-3.76399620e-14j,  -7.30172768+6.62508434e-14j,\n",
       "        -7.35128914-3.24370596e-14j,  -7.34329313-6.65519110e-16j,\n",
       "        -7.41642707-3.35662252e-14j,  -7.38620912+6.31286733e-14j,\n",
       "        -7.37230507-4.44480676e-14j,  -7.62389435+1.72934480e-13j,\n",
       "        -7.64539661+9.83137360e-14j,  -7.73186322-4.56741727e-14j,\n",
       "        -7.76084034-9.66562128e-15j,  -7.83416386+4.61658994e-15j,\n",
       "        -7.57492274+5.75419597e-14j,  -7.45243171-3.86947308e-14j,\n",
       "        -7.47178354-1.14540646e-13j,  -7.54134965+1.33789420e-14j,\n",
       "        -7.73805817+9.84369345e-14j,  -7.77081742+4.80078473e-14j,\n",
       "        -7.77220628+6.13016446e-14j,  -7.39441414-1.51044922e-14j,\n",
       "        -7.3659587 +4.87789529e-14j,  -7.68219637+2.20315003e-14j,\n",
       "        -7.60702894+7.96697493e-14j,  -7.67925763-1.65387384e-14j,\n",
       "        -7.67627997+6.47386682e-14j,  -7.58558325-7.12509932e-14j,\n",
       "        -7.55844263+7.21466187e-14j,  -7.44552421+2.92947661e-14j,\n",
       "        -7.4397287 -6.49665790e-15j,  -7.48254808-1.27099598e-14j,\n",
       "        -7.51316597-1.65745968e-14j,  -7.5482034 +3.68942700e-14j,\n",
       "        -7.51788663+6.41310179e-14j,  -7.50451283-2.61055771e-14j])"
      ]
     },
     "execution_count": 86,
     "metadata": {},
     "output_type": "execute_result"
    }
   ],
   "source": [
    "np.log(eig)"
   ]
  },
  {
   "cell_type": "code",
   "execution_count": null,
   "metadata": {},
   "outputs": [],
   "source": []
  },
  {
   "cell_type": "code",
   "execution_count": 23,
   "metadata": {},
   "outputs": [],
   "source": [
    "obsdir = '/home/disk/p/mkb22/Documents/si_analysis_kb/Online_DA_monthly/observations/'\n",
    "#obsfilename = 'TAS_pseudo_obs_'+obsname+'_1851_2005.pkl'\n",
    "obsfilename = 'Hadcrut_data_on_CESMLME_grid_NH.pkl'\n",
    "#obsfilename = 'TAS_pseudo_obs_'+obsname+'_hadCRUT_locations_1851_2005.pkl'\n",
    "\n",
    "had_obs_data = pickle.load(open(obsdir+obsfilename,\"rb\"))\n",
    "\n",
    "#had_obs_data_full = had_obs_data['had_on_refgrid'][12:1872,:,:]\n",
    "had_obs_data_full = had_obs_data['had_on_refgrid'][12:2063,:,:]\n",
    "#had_obs_data_full = had_obs_data['observations']\n",
    "# had_obs_data_og = had_obs_data['observations']\n",
    "\n",
    "#Select obs mask from given timestep in Hadcrut to use throughout:\n",
    "# had_155_mask = np.where(np.isfinite(had_obs_data_og[:,:,150]),1,0)\n",
    "# had_obs_data_full = had_155_mask[:,:,np.newaxis]*np.nan_to_num(had_obs_data_og[:,:,:])\n",
    "# had_obs_data_full[np.logical_not(np.abs(had_obs_data_full)>0)]=np.nan\n",
    "\n",
    "# had_obs_full_2d = np.reshape(had_obs_data_full, (had_obs_data_full.shape[0]*had_obs_data_full.shape[1],\n",
    "#                                                 had_obs_data_full.shape[2]))\n",
    "had_obs_full_2d = np.reshape(had_obs_data_full, (had_obs_data_full.shape[0],\n",
    "                                                 had_obs_data_full.shape[1]*had_obs_data_full.shape[2])).T"
   ]
  },
  {
   "cell_type": "code",
   "execution_count": 61,
   "metadata": {},
   "outputs": [],
   "source": [
    "t = 1860"
   ]
  },
  {
   "cell_type": "code",
   "execution_count": 62,
   "metadata": {},
   "outputs": [
    {
     "ename": "IndexError",
     "evalue": "index 65988 is out of bounds for axis 1 with size 6912",
     "output_type": "error",
     "traceback": [
      "\u001b[0;31m---------------------------------------------------------------------------\u001b[0m",
      "\u001b[0;31mIndexError\u001b[0m                                Traceback (most recent call last)",
      "\u001b[0;32m<ipython-input-62-b1ebdfc6906d>\u001b[0m in \u001b[0;36m<module>\u001b[0;34m()\u001b[0m\n\u001b[1;32m     11\u001b[0m         \u001b[0mtrue_rand\u001b[0m \u001b[0;34m=\u001b[0m \u001b[0mtrue_inds\u001b[0m\u001b[0;34m[\u001b[0m\u001b[0;36m0\u001b[0m\u001b[0;34m]\u001b[0m\u001b[0;34m\u001b[0m\u001b[0;34m\u001b[0m\u001b[0m\n\u001b[1;32m     12\u001b[0m \u001b[0;34m\u001b[0m\u001b[0m\n\u001b[0;32m---> 13\u001b[0;31m     \u001b[0mhad_mask_rand\u001b[0m\u001b[0;34m[\u001b[0m\u001b[0mt\u001b[0m\u001b[0;34m,\u001b[0m\u001b[0mtrue_rand\u001b[0m\u001b[0;34m]\u001b[0m \u001b[0;34m=\u001b[0m \u001b[0mhad_mask_rand\u001b[0m\u001b[0;34m[\u001b[0m\u001b[0mt\u001b[0m\u001b[0;34m,\u001b[0m\u001b[0mtrue_rand\u001b[0m\u001b[0;34m]\u001b[0m\u001b[0;34m+\u001b[0m\u001b[0;36m1\u001b[0m\u001b[0;34m\u001b[0m\u001b[0;34m\u001b[0m\u001b[0m\n\u001b[0m\u001b[1;32m     14\u001b[0m \u001b[0;34m\u001b[0m\u001b[0m\n\u001b[1;32m     15\u001b[0m had_mask = np.reshape(had_mask_rand,(had_mask_rand.shape[0],had_obs_data_full.shape[1],\n",
      "\u001b[0;31mIndexError\u001b[0m: index 65988 is out of bounds for axis 1 with size 6912"
     ]
    }
   ],
   "source": [
    "## Randomly sample X number of obs at each timestep: \n",
    "had_mask_rand = np.zeros_like((had_obs_full_2d.T))\n",
    "\n",
    "for t in range(1860):\n",
    "    true_inds = np.where(np.isfinite(np.reshape(had_obs_data_full[t,:,:],\n",
    "                                                (had_obs_data_full.shape[1]*had_obs_data_full.shape[2]))))\n",
    "\n",
    "    if true_inds[0].shape[0]>=Nobs:\n",
    "        true_rand = random.sample(list(true_inds[0]),Nobs)\n",
    "    else: \n",
    "        true_rand = true_inds[0]\n",
    "\n",
    "    had_mask_rand[t,true_rand] = had_mask_rand[t,true_rand]+1\n",
    "\n",
    "had_mask = np.reshape(had_mask_rand,(had_mask_rand.shape[0],had_obs_data_full.shape[1],\n",
    "                                     had_obs_data_full.shape[2]))"
   ]
  },
  {
   "cell_type": "code",
   "execution_count": 63,
   "metadata": {},
   "outputs": [
    {
     "data": {
      "text/plain": [
       "(1860, 48, 144)"
      ]
     },
     "execution_count": 63,
     "metadata": {},
     "output_type": "execute_result"
    }
   ],
   "source": [
    "had_mask.shape"
   ]
  },
  {
   "cell_type": "code",
   "execution_count": 27,
   "metadata": {},
   "outputs": [],
   "source": [
    "H_cap, nobs, ndof = oda.build_H_time(had_mask[t,:,:])\n",
    "\n",
    "H = np.zeros((nobs,ndof_total))\n",
    "H[:,0:6912] = H_cap"
   ]
  },
  {
   "cell_type": "code",
   "execution_count": 28,
   "metadata": {},
   "outputs": [
    {
     "data": {
      "text/plain": [
       "(50, 6912)"
      ]
     },
     "execution_count": 28,
     "metadata": {},
     "output_type": "execute_result"
    }
   ],
   "source": [
    "H_cap.shape"
   ]
  },
  {
   "cell_type": "code",
   "execution_count": 60,
   "metadata": {},
   "outputs": [
    {
     "data": {
      "text/plain": [
       "(55,)"
      ]
     },
     "execution_count": 60,
     "metadata": {},
     "output_type": "execute_result"
    }
   ],
   "source": [
    "Y = np.matmul(H_cap,np.nan_to_num(had_obs_full_2d[:,t]))\n",
    "Y.shape"
   ]
  },
  {
   "cell_type": "code",
   "execution_count": null,
   "metadata": {},
   "outputs": [],
   "source": []
  }
 ],
 "metadata": {
  "kernelspec": {
   "display_name": "Python 3",
   "language": "python",
   "name": "python3"
  },
  "language_info": {
   "codemirror_mode": {
    "name": "ipython",
    "version": 3
   },
   "file_extension": ".py",
   "mimetype": "text/x-python",
   "name": "python",
   "nbconvert_exporter": "python",
   "pygments_lexer": "ipython3",
   "version": "3.6.10"
  }
 },
 "nbformat": 4,
 "nbformat_minor": 2
}
