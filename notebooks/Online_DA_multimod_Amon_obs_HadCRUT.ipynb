{
 "cells": [
  {
   "cell_type": "markdown",
   "metadata": {},
   "source": [
    "# Online DA: \n",
    "## CESM LME prior/LIM, HadCRUT5 observations"
   ]
  },
  {
   "cell_type": "code",
   "execution_count": 2,
   "metadata": {},
   "outputs": [],
   "source": [
    "import sys\n",
    "import numpy as np\n",
    "import xarray as xr\n",
    "import scipy.stats as spy\n",
    "import datetime\n",
    "import random\n",
    "\n",
    "import matplotlib.pyplot as plt\n",
    "import cartopy.crs as ccrs\n",
    "\n",
    "import pickle "
   ]
  },
  {
   "cell_type": "code",
   "execution_count": 3,
   "metadata": {},
   "outputs": [],
   "source": [
    "sys.path.append(\"../\")\n",
    "import Online_DA_utils as oda"
   ]
  },
  {
   "cell_type": "code",
   "execution_count": 4,
   "metadata": {},
   "outputs": [
    {
     "data": {
      "text/plain": [
       "<module 'Online_DA_utils' from '../Online_DA_utils.py'>"
      ]
     },
     "execution_count": 4,
     "metadata": {},
     "output_type": "execute_result"
    }
   ],
   "source": [
    "import importlib\n",
    "importlib.reload(oda)"
   ]
  },
  {
   "cell_type": "code",
   "execution_count": 113,
   "metadata": {},
   "outputs": [],
   "source": [
    "t =0\n",
    "# Select number of years to reconstruct: \n",
    "nyears = 155\n",
    "\n",
    "# Generate times: \n",
    "t_total = nyears*12\n",
    "years = int(1850+np.floor((t_total-1)/12))\n",
    "time = np.array([datetime.datetime(y, m, 15) for y in np.arange(1850,1850+nyears,1) for m in np.arange(1,13,1)])\n",
    "\n",
    "limvars = ['tas','psl','zg','tos','sit','sic']\n",
    "neofs = 300\n",
    "\n",
    "limname = 'multimod_MPI_GFDL_HadGEM3_CanESM_Amon'\n",
    "modname = 'cesm_lme_Amon'\n",
    "tname = 'multimod_MPI_GFDL_HadGEM3_CanESM_hist_Amon'\n",
    "obsname = 'hadCRUT_all'"
   ]
  },
  {
   "cell_type": "code",
   "execution_count": 114,
   "metadata": {},
   "outputs": [
    {
     "data": {
      "text/plain": [
       "'ODA_prior_cesm_lme_Amon_LIM_multimod_MPI_GFDL_HadGEM3_CanESM_Amon_obs_hadCRUT_all_t_0_1860_nomj_trainRe.pkl'"
      ]
     },
     "execution_count": 114,
     "metadata": {},
     "output_type": "execute_result"
    }
   ],
   "source": [
    "savename = ('ODA_prior_'+modname+'_LIM_'+limname+'_obs_'+obsname+'_t_0_'+str(t_total)+'_nomj_trainRe.pkl')\n",
    "savename"
   ]
  },
  {
   "cell_type": "markdown",
   "metadata": {},
   "source": [
    "### Load L: "
   ]
  },
  {
   "cell_type": "code",
   "execution_count": 115,
   "metadata": {},
   "outputs": [
    {
     "name": "stdout",
     "output_type": "stream",
     "text": [
      "Loading L....\n",
      "Loading: /home/disk/kalman2/mkb22/SI_LIMs/sensitivity_testing/multimod/LIMcast_multimod_MPI_GFDL_HadGEM3_CanESM_hist_Amon_ntrain29_202110_cesm_lme_Amon_validy_1851_1950_tas50L0.1_psl50L0.1_zg50L0.1_tos50L0.1_sit50L40_sic50L40_20220114.pkl\n"
     ]
    },
    {
     "data": {
      "text/plain": [
       "dict_keys(['vec', 'veci', 'val', 'lam_L', 'C_0', 'C_1', 'Gt', 'lam_L_adj', 'npos_eigenvalues', 'E3', 'W_all', 'standard_factor', 'E3_all', 'E_sic', 'var_dict', 'P_train', 'exp_setup', 'frac_neg_eigenvals'])"
      ]
     },
     "execution_count": 115,
     "metadata": {},
     "output_type": "execute_result"
    }
   ],
   "source": [
    "print('Loading L....')\n",
    "LIM = oda.load_L(limname)\n",
    "LIMd = LIM['LIMd']\n",
    "LIMd.keys()"
   ]
  },
  {
   "cell_type": "code",
   "execution_count": 116,
   "metadata": {},
   "outputs": [],
   "source": [
    "Projector_tas = LIMd['E3']['tas']"
   ]
  },
  {
   "cell_type": "markdown",
   "metadata": {},
   "source": [
    "### Load pseudo observations at HadCRUT locations: "
   ]
  },
  {
   "cell_type": "code",
   "execution_count": 117,
   "metadata": {},
   "outputs": [],
   "source": [
    "obsdir = '/home/disk/p/mkb22/Documents/si_analysis_kb/Online_DA_monthly/observations/'\n",
    "#obsfilename = 'TAS_pseudo_obs_'+obsname+'_1851_2005.pkl'\n",
    "obsfilename = 'Hadcrut_data_on_CESMLME_grid_NH.pkl'\n",
    "\n",
    "had_obs_data = pickle.load(open(obsdir+obsfilename,\"rb\"))\n",
    "\n",
    "had_obs_data_full = had_obs_data['had_on_refgrid'][12:1872,:,:]\n",
    "# had_obs_data_og = had_obs_data['had_on_refgrid'][12:1872,:,:]\n",
    "# had_obs_data_og = had_obs_data['observations']\n",
    "\n",
    "#Select obs mask from given timestep in Hadcrut to use throughout:\n",
    "# had_155_mask = np.where(np.isfinite(had_obs_data_og[0,:,:]),1,0)\n",
    "# had_obs_data_full = had_155_mask[np.newaxis,:,:]*np.nan_to_num(had_obs_data_og[:,:,:])\n",
    "# had_obs_data_full[np.logical_not(np.abs(had_obs_data_full)>0)]=np.nan\n",
    "\n",
    "had_obs_full_2d = np.reshape(had_obs_data_full, (had_obs_data_full.shape[0],\n",
    "                                                 had_obs_data_full.shape[1]*had_obs_data_full.shape[2])).T\n",
    "# had_obs_full_2d = np.reshape(had_obs_data_full, (had_obs_data_full.shape[0],\n",
    "#                                                  had_obs_data_full.shape[1]*had_obs_data_full.shape[2])).T\n",
    "\n",
    "#had_obs_data = pickle.load(open(obsdir+obsfilename,\"rb\"))"
   ]
  },
  {
   "cell_type": "code",
   "execution_count": 118,
   "metadata": {},
   "outputs": [],
   "source": [
    "nobs = np.zeros((1860))\n",
    "\n",
    "for t in range(1860):\n",
    "    nobs[t] = np.isfinite(had_obs_full_2d[:,t]).sum()"
   ]
  },
  {
   "cell_type": "code",
   "execution_count": 119,
   "metadata": {},
   "outputs": [
    {
     "data": {
      "text/plain": [
       "[<matplotlib.lines.Line2D at 0x7f1afd7a6ef0>]"
      ]
     },
     "execution_count": 119,
     "metadata": {},
     "output_type": "execute_result"
    },
    {
     "data": {
      "image/png": "[encoded data removed]",
      "text/plain": [
       "<Figure size 432x288 with 1 Axes>"
      ]
     },
     "metadata": {
      "needs_background": "light"
     },
     "output_type": "display_data"
    }
   ],
   "source": [
    "plt.plot(nobs)"
   ]
  },
  {
   "cell_type": "code",
   "execution_count": 120,
   "metadata": {},
   "outputs": [
    {
     "data": {
      "text/plain": [
       "(104,)"
      ]
     },
     "execution_count": 120,
     "metadata": {},
     "output_type": "execute_result"
    }
   ],
   "source": [
    "np.where(nobs<200)[0].shape"
   ]
  },
  {
   "cell_type": "code",
   "execution_count": 121,
   "metadata": {},
   "outputs": [],
   "source": [
    "had_obs_data_full = had_obs_data['had_on_refgrid'][12:1872,:,:]"
   ]
  },
  {
   "cell_type": "code",
   "execution_count": 122,
   "metadata": {},
   "outputs": [
    {
     "data": {
      "text/plain": [
       "<matplotlib.collections.QuadMesh at 0x7f1afc1d3be0>"
      ]
     },
     "execution_count": 122,
     "metadata": {},
     "output_type": "execute_result"
    },
    {
     "data": {
      "image/png": "[encoded data removed]",
      "text/plain": [
       "<Figure size 432x288 with 1 Axes>"
      ]
     },
     "metadata": {
      "needs_background": "light"
     },
     "output_type": "display_data"
    }
   ],
   "source": [
    "plt.pcolormesh(had_obs_data_full[0,:,:])"
   ]
  },
  {
   "cell_type": "code",
   "execution_count": 123,
   "metadata": {},
   "outputs": [],
   "source": [
    "had_obs_data_full = had_obs_data['had_on_refgrid'][12:1872,:,:]\n",
    "had_obs_full_2d = np.reshape(had_obs_data_full, (had_obs_data_full.shape[0],\n",
    "                                                 had_obs_data_full.shape[1]*had_obs_data_full.shape[2])).T"
   ]
  },
  {
   "cell_type": "code",
   "execution_count": 124,
   "metadata": {},
   "outputs": [
    {
     "data": {
      "text/plain": [
       "<matplotlib.collections.QuadMesh at 0x7f1afc38edd8>"
      ]
     },
     "execution_count": 124,
     "metadata": {},
     "output_type": "execute_result"
    },
    {
     "data": {
      "image/png": "[encoded data removed]",
      "text/plain": [
       "<Figure size 432x288 with 1 Axes>"
      ]
     },
     "metadata": {
      "needs_background": "light"
     },
     "output_type": "display_data"
    }
   ],
   "source": [
    "plt.pcolormesh(had_obs_data_full[177,:,:])"
   ]
  },
  {
   "cell_type": "code",
   "execution_count": 125,
   "metadata": {},
   "outputs": [
    {
     "data": {
      "text/plain": [
       "array([nan, nan, nan, ..., nan, nan, nan])"
      ]
     },
     "execution_count": 125,
     "metadata": {},
     "output_type": "execute_result"
    }
   ],
   "source": [
    "had_obs_full_2d[:,0]"
   ]
  },
  {
   "cell_type": "code",
   "execution_count": 126,
   "metadata": {},
   "outputs": [],
   "source": [
    "# Project HadCRUT to eof space:\n",
    "eofs_out = LIMd['E3']['tas']/LIMd['standard_factor']['tas']\n",
    "P_var = np.matmul(eofs_out.T, (LIMd['W_all']['tas'][:,np.newaxis]*np.nan_to_num(had_obs_full_2d)))\n",
    "Ptrunc = P_var/LIMd['standard_factor']['tas']"
   ]
  },
  {
   "cell_type": "code",
   "execution_count": 19,
   "metadata": {},
   "outputs": [],
   "source": [
    "#HadCRUT_tas, HadCRUT_lat, HadCRUT_lon, HadCRUT_time = oda.load_HadCRUT5()"
   ]
  },
  {
   "cell_type": "markdown",
   "metadata": {},
   "source": [
    "## Load initial conditions in eof space: "
   ]
  },
  {
   "cell_type": "code",
   "execution_count": 20,
   "metadata": {},
   "outputs": [],
   "source": [
    "priordir = '/home/disk/p/mkb22/Documents/si_analysis_kb/Online_DA_monthly/priors/'\n",
    "priorname = 'Xb_initial_'+modname+'_300ndof_1651_1850.pkl'\n",
    "trainname = 'Xb_initial_'+tname+'_300ndof_1850_2473.pkl'\n",
    "\n",
    "Xb_initial_data = pickle.load(open(priordir+priorname,\"rb\"))\n",
    "Xb_initial_allt = Xb_initial_data['Xb_initial']"
   ]
  },
  {
   "cell_type": "code",
   "execution_count": 21,
   "metadata": {},
   "outputs": [],
   "source": [
    "Xb_train_data = pickle.load(open(priordir+trainname,\"rb\"))\n",
    "Xb_train_allt = Xb_train_data['Xb_initial']"
   ]
  },
  {
   "cell_type": "code",
   "execution_count": 22,
   "metadata": {},
   "outputs": [],
   "source": [
    "ndof_total = 0\n",
    "limvars = ['tas','psl','zg','tos','sit','sic']\n",
    "for var in limvars: \n",
    "    ndof_total = ndof_total+LIMd['var_dict'][var]['var_ndof']"
   ]
  },
  {
   "cell_type": "code",
   "execution_count": 23,
   "metadata": {},
   "outputs": [],
   "source": [
    "Pb_initial = LIMd['C_0']"
   ]
  },
  {
   "cell_type": "code",
   "execution_count": 24,
   "metadata": {},
   "outputs": [
    {
     "data": {
      "text/plain": [
       "[<matplotlib.lines.Line2D at 0x7f1afcbf2e48>]"
      ]
     },
     "execution_count": 24,
     "metadata": {},
     "output_type": "execute_result"
    },
    {
     "data": {
      "image/png": "[encoded data removed]",
      "text/plain": [
       "<Figure size 432x288 with 1 Axes>"
      ]
     },
     "metadata": {
      "needs_background": "light"
     },
     "output_type": "display_data"
    }
   ],
   "source": [
    "plt.plot(LIMd['C_0'][0,:])"
   ]
  },
  {
   "cell_type": "markdown",
   "metadata": {},
   "source": [
    "### Build H:\n",
    "H should be a matrix of size (nobs, nlalo) filled with zeros and ones. One one per column at the ob location. "
   ]
  },
  {
   "cell_type": "code",
   "execution_count": 25,
   "metadata": {},
   "outputs": [
    {
     "ename": "NameError",
     "evalue": "name 'had_obs_data_og' is not defined",
     "output_type": "error",
     "traceback": [
      "\u001b[0;31m---------------------------------------------------------------------------\u001b[0m",
      "\u001b[0;31mNameError\u001b[0m                                 Traceback (most recent call last)",
      "\u001b[0;32m<ipython-input-25-aff181771c2c>\u001b[0m in \u001b[0;36m<module>\u001b[0;34m()\u001b[0m\n\u001b[0;32m----> 1\u001b[0;31m \u001b[0mhad_obs_data_og\u001b[0m\u001b[0;34m.\u001b[0m\u001b[0mshape\u001b[0m\u001b[0;34m,\u001b[0m \u001b[0mhad_155_mask\u001b[0m\u001b[0;34m.\u001b[0m\u001b[0mshape\u001b[0m\u001b[0;34m\u001b[0m\u001b[0;34m\u001b[0m\u001b[0m\n\u001b[0m",
      "\u001b[0;31mNameError\u001b[0m: name 'had_obs_data_og' is not defined"
     ]
    }
   ],
   "source": [
    "had_obs_data_og.shape, had_155_mask.shape"
   ]
  },
  {
   "cell_type": "code",
   "execution_count": 109,
   "metadata": {},
   "outputs": [],
   "source": [
    "had_mask = np.zeros_like(had_obs_data_full)\n",
    "had_mask[np.isfinite(had_obs_data_full)] = had_mask[np.isfinite(had_obs_data_full)]+1"
   ]
  },
  {
   "cell_type": "code",
   "execution_count": 110,
   "metadata": {},
   "outputs": [
    {
     "ename": "IndexError",
     "evalue": "index 192929 is out of bounds for axis 1 with size 6912",
     "output_type": "error",
     "traceback": [
      "\u001b[0;31m---------------------------------------------------------------------------\u001b[0m",
      "\u001b[0;31mIndexError\u001b[0m                                Traceback (most recent call last)",
      "\u001b[0;32m<ipython-input-110-578dcf7c0dd0>\u001b[0m in \u001b[0;36m<module>\u001b[0;34m()\u001b[0m\n\u001b[1;32m     10\u001b[0m         \u001b[0mtrue_rand\u001b[0m \u001b[0;34m=\u001b[0m \u001b[0mtrue_inds\u001b[0m\u001b[0;34m[\u001b[0m\u001b[0;36m0\u001b[0m\u001b[0;34m]\u001b[0m\u001b[0;34m\u001b[0m\u001b[0;34m\u001b[0m\u001b[0m\n\u001b[1;32m     11\u001b[0m \u001b[0;34m\u001b[0m\u001b[0m\n\u001b[0;32m---> 12\u001b[0;31m     \u001b[0mhad_mask_rand\u001b[0m\u001b[0;34m[\u001b[0m\u001b[0mt\u001b[0m\u001b[0;34m,\u001b[0m\u001b[0mtrue_rand\u001b[0m\u001b[0;34m]\u001b[0m \u001b[0;34m=\u001b[0m \u001b[0mhad_mask_rand\u001b[0m\u001b[0;34m[\u001b[0m\u001b[0mt\u001b[0m\u001b[0;34m,\u001b[0m\u001b[0mtrue_rand\u001b[0m\u001b[0;34m]\u001b[0m\u001b[0;34m+\u001b[0m\u001b[0;36m1\u001b[0m\u001b[0;34m\u001b[0m\u001b[0;34m\u001b[0m\u001b[0m\n\u001b[0m\u001b[1;32m     13\u001b[0m \u001b[0;34m\u001b[0m\u001b[0m\n\u001b[1;32m     14\u001b[0m had_mask_rand = np.reshape(had_mask_rand,(had_mask_rand.shape[0],had_obs_data_full.shape[1],\n",
      "\u001b[0;31mIndexError\u001b[0m: index 192929 is out of bounds for axis 1 with size 6912"
     ]
    }
   ],
   "source": [
    "had_mask_rand = np.zeros_like((had_obs_full_2d.T))\n",
    "\n",
    "for t in range(1860):\n",
    "    true_inds = np.where(np.isfinite(np.reshape(had_obs_data_full[t,:,:],\n",
    "                                                (had_obs_data_full.shape[1]*had_obs_data_full.shape[2]))))\n",
    "    \n",
    "    if true_inds[0].shape[0]>200:\n",
    "        true_rand = random.sample(list(true_inds[0]),200)\n",
    "    else: \n",
    "        true_rand = true_inds[0]\n",
    "\n",
    "    had_mask_rand[t,true_rand] = had_mask_rand[t,true_rand]+1\n",
    "    \n",
    "had_mask_rand = np.reshape(had_mask_rand,(had_mask_rand.shape[0],had_obs_data_full.shape[1],\n",
    "                                          had_obs_data_full.shape[2]))\n",
    "had_mask_rand.shape"
   ]
  },
  {
   "cell_type": "code",
   "execution_count": 111,
   "metadata": {},
   "outputs": [
    {
     "ename": "IndexError",
     "evalue": "too many indices for array: array is 2-dimensional, but 3 were indexed",
     "output_type": "error",
     "traceback": [
      "\u001b[0;31m---------------------------------------------------------------------------\u001b[0m",
      "\u001b[0;31mIndexError\u001b[0m                                Traceback (most recent call last)",
      "\u001b[0;32m<ipython-input-111-5fb2ebfdfa0b>\u001b[0m in \u001b[0;36m<module>\u001b[0;34m()\u001b[0m\n\u001b[0;32m----> 1\u001b[0;31m \u001b[0mplt\u001b[0m\u001b[0;34m.\u001b[0m\u001b[0mpcolormesh\u001b[0m\u001b[0;34m(\u001b[0m\u001b[0mhad_mask_rand\u001b[0m\u001b[0;34m[\u001b[0m\u001b[0;36m100\u001b[0m\u001b[0;34m,\u001b[0m\u001b[0;34m:\u001b[0m\u001b[0;34m,\u001b[0m\u001b[0;34m:\u001b[0m\u001b[0;34m]\u001b[0m\u001b[0;34m)\u001b[0m\u001b[0;34m\u001b[0m\u001b[0;34m\u001b[0m\u001b[0m\n\u001b[0m",
      "\u001b[0;31mIndexError\u001b[0m: too many indices for array: array is 2-dimensional, but 3 were indexed"
     ]
    }
   ],
   "source": [
    "plt.pcolormesh(had_mask_rand[100,:,:])"
   ]
  },
  {
   "cell_type": "code",
   "execution_count": 136,
   "metadata": {},
   "outputs": [],
   "source": [
    "obs_mask = np.where(np.isfinite(had_obs_data_full[12*20:,:,:]),1,0)\n",
    "ntime = obs_mask.shape[0]"
   ]
  },
  {
   "cell_type": "code",
   "execution_count": 137,
   "metadata": {},
   "outputs": [],
   "source": [
    "fixed_obs_mask = np.where(np.sum(obs_mask,axis=0)>=ntime,1,0)"
   ]
  },
  {
   "cell_type": "code",
   "execution_count": 138,
   "metadata": {},
   "outputs": [
    {
     "data": {
      "text/plain": [
       "79"
      ]
     },
     "execution_count": 138,
     "metadata": {},
     "output_type": "execute_result"
    }
   ],
   "source": [
    "fixed_obs_mask.sum()"
   ]
  },
  {
   "cell_type": "code",
   "execution_count": 98,
   "metadata": {},
   "outputs": [
    {
     "data": {
      "text/plain": [
       "<matplotlib.collections.QuadMesh at 0x7f1afc606898>"
      ]
     },
     "execution_count": 98,
     "metadata": {},
     "output_type": "execute_result"
    },
    {
     "data": {
      "image/png": "[encoded data removed]",
      "text/plain": [
       "<Figure size 432x288 with 1 Axes>"
      ]
     },
     "metadata": {
      "needs_background": "light"
     },
     "output_type": "display_data"
    }
   ],
   "source": [
    "plt.pcolormesh(fixed_obs_mask)"
   ]
  },
  {
   "cell_type": "code",
   "execution_count": 150,
   "metadata": {},
   "outputs": [],
   "source": [
    "obsname = 'cmip6_mpi_hist_regridlme_Amon'\n",
    "obsdir = '/home/disk/p/mkb22/Documents/si_analysis_kb/Online_DA_monthly/observations/'\n",
    "#obsfilename = 'TAS_pseudo_obs_'+obsname+'_1851_2005.pkl'\n",
    "#obsfilename = 'Hadcrut_data_on_CESMLME_grid_NH.pkl'\n",
    "obsfilename = 'TAS_pseudo_obs_'+obsname+'_hadCRUT_locations_1851_2005.pkl'\n",
    "\n",
    "had_obs_data = pickle.load(open(obsdir+obsfilename,\"rb\"))\n",
    "\n",
    "#had_obs_data_full = had_obs_data['had_on_refgrid'][12:1872,:,:]\n",
    "had_obs_data_full = had_obs_data['observations']\n",
    "# had_obs_data_og = had_obs_data['observations']\n",
    "\n",
    "#Select obs mask from given timestep in Hadcrut to use throughout:\n",
    "# had_155_mask = np.where(np.isfinite(had_obs_data_og[:,:,150]),1,0)\n",
    "# had_obs_data_full = had_155_mask[:,:,np.newaxis]*np.nan_to_num(had_obs_data_og[:,:,:])\n",
    "# had_obs_data_full[np.logical_not(np.abs(had_obs_data_full)>0)]=np.nan\n",
    "\n",
    "had_obs_full_2d = np.reshape(had_obs_data_full, (had_obs_data_full.shape[0]*had_obs_data_full.shape[1],\n",
    "                                                had_obs_data_full.shape[2]))"
   ]
  },
  {
   "cell_type": "code",
   "execution_count": 151,
   "metadata": {},
   "outputs": [
    {
     "name": "stdout",
     "output_type": "stream",
     "text": [
      "# of obs = 79\n"
     ]
    }
   ],
   "source": [
    "obs_mask = np.where(np.isfinite(had_obs_data_full[:,:,12*20:]),1,0)\n",
    "ntime = obs_mask.shape[2]\n",
    "\n",
    "fixed_obs_mask = np.where(np.sum(obs_mask,axis=2)>=ntime,1,0)\n",
    "Nobs = fixed_obs_mask.sum()\n",
    "print('# of obs = '+str(Nobs))\n",
    "\n",
    "had_mask = np.ones((t_total,fixed_obs_mask.shape[0],fixed_obs_mask.shape[1]))*fixed_obs_mask[np.newaxis,:,:]"
   ]
  },
  {
   "cell_type": "code",
   "execution_count": 146,
   "metadata": {},
   "outputs": [],
   "source": [
    "had_mask_rand = np.zeros_like((had_obs_full_2d.T))\n",
    "\n",
    "for t in range(1860):\n",
    "    true_inds = np.where(np.isfinite(np.reshape(had_obs_data_full[:,:,t],\n",
    "                                                (had_obs_data_full.shape[1]*had_obs_data_full.shape[0]))))\n",
    "\n",
    "    if true_inds[0].shape[0]>=Nobs:\n",
    "        true_rand = random.sample(list(true_inds[0]),Nobs)\n",
    "    else: \n",
    "        true_rand = true_inds[0]\n",
    "\n",
    "    had_mask_rand[t,true_rand] = had_mask_rand[t,true_rand]+1\n",
    "\n",
    "had_mask = np.reshape(had_mask_rand,(had_mask_rand.shape[0],had_obs_data_full.shape[0],\n",
    "                                     had_obs_data_full.shape[1]))"
   ]
  },
  {
   "cell_type": "code",
   "execution_count": 147,
   "metadata": {},
   "outputs": [
    {
     "data": {
      "text/plain": [
       "(1860, 48, 144)"
      ]
     },
     "execution_count": 147,
     "metadata": {},
     "output_type": "execute_result"
    }
   ],
   "source": [
    "had_mask.shape"
   ]
  },
  {
   "cell_type": "code",
   "execution_count": 28,
   "metadata": {},
   "outputs": [],
   "source": [
    "nobs = np.zeros((1860))\n",
    "\n",
    "for t in range(1860):\n",
    "    nobs[t] = had_mask_rand[t,:,:].sum()"
   ]
  },
  {
   "cell_type": "code",
   "execution_count": 29,
   "metadata": {},
   "outputs": [
    {
     "data": {
      "text/plain": [
       "[<matplotlib.lines.Line2D at 0x7f1afc2289b0>]"
      ]
     },
     "execution_count": 29,
     "metadata": {},
     "output_type": "execute_result"
    },
    {
     "data": {
      "image/png": "[encoded data removed]",
      "text/plain": [
       "<Figure size 432x288 with 1 Axes>"
      ]
     },
     "metadata": {
      "needs_background": "light"
     },
     "output_type": "display_data"
    }
   ],
   "source": [
    "plt.plot(nobs)"
   ]
  },
  {
   "cell_type": "code",
   "execution_count": 30,
   "metadata": {},
   "outputs": [],
   "source": [
    "E3_all = np.zeros((ndof_total,neofs))\n",
    "ntrunc = 50\n",
    "\n",
    "for v,var in enumerate(limvars): \n",
    "    E3_all[LIMd['var_dict'][var]['var_inds'],\n",
    "           int(v*ntrunc):int((v+1)*ntrunc)] = LIMd['E3'][var]/np.sqrt(LIMd['standard_factor'][var])"
   ]
  },
  {
   "cell_type": "code",
   "execution_count": 31,
   "metadata": {},
   "outputs": [
    {
     "data": {
      "text/plain": [
       "(1860, 48, 144)"
      ]
     },
     "execution_count": 31,
     "metadata": {},
     "output_type": "execute_result"
    }
   ],
   "source": [
    "had_obs_data_full.shape"
   ]
  },
  {
   "cell_type": "markdown",
   "metadata": {},
   "source": [
    "## Initial timestep - Kalman Filtering: "
   ]
  },
  {
   "cell_type": "code",
   "execution_count": 32,
   "metadata": {},
   "outputs": [],
   "source": [
    "Xb = np.nan_to_num(Xb_initial_allt[:,-1])\n",
    "Pb = Pb_initial"
   ]
  },
  {
   "cell_type": "code",
   "execution_count": 33,
   "metadata": {},
   "outputs": [],
   "source": [
    "t = 0"
   ]
  },
  {
   "cell_type": "code",
   "execution_count": 34,
   "metadata": {},
   "outputs": [
    {
     "data": {
      "text/plain": [
       "(48, 144)"
      ]
     },
     "execution_count": 34,
     "metadata": {},
     "output_type": "execute_result"
    }
   ],
   "source": [
    "had_mask[0,:,:].shape"
   ]
  },
  {
   "cell_type": "code",
   "execution_count": 35,
   "metadata": {},
   "outputs": [
    {
     "data": {
      "text/plain": [
       "((1860, 48, 144), (1860, 48, 144))"
      ]
     },
     "execution_count": 35,
     "metadata": {},
     "output_type": "execute_result"
    }
   ],
   "source": [
    "had_mask.shape, had_mask_rand.shape"
   ]
  },
  {
   "cell_type": "code",
   "execution_count": 77,
   "metadata": {},
   "outputs": [],
   "source": [
    "H_cap, nobs, ndof = oda.build_H_time(had_mask_rand[0,:,:])\n",
    "\n",
    "H = np.zeros((nobs,ndof_total))\n",
    "H[:,0:6912] = H_cap"
   ]
  },
  {
   "cell_type": "code",
   "execution_count": 37,
   "metadata": {},
   "outputs": [
    {
     "ename": "NameError",
     "evalue": "name 'U' is not defined",
     "output_type": "error",
     "traceback": [
      "\u001b[0;31m---------------------------------------------------------------------------\u001b[0m",
      "\u001b[0;31mNameError\u001b[0m                                 Traceback (most recent call last)",
      "\u001b[0;32m<ipython-input-37-3ae6b25db3d7>\u001b[0m in \u001b[0;36m<module>\u001b[0;34m()\u001b[0m\n\u001b[0;32m----> 1\u001b[0;31m \u001b[0mH\u001b[0m\u001b[0;34m.\u001b[0m\u001b[0mshape\u001b[0m\u001b[0;34m,\u001b[0m \u001b[0mU\u001b[0m\u001b[0;34m.\u001b[0m\u001b[0mshape\u001b[0m\u001b[0;34m,\u001b[0m \u001b[0mnobs\u001b[0m\u001b[0;34m,\u001b[0m \u001b[0mhad_mask\u001b[0m\u001b[0;34m.\u001b[0m\u001b[0mshape\u001b[0m\u001b[0;34m\u001b[0m\u001b[0;34m\u001b[0m\u001b[0m\n\u001b[0m",
      "\u001b[0;31mNameError\u001b[0m: name 'U' is not defined"
     ]
    }
   ],
   "source": [
    "H.shape, U.shape, nobs, had_mask.shape"
   ]
  },
  {
   "cell_type": "code",
   "execution_count": 38,
   "metadata": {},
   "outputs": [
    {
     "data": {
      "text/plain": [
       "<matplotlib.collections.QuadMesh at 0x7f1afd64bb00>"
      ]
     },
     "execution_count": 38,
     "metadata": {},
     "output_type": "execute_result"
    },
    {
     "data": {
      "image/png": "[encoded data removed]",
      "text/plain": [
       "<Figure size 432x288 with 1 Axes>"
      ]
     },
     "metadata": {
      "needs_background": "light"
     },
     "output_type": "display_data"
    }
   ],
   "source": [
    "plt.pcolormesh(had_mask[0,:,:])"
   ]
  },
  {
   "cell_type": "code",
   "execution_count": 39,
   "metadata": {},
   "outputs": [],
   "source": [
    "U = E3_all\n",
    "H_eof = np.matmul(H,U)"
   ]
  },
  {
   "cell_type": "code",
   "execution_count": 40,
   "metadata": {},
   "outputs": [
    {
     "data": {
      "text/plain": [
       "((200, 300), (300, 1860), (35424, 300), (6912, 1860))"
      ]
     },
     "execution_count": 40,
     "metadata": {},
     "output_type": "execute_result"
    }
   ],
   "source": [
    "H_eof.shape, Xb_train_allt[:,-had_obs_full_2d.shape[1]:].shape, U.shape, had_obs_full_2d.shape"
   ]
  },
  {
   "cell_type": "code",
   "execution_count": 41,
   "metadata": {},
   "outputs": [],
   "source": [
    "## ---------------------------------------------------------\n",
    "## BUILD R: \n",
    "## ---------------------------------------------------------\n",
    "Hx = np.matmul(H_eof,Xb_train_allt[:,-had_obs_full_2d.shape[1]:])\n",
    "Hx_cap = np.matmul(H_cap,np.nan_to_num(had_obs_full_2d))"
   ]
  },
  {
   "cell_type": "code",
   "execution_count": 42,
   "metadata": {},
   "outputs": [
    {
     "data": {
      "text/plain": [
       "<matplotlib.legend.Legend at 0x7f1afd45f4e0>"
      ]
     },
     "execution_count": 42,
     "metadata": {},
     "output_type": "execute_result"
    },
    {
     "data": {
      "image/png": "[encoded data removed]",
      "text/plain": [
       "<Figure size 432x288 with 1 Axes>"
      ]
     },
     "metadata": {
      "needs_background": "light"
     },
     "output_type": "display_data"
    }
   ],
   "source": [
    "plt.plot(Hx_cap[0,:], label='lat/lon space')\n",
    "plt.plot(Hx[0,:], label='eof space')\n",
    "plt.legend()"
   ]
  },
  {
   "cell_type": "code",
   "execution_count": 43,
   "metadata": {},
   "outputs": [
    {
     "ename": "NameError",
     "evalue": "name 'epsilon' is not defined",
     "output_type": "error",
     "traceback": [
      "\u001b[0;31m---------------------------------------------------------------------------\u001b[0m",
      "\u001b[0;31mNameError\u001b[0m                                 Traceback (most recent call last)",
      "\u001b[0;32m<ipython-input-43-a07bcccc66ad>\u001b[0m in \u001b[0;36m<module>\u001b[0;34m()\u001b[0m\n\u001b[0;32m----> 1\u001b[0;31m \u001b[0mepsilon\u001b[0m\u001b[0;34m.\u001b[0m\u001b[0mshape\u001b[0m\u001b[0;34m,\u001b[0m \u001b[0mHx\u001b[0m\u001b[0;34m.\u001b[0m\u001b[0mshape\u001b[0m\u001b[0;34m\u001b[0m\u001b[0;34m\u001b[0m\u001b[0m\n\u001b[0m",
      "\u001b[0;31mNameError\u001b[0m: name 'epsilon' is not defined"
     ]
    }
   ],
   "source": [
    "epsilon.shape, Hx.shape"
   ]
  },
  {
   "cell_type": "code",
   "execution_count": 44,
   "metadata": {},
   "outputs": [],
   "source": [
    "epsilon = Hx_cap - Hx\n",
    "\n",
    "slope = np.zeros(Hx.shape[0])\n",
    "for i in range(Hx.shape[0]):\n",
    "    slope[i],_,_,_,_ = spy.linregress(Hx[i,:],epsilon[i,:])\n",
    "e = epsilon - slope[:,np.newaxis]*Hx\n",
    "\n",
    "R = np.matmul(epsilon,epsilon.T)/(epsilon.shape[1]-1)\n",
    "R_e = np.matmul(e,e.T)/(e.shape[1]-1)"
   ]
  },
  {
   "cell_type": "code",
   "execution_count": 73,
   "metadata": {},
   "outputs": [
    {
     "data": {
      "text/plain": [
       "(1.4559876609005287, 3.2241499593033587)"
      ]
     },
     "execution_count": 73,
     "metadata": {},
     "output_type": "execute_result"
    }
   ],
   "source": [
    "np.mean(np.diag(R_e)), np.mean(np.diag(R))"
   ]
  },
  {
   "cell_type": "code",
   "execution_count": 74,
   "metadata": {},
   "outputs": [
    {
     "data": {
      "text/plain": [
       "(0.1713669110258304, 0.29211210975731916)"
      ]
     },
     "execution_count": 74,
     "metadata": {},
     "output_type": "execute_result"
    }
   ],
   "source": [
    "np.min(np.diag(R_e)), np.min(np.diag(R))"
   ]
  },
  {
   "cell_type": "code",
   "execution_count": 75,
   "metadata": {},
   "outputs": [
    {
     "data": {
      "text/plain": [
       "(9.066625057788084, 18.62245932563709)"
      ]
     },
     "execution_count": 75,
     "metadata": {},
     "output_type": "execute_result"
    }
   ],
   "source": [
    "np.max(np.diag(R_e)), np.max(np.diag(R))"
   ]
  },
  {
   "cell_type": "code",
   "execution_count": 72,
   "metadata": {},
   "outputs": [
    {
     "data": {
      "text/plain": [
       "(0, 2.5)"
      ]
     },
     "execution_count": 72,
     "metadata": {},
     "output_type": "execute_result"
    },
    {
     "data": {
      "image/png": "[encoded data removed]",
      "text/plain": [
       "<Figure size 432x288 with 1 Axes>"
      ]
     },
     "metadata": {
      "needs_background": "light"
     },
     "output_type": "display_data"
    }
   ],
   "source": [
    "plt.plot(np.diag(R_e))\n",
    "plt.plot(np.diag(R))\n",
    "plt.ylim(0,2.5)"
   ]
  },
  {
   "cell_type": "code",
   "execution_count": 46,
   "metadata": {},
   "outputs": [
    {
     "data": {
      "text/plain": [
       "<matplotlib.legend.Legend at 0x7f1afd365ef0>"
      ]
     },
     "execution_count": 46,
     "metadata": {},
     "output_type": "execute_result"
    },
    {
     "data": {
      "image/png": "[encoded data removed]",
      "text/plain": [
       "<Figure size 432x288 with 1 Axes>"
      ]
     },
     "metadata": {
      "needs_background": "light"
     },
     "output_type": "display_data"
    }
   ],
   "source": [
    "plt.scatter(Hx[:,0],epsilon[:,0],label='control-R')\n",
    "plt.scatter(Hx[:,0],e[:,0],label='regression-R')\n",
    "plt.legend()"
   ]
  },
  {
   "cell_type": "code",
   "execution_count": 47,
   "metadata": {},
   "outputs": [
    {
     "data": {
      "text/plain": [
       "<matplotlib.legend.Legend at 0x7f1afd296710>"
      ]
     },
     "execution_count": 47,
     "metadata": {},
     "output_type": "execute_result"
    },
    {
     "data": {
      "image/png": "[encoded data removed]",
      "text/plain": [
       "<Figure size 432x288 with 1 Axes>"
      ]
     },
     "metadata": {
      "needs_background": "light"
     },
     "output_type": "display_data"
    }
   ],
   "source": [
    "plt.scatter(Hx[0,:],epsilon[0,:],label='control-R')\n",
    "plt.scatter(Hx[0,:],e[0,:],label='regression-R')\n",
    "plt.legend()"
   ]
  },
  {
   "cell_type": "code",
   "execution_count": 48,
   "metadata": {},
   "outputs": [],
   "source": [
    "R_hack = R_e\n",
    "H_final = H_eof\n",
    "\n",
    "Y = np.matmul(H_cap,np.nan_to_num(had_obs_full_2d[:,t]))\n",
    "\n",
    "# obs['obs'] = Y\n",
    "# #     obs['obs_lat'] = obs_lat\n",
    "# #     obs['obs_lon'] = obs_lon\n",
    "# obs_assimilated[t] = obs"
   ]
  },
  {
   "cell_type": "code",
   "execution_count": 153,
   "metadata": {},
   "outputs": [
    {
     "data": {
      "text/plain": [
       "(200, 6912)"
      ]
     },
     "execution_count": 153,
     "metadata": {},
     "output_type": "execute_result"
    }
   ],
   "source": [
    "H_cap.shape"
   ]
  },
  {
   "cell_type": "code",
   "execution_count": 154,
   "metadata": {},
   "outputs": [],
   "source": [
    "Xa, K, K_den, diff = oda.solver_KF_update(Xb, Pb, Y, R_hack, H_final)"
   ]
  },
  {
   "cell_type": "code",
   "execution_count": 155,
   "metadata": {},
   "outputs": [
    {
     "data": {
      "text/plain": [
       "(9.066625057788084, -2.145091354142283)"
      ]
     },
     "execution_count": 155,
     "metadata": {},
     "output_type": "execute_result"
    }
   ],
   "source": [
    "R_hack.max(), R_hack.min(), "
   ]
  },
  {
   "cell_type": "code",
   "execution_count": 77,
   "metadata": {},
   "outputs": [
    {
     "data": {
      "text/plain": [
       "(0.22796173103772252, -0.06662518417607564)"
      ]
     },
     "execution_count": 77,
     "metadata": {},
     "output_type": "execute_result"
    }
   ],
   "source": [
    "Pb.max(), Pb.min()"
   ]
  },
  {
   "cell_type": "code",
   "execution_count": 160,
   "metadata": {},
   "outputs": [],
   "source": [
    "Pa = oda.solver_KF_cov(K,H_final,Pb)"
   ]
  },
  {
   "cell_type": "code",
   "execution_count": 161,
   "metadata": {},
   "outputs": [
    {
     "data": {
      "text/plain": [
       "(300, 300)"
      ]
     },
     "execution_count": 161,
     "metadata": {},
     "output_type": "execute_result"
    }
   ],
   "source": [
    "Pa.shape"
   ]
  },
  {
   "cell_type": "code",
   "execution_count": 167,
   "metadata": {},
   "outputs": [
    {
     "data": {
      "text/plain": [
       "<matplotlib.collections.QuadMesh at 0x7f6a0a374710>"
      ]
     },
     "execution_count": 167,
     "metadata": {},
     "output_type": "execute_result"
    },
    {
     "data": {
      "image/png": "[encoded data removed]",
      "text/plain": [
       "<Figure size 432x288 with 1 Axes>"
      ]
     },
     "metadata": {
      "needs_background": "light"
     },
     "output_type": "display_data"
    }
   ],
   "source": [
    "inflation = np.ones_like(Pa)\n",
    "inflation[-50:,-50:] = inflation[-50:,-50:]*2\n",
    "plt.pcolormesh(inflation)"
   ]
  },
  {
   "cell_type": "code",
   "execution_count": 79,
   "metadata": {},
   "outputs": [
    {
     "name": "stdout",
     "output_type": "stream",
     "text": [
      "Prior MSE     = 10.65799463960186\n",
      "Posterior MSE = 2.074896474000992\n"
     ]
    }
   ],
   "source": [
    "mse_xb = np.nanmean(diff**2)\n",
    "mse_xa = np.nanmean((Y - np.matmul(H_final,Xa))**2)\n",
    "print('Prior MSE     = '+str(mse_xb))\n",
    "print('Posterior MSE = '+str(mse_xa))"
   ]
  },
  {
   "cell_type": "code",
   "execution_count": 80,
   "metadata": {},
   "outputs": [
    {
     "data": {
      "text/plain": [
       "<matplotlib.legend.Legend at 0x7f7f10294668>"
      ]
     },
     "execution_count": 80,
     "metadata": {},
     "output_type": "execute_result"
    },
    {
     "data": {
      "image/png": "[encoded data removed]",
      "text/plain": [
       "<Figure size 432x288 with 1 Axes>"
      ]
     },
     "metadata": {
      "needs_background": "light"
     },
     "output_type": "display_data"
    }
   ],
   "source": [
    "plt.plot(Xb, label='prior',zorder=1)\n",
    "plt.plot(Xa, label = 'posterior',zorder=0)\n",
    "plt.legend()"
   ]
  },
  {
   "cell_type": "markdown",
   "metadata": {},
   "source": [
    "## Forecast Step: "
   ]
  },
  {
   "cell_type": "code",
   "execution_count": 81,
   "metadata": {},
   "outputs": [
    {
     "name": "stdout",
     "output_type": "stream",
     "text": [
      "Adjust is False...\n",
      "lag= 1\n"
     ]
    }
   ],
   "source": [
    "LIM_Xfcast = oda.LIM_forecast(LIMd,Xa,Pa,1,adjust=False)"
   ]
  },
  {
   "cell_type": "code",
   "execution_count": 126,
   "metadata": {},
   "outputs": [
    {
     "data": {
      "text/plain": [
       "5.336998019425282"
      ]
     },
     "execution_count": 126,
     "metadata": {},
     "output_type": "execute_result"
    }
   ],
   "source": [
    "np.trace(LIM_Xfcast['cov_forecast'])"
   ]
  },
  {
   "cell_type": "code",
   "execution_count": 82,
   "metadata": {},
   "outputs": [
    {
     "name": "stdout",
     "output_type": "stream",
     "text": [
      "R = 9.066625057788084\n",
      "HPbHT = 12.268170464605335\n"
     ]
    }
   ],
   "source": [
    "print('R = '+str(R_hack.max()))\n",
    "print('HPbHT = '+str(np.max(np.matmul(np.matmul(H_final,Pb),H_final.T))))"
   ]
  },
  {
   "cell_type": "code",
   "execution_count": 83,
   "metadata": {},
   "outputs": [
    {
     "data": {
      "text/plain": [
       "<matplotlib.legend.Legend at 0x7f7f101eeba8>"
      ]
     },
     "execution_count": 83,
     "metadata": {},
     "output_type": "execute_result"
    },
    {
     "data": {
      "image/png": "[encoded data removed]",
      "text/plain": [
       "<Figure size 432x288 with 1 Axes>"
      ]
     },
     "metadata": {
      "needs_background": "light"
     },
     "output_type": "display_data"
    }
   ],
   "source": [
    "plt.plot(LIM_Xfcast['x_forecast'], label='forecast')\n",
    "plt.plot(Xa, label = 'posterior')\n",
    "plt.legend()"
   ]
  },
  {
   "cell_type": "code",
   "execution_count": 157,
   "metadata": {},
   "outputs": [
    {
     "data": {
      "text/plain": [
       "<matplotlib.legend.Legend at 0x7f1848d467b8>"
      ]
     },
     "execution_count": 157,
     "metadata": {},
     "output_type": "execute_result"
    },
    {
     "data": {
      "image/png": "[encoded data removed]",
      "text/plain": [
       "<Figure size 432x288 with 1 Axes>"
      ]
     },
     "metadata": {
      "needs_background": "light"
     },
     "output_type": "display_data"
    }
   ],
   "source": [
    "plt.plot(LIM_Xfcast['cov_forecast'][0,:], label='forecast')\n",
    "plt.plot(Pa[0,:], label = 'posterior')\n",
    "plt.legend()"
   ]
  },
  {
   "cell_type": "markdown",
   "metadata": {},
   "source": [
    "### Project HadCRUT data into EOF space: "
   ]
  },
  {
   "cell_type": "code",
   "execution_count": 90,
   "metadata": {},
   "outputs": [],
   "source": [
    "eofs_out = LIMd['E3']['tas']/LIMd['standard_factor']['tas']\n",
    "P_var = np.matmul(eofs_out.T, (LIMd['W_all']['tas'][:,np.newaxis]*np.nan_to_num(had_obs_full_2d)))\n",
    "Ptrunc = P_var/LIMd['standard_factor']['tas']"
   ]
  },
  {
   "cell_type": "code",
   "execution_count": 92,
   "metadata": {},
   "outputs": [
    {
     "data": {
      "text/plain": [
       "[<matplotlib.lines.Line2D at 0x7f1855877dd8>]"
      ]
     },
     "execution_count": 92,
     "metadata": {},
     "output_type": "execute_result"
    },
    {
     "data": {
      "image/png": "[encoded data removed]",
      "text/plain": [
       "<Figure size 432x288 with 1 Axes>"
      ]
     },
     "metadata": {
      "needs_background": "light"
     },
     "output_type": "display_data"
    }
   ],
   "source": [
    "plt.plot(Ptrunc[0,:])"
   ]
  },
  {
   "cell_type": "code",
   "execution_count": 106,
   "metadata": {},
   "outputs": [
    {
     "data": {
      "text/plain": [
       "((300, 1860), (50, 1860), (6912, 50), (6912, 1860))"
      ]
     },
     "execution_count": 106,
     "metadata": {},
     "output_type": "execute_result"
    }
   ],
   "source": [
    "Xb_valid_allt.shape, Ptrunc.shape, eofs_out.shape, had_obs_full_2d.shape"
   ]
  },
  {
   "cell_type": "code",
   "execution_count": 98,
   "metadata": {},
   "outputs": [],
   "source": [
    "Hadcrut_eofs = np.zeros_like(Xb_valid_allt)\n",
    "Hadcrut_eofs[0:50,:] = Ptrunc"
   ]
  },
  {
   "cell_type": "code",
   "execution_count": 101,
   "metadata": {},
   "outputs": [
    {
     "data": {
      "text/plain": [
       "(239, 1860)"
      ]
     },
     "execution_count": 101,
     "metadata": {},
     "output_type": "execute_result"
    }
   ],
   "source": [
    "epsilon.shape"
   ]
  },
  {
   "cell_type": "code",
   "execution_count": 104,
   "metadata": {},
   "outputs": [
    {
     "data": {
      "text/plain": [
       "[<matplotlib.lines.Line2D at 0x7f18526cb518>]"
      ]
     },
     "execution_count": 104,
     "metadata": {},
     "output_type": "execute_result"
    },
    {
     "data": {
      "image/png": "[encoded data removed]",
      "text/plain": [
       "<Figure size 432x288 with 1 Axes>"
      ]
     },
     "metadata": {
      "needs_background": "light"
     },
     "output_type": "display_data"
    }
   ],
   "source": [
    "plt.plot(epsilon[100,:])"
   ]
  },
  {
   "cell_type": "code",
   "execution_count": 56,
   "metadata": {},
   "outputs": [],
   "source": [
    "t=1"
   ]
  },
  {
   "cell_type": "code",
   "execution_count": 99,
   "metadata": {},
   "outputs": [],
   "source": [
    "Xb_initial = LIM_Xfcast['x_forecast']\n",
    "Pb = LIM_Xfcast['cov_forecast']\n",
    "\n",
    "H_cap, nobs, ndof = oda.build_H_time(had_mask[t,:,:])\n",
    "\n",
    "H = np.zeros((nobs,ndof_total))\n",
    "H[:,0:6912] = H_cap\n",
    "H_eof = np.matmul(H,U)\n",
    "\n",
    "Hx = np.matmul(H_eof,Hadcrut_eofs)\n",
    "Hx_cap = np.matmul(H_cap,np.nan_to_num(had_obs_full_2d))\n",
    "\n",
    "epsilon = Hx_cap - Hx\n",
    "R = np.matmul(epsilon,epsilon.T)/(epsilon.shape[0]-1)\n",
    "\n",
    "Y = np.matmul(H_cap,np.nan_to_num(had_obs_full_2d[:,t]))"
   ]
  },
  {
   "cell_type": "code",
   "execution_count": 58,
   "metadata": {},
   "outputs": [],
   "source": [
    "Xa, K, K_den, diff = oda.solver_KF_update(Xb_initial, Pb, Y, R, H_eof)"
   ]
  },
  {
   "cell_type": "code",
   "execution_count": 59,
   "metadata": {},
   "outputs": [
    {
     "data": {
      "text/plain": [
       "((239, 6912), (239, 300), (300, 300), (259, 259))"
      ]
     },
     "execution_count": 59,
     "metadata": {},
     "output_type": "execute_result"
    }
   ],
   "source": [
    "H_cap.shape, H_eof.shape, Pb.shape, R_hack.shape"
   ]
  },
  {
   "cell_type": "code",
   "execution_count": 60,
   "metadata": {},
   "outputs": [],
   "source": [
    "Pa = oda.solver_KF_cov(K,H_eof,Pb)"
   ]
  },
  {
   "cell_type": "code",
   "execution_count": 61,
   "metadata": {},
   "outputs": [
    {
     "name": "stdout",
     "output_type": "stream",
     "text": [
      "Prior MSE     = 4.795213884508432\n",
      "Posterior MSE = 3.3771619484752313\n"
     ]
    }
   ],
   "source": [
    "mse_xb = np.nanmean(diff**2)\n",
    "mse_xa = np.nanmean((Y - np.matmul(H_eof/100,Xa))**2)\n",
    "print('Prior MSE     = '+str(mse_xb))\n",
    "print('Posterior MSE = '+str(mse_xa))"
   ]
  },
  {
   "cell_type": "code",
   "execution_count": 195,
   "metadata": {},
   "outputs": [
    {
     "name": "stdout",
     "output_type": "stream",
     "text": [
      "Median Ratio = 0.0002798221727003975\n",
      "Mean Ratio = 0.0008543963002324987\n"
     ]
    }
   ],
   "source": [
    "diffcov = np.dot(diff[:,np.newaxis],diff[:,np.newaxis].T)/diff.shape[0]\n",
    "ratio = (np.diagonal(diffcov)/np.diagonal(K_den))\n",
    "print('Median Ratio = '+str(np.median(ratio)))\n",
    "print('Mean Ratio = '+str(np.mean(ratio)))"
   ]
  },
  {
   "cell_type": "code",
   "execution_count": null,
   "metadata": {},
   "outputs": [],
   "source": []
  },
  {
   "cell_type": "code",
   "execution_count": null,
   "metadata": {},
   "outputs": [],
   "source": []
  },
  {
   "cell_type": "code",
   "execution_count": null,
   "metadata": {},
   "outputs": [],
   "source": []
  },
  {
   "cell_type": "code",
   "execution_count": null,
   "metadata": {},
   "outputs": [],
   "source": []
  },
  {
   "cell_type": "code",
   "execution_count": null,
   "metadata": {},
   "outputs": [],
   "source": []
  },
  {
   "cell_type": "code",
   "execution_count": null,
   "metadata": {},
   "outputs": [],
   "source": []
  },
  {
   "cell_type": "code",
   "execution_count": null,
   "metadata": {},
   "outputs": [],
   "source": []
  },
  {
   "cell_type": "code",
   "execution_count": null,
   "metadata": {},
   "outputs": [],
   "source": []
  },
  {
   "cell_type": "code",
   "execution_count": null,
   "metadata": {},
   "outputs": [],
   "source": []
  }
 ],
 "metadata": {
  "kernelspec": {
   "display_name": "Python 3",
   "language": "python",
   "name": "python3"
  },
  "language_info": {
   "codemirror_mode": {
    "name": "ipython",
    "version": 3
   },
   "file_extension": ".py",
   "mimetype": "text/x-python",
   "name": "python",
   "nbconvert_exporter": "python",
   "pygments_lexer": "ipython3",
   "version": "3.6.10"
  }
 },
 "nbformat": 4,
 "nbformat_minor": 2
}
